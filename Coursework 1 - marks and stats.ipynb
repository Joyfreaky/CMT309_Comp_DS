{
 "cells": [
  {
   "cell_type": "code",
   "execution_count": 1,
   "metadata": {
    "id": "81pByhaf03de"
   },
   "outputs": [
    {
     "name": "stdout",
     "output_type": "stream",
     "text": [
      "Fetching https://drive.google.com/uc?export=view&id=1Ayzzptr4xQmSGSahhzanAlAyw4HtrV0j\n"
     ]
    }
   ],
   "source": [
    "import seaborn as sns\n",
    "import matplotlib.pyplot as plt\n",
    "import pandas as pd\n",
    "import plotly.express as px\n",
    "from urllib import request\n",
    "module_url = f\"https://drive.google.com/uc?export=view&id=1Ayzzptr4xQmSGSahhzanAlAyw4HtrV0j\"\n",
    "module_name = 'cmt309_314_coursework1_marks.csv'\n",
    "print(f'Fetching {module_url}')\n",
    "with request.urlopen(module_url) as f, open(module_name,'w') as outf:\n",
    "  a = f.read()\n",
    "  outf.write(a.decode('utf-8'))\n",
    "df = pd.read_csv('cmt309_314_coursework1_marks.csv')"
   ]
  },
  {
   "cell_type": "code",
   "execution_count": 2,
   "metadata": {
    "colab": {
     "base_uri": "https://localhost:8080/",
     "height": 206
    },
    "executionInfo": {
     "elapsed": 236,
     "status": "ok",
     "timestamp": 1644022153786,
     "user": {
      "displayName": "Oktay Karakuş",
      "photoUrl": "https://lh3.googleusercontent.com/a/default-user=s64",
      "userId": "07357612204679807063"
     },
     "user_tz": 0
    },
    "id": "XkaZQGku1H2G",
    "outputId": "5dcc4355-d97d-4420-ef5b-5c5edeec33c4"
   },
   "outputs": [
    {
     "data": {
      "text/html": [
       "<div>\n",
       "<style scoped>\n",
       "    .dataframe tbody tr th:only-of-type {\n",
       "        vertical-align: middle;\n",
       "    }\n",
       "\n",
       "    .dataframe tbody tr th {\n",
       "        vertical-align: top;\n",
       "    }\n",
       "\n",
       "    .dataframe thead th {\n",
       "        text-align: right;\n",
       "    }\n",
       "</style>\n",
       "<table border=\"1\" class=\"dataframe\">\n",
       "  <thead>\n",
       "    <tr style=\"text-align: right;\">\n",
       "      <th></th>\n",
       "      <th>Number</th>\n",
       "      <th>Module</th>\n",
       "      <th>Q1.a</th>\n",
       "      <th>Q1.b</th>\n",
       "      <th>Q2</th>\n",
       "      <th>Q3</th>\n",
       "      <th>Total</th>\n",
       "    </tr>\n",
       "  </thead>\n",
       "  <tbody>\n",
       "    <tr>\n",
       "      <th>0</th>\n",
       "      <td>c21066841</td>\n",
       "      <td>CMT309</td>\n",
       "      <td>20</td>\n",
       "      <td>17</td>\n",
       "      <td>30.0</td>\n",
       "      <td>15.0</td>\n",
       "      <td>82.0</td>\n",
       "    </tr>\n",
       "    <tr>\n",
       "      <th>1</th>\n",
       "      <td>c21079565</td>\n",
       "      <td>CMT309</td>\n",
       "      <td>18</td>\n",
       "      <td>20</td>\n",
       "      <td>29.5</td>\n",
       "      <td>16.0</td>\n",
       "      <td>83.5</td>\n",
       "    </tr>\n",
       "    <tr>\n",
       "      <th>2</th>\n",
       "      <td>c21096546</td>\n",
       "      <td>CMT309</td>\n",
       "      <td>15</td>\n",
       "      <td>11</td>\n",
       "      <td>18.0</td>\n",
       "      <td>14.0</td>\n",
       "      <td>58.0</td>\n",
       "    </tr>\n",
       "    <tr>\n",
       "      <th>3</th>\n",
       "      <td>c1721659</td>\n",
       "      <td>CMT309</td>\n",
       "      <td>2</td>\n",
       "      <td>0</td>\n",
       "      <td>2.0</td>\n",
       "      <td>5.0</td>\n",
       "      <td>9.0</td>\n",
       "    </tr>\n",
       "    <tr>\n",
       "      <th>4</th>\n",
       "      <td>c2099034</td>\n",
       "      <td>CMT309</td>\n",
       "      <td>0</td>\n",
       "      <td>0</td>\n",
       "      <td>0.0</td>\n",
       "      <td>0.0</td>\n",
       "      <td>0.0</td>\n",
       "    </tr>\n",
       "  </tbody>\n",
       "</table>\n",
       "</div>"
      ],
      "text/plain": [
       "      Number  Module  Q1.a  Q1.b    Q2    Q3  Total\n",
       "0  c21066841  CMT309    20    17  30.0  15.0   82.0\n",
       "1  c21079565  CMT309    18    20  29.5  16.0   83.5\n",
       "2  c21096546  CMT309    15    11  18.0  14.0   58.0\n",
       "3   c1721659  CMT309     2     0   2.0   5.0    9.0\n",
       "4   c2099034  CMT309     0     0   0.0   0.0    0.0"
      ]
     },
     "execution_count": 2,
     "metadata": {},
     "output_type": "execute_result"
    }
   ],
   "source": [
    "df.head(5)"
   ]
  },
  {
   "cell_type": "code",
   "execution_count": 3,
   "metadata": {
    "colab": {
     "base_uri": "https://localhost:8080/",
     "height": 49
    },
    "executionInfo": {
     "elapsed": 180,
     "status": "ok",
     "timestamp": 1644022156742,
     "user": {
      "displayName": "Oktay Karakuş",
      "photoUrl": "https://lh3.googleusercontent.com/a/default-user=s64",
      "userId": "07357612204679807063"
     },
     "user_tz": 0
    },
    "id": "6jBte0Gw3ZHe",
    "outputId": "4bccbba1-a435-4692-f811-2be7614aacaf"
   },
   "outputs": [
    {
     "data": {
      "text/html": [
       "<div>\n",
       "<style scoped>\n",
       "    .dataframe tbody tr th:only-of-type {\n",
       "        vertical-align: middle;\n",
       "    }\n",
       "\n",
       "    .dataframe tbody tr th {\n",
       "        vertical-align: top;\n",
       "    }\n",
       "\n",
       "    .dataframe thead th {\n",
       "        text-align: right;\n",
       "    }\n",
       "</style>\n",
       "<table border=\"1\" class=\"dataframe\">\n",
       "  <thead>\n",
       "    <tr style=\"text-align: right;\">\n",
       "      <th></th>\n",
       "      <th>Number</th>\n",
       "      <th>Module</th>\n",
       "      <th>Q1.a</th>\n",
       "      <th>Q1.b</th>\n",
       "      <th>Q2</th>\n",
       "      <th>Q3</th>\n",
       "      <th>Total</th>\n",
       "    </tr>\n",
       "  </thead>\n",
       "  <tbody>\n",
       "    <tr>\n",
       "      <th>19</th>\n",
       "      <td>c21099797</td>\n",
       "      <td>CMT309</td>\n",
       "      <td>0</td>\n",
       "      <td>0</td>\n",
       "      <td>25.0</td>\n",
       "      <td>5.0</td>\n",
       "      <td>30.0</td>\n",
       "    </tr>\n",
       "  </tbody>\n",
       "</table>\n",
       "</div>"
      ],
      "text/plain": [
       "       Number  Module  Q1.a  Q1.b    Q2   Q3  Total\n",
       "19  c21099797  CMT309     0     0  25.0  5.0   30.0"
      ]
     },
     "execution_count": 3,
     "metadata": {},
     "output_type": "execute_result"
    }
   ],
   "source": [
    "# Find your mark\n",
    "your_number = 'c21099797' # replace the empty string with your number 'c00000000'\n",
    "df[df['Number'] == your_number]"
   ]
  },
  {
   "cell_type": "code",
   "execution_count": 4,
   "metadata": {
    "colab": {
     "base_uri": "https://localhost:8080/",
     "height": 143
    },
    "executionInfo": {
     "elapsed": 205,
     "status": "ok",
     "timestamp": 1644022160013,
     "user": {
      "displayName": "Oktay Karakuş",
      "photoUrl": "https://lh3.googleusercontent.com/a/default-user=s64",
      "userId": "07357612204679807063"
     },
     "user_tz": 0
    },
    "id": "nFHF58T_4wSu",
    "outputId": "b0714310-6667-4316-891d-8ff2f115fe12"
   },
   "outputs": [
    {
     "data": {
      "text/html": [
       "<div>\n",
       "<style scoped>\n",
       "    .dataframe tbody tr th:only-of-type {\n",
       "        vertical-align: middle;\n",
       "    }\n",
       "\n",
       "    .dataframe tbody tr th {\n",
       "        vertical-align: top;\n",
       "    }\n",
       "\n",
       "    .dataframe thead th {\n",
       "        text-align: right;\n",
       "    }\n",
       "</style>\n",
       "<table border=\"1\" class=\"dataframe\">\n",
       "  <thead>\n",
       "    <tr style=\"text-align: right;\">\n",
       "      <th></th>\n",
       "      <th>Q1.a</th>\n",
       "      <th>Q1.b</th>\n",
       "      <th>Q2</th>\n",
       "      <th>Q3</th>\n",
       "      <th>Total</th>\n",
       "    </tr>\n",
       "  </thead>\n",
       "  <tbody>\n",
       "    <tr>\n",
       "      <th>mean</th>\n",
       "      <td>15.669604</td>\n",
       "      <td>14.149780</td>\n",
       "      <td>25.614537</td>\n",
       "      <td>17.916290</td>\n",
       "      <td>73.543040</td>\n",
       "    </tr>\n",
       "    <tr>\n",
       "      <th>median</th>\n",
       "      <td>18.000000</td>\n",
       "      <td>16.000000</td>\n",
       "      <td>28.000000</td>\n",
       "      <td>19.000000</td>\n",
       "      <td>79.000000</td>\n",
       "    </tr>\n",
       "    <tr>\n",
       "      <th>std</th>\n",
       "      <td>5.470039</td>\n",
       "      <td>6.322074</td>\n",
       "      <td>7.421573</td>\n",
       "      <td>7.560875</td>\n",
       "      <td>22.271063</td>\n",
       "    </tr>\n",
       "  </tbody>\n",
       "</table>\n",
       "</div>"
      ],
      "text/plain": [
       "             Q1.a       Q1.b         Q2         Q3      Total\n",
       "mean    15.669604  14.149780  25.614537  17.916290  73.543040\n",
       "median  18.000000  16.000000  28.000000  19.000000  79.000000\n",
       "std      5.470039   6.322074   7.421573   7.560875  22.271063"
      ]
     },
     "execution_count": 4,
     "metadata": {},
     "output_type": "execute_result"
    }
   ],
   "source": [
    "# Create a dataframe for overall class statistics\n",
    "df.loc[:,'Q1.a':].agg(['mean', 'median', 'std'])"
   ]
  },
  {
   "cell_type": "code",
   "execution_count": 5,
   "metadata": {
    "colab": {
     "base_uri": "https://localhost:8080/",
     "height": 174
    },
    "executionInfo": {
     "elapsed": 181,
     "status": "ok",
     "timestamp": 1644022046176,
     "user": {
      "displayName": "Oktay Karakuş",
      "photoUrl": "https://lh3.googleusercontent.com/a/default-user=s64",
      "userId": "07357612204679807063"
     },
     "user_tz": 0
    },
    "id": "l3scfEIFL-9t",
    "outputId": "b0af2cd9-173a-47ee-a88b-785db739d0c0"
   },
   "outputs": [
    {
     "name": "stderr",
     "output_type": "stream",
     "text": [
      "/Users/joydipb/opt/anaconda3/lib/python3.8/site-packages/pandas/core/computation/expressions.py:177: UserWarning: evaluating in Python space because the '*' operator is not supported by numexpr for the bool dtype, use '&' instead\n",
      "  warnings.warn(\n"
     ]
    },
    {
     "data": {
      "text/html": [
       "<div>\n",
       "<style scoped>\n",
       "    .dataframe tbody tr th:only-of-type {\n",
       "        vertical-align: middle;\n",
       "    }\n",
       "\n",
       "    .dataframe tbody tr th {\n",
       "        vertical-align: top;\n",
       "    }\n",
       "\n",
       "    .dataframe thead th {\n",
       "        text-align: right;\n",
       "    }\n",
       "</style>\n",
       "<table border=\"1\" class=\"dataframe\">\n",
       "  <thead>\n",
       "    <tr style=\"text-align: right;\">\n",
       "      <th></th>\n",
       "      <th>Mark</th>\n",
       "      <th>Num Students</th>\n",
       "      <th>Percentage</th>\n",
       "    </tr>\n",
       "  </thead>\n",
       "  <tbody>\n",
       "    <tr>\n",
       "      <th>0</th>\n",
       "      <td>Fail</td>\n",
       "      <td>23</td>\n",
       "      <td>10.132159</td>\n",
       "    </tr>\n",
       "    <tr>\n",
       "      <th>1</th>\n",
       "      <td>Pass</td>\n",
       "      <td>9</td>\n",
       "      <td>3.964758</td>\n",
       "    </tr>\n",
       "    <tr>\n",
       "      <th>2</th>\n",
       "      <td>Merit</td>\n",
       "      <td>33</td>\n",
       "      <td>14.537445</td>\n",
       "    </tr>\n",
       "    <tr>\n",
       "      <th>3</th>\n",
       "      <td>Distinction</td>\n",
       "      <td>162</td>\n",
       "      <td>71.365639</td>\n",
       "    </tr>\n",
       "  </tbody>\n",
       "</table>\n",
       "</div>"
      ],
      "text/plain": [
       "          Mark  Num Students  Percentage\n",
       "0         Fail            23   10.132159\n",
       "1         Pass             9    3.964758\n",
       "2        Merit            33   14.537445\n",
       "3  Distinction           162   71.365639"
      ]
     },
     "execution_count": 5,
     "metadata": {},
     "output_type": "execute_result"
    }
   ],
   "source": [
    "# Distribution of studens based on Mark\n",
    "d = {'Fail':[0, 50], 'Pass':[50, 60], 'Merit':[60, 70], 'Distinction':[70, 100.1]}\n",
    "perf = pd.DataFrame({'Mark':['Fail', 'Pass', 'Merit', 'Distinction']})\n",
    "perf['Num Students'] = 0\n",
    "for key, value in d.items():\n",
    "    perf.loc[perf['Mark'] == key,'Num Students'] = df[(df['Total']>=value[0])*(df['Total']<value[1])]['Total'].agg(['count']).values[0]\n",
    "perf['Percentage'] = 100*perf['Num Students']/perf['Num Students'].sum()\n",
    "perf"
   ]
  },
  {
   "cell_type": "code",
   "execution_count": 82,
   "metadata": {
    "colab": {
     "base_uri": "https://localhost:8080/",
     "height": 302
    },
    "executionInfo": {
     "elapsed": 720,
     "status": "ok",
     "timestamp": 1644019035432,
     "user": {
      "displayName": "Oktay Karakuş",
      "photoUrl": "https://lh3.googleusercontent.com/a/default-user=s64",
      "userId": "07357612204679807063"
     },
     "user_tz": 0
    },
    "id": "R_SoU8oO2H1g",
    "outputId": "5117f385-dc9b-4997-e2dd-99d7880697c3"
   },
   "outputs": [
    {
     "data": {
      "text/plain": [
       "<matplotlib.legend.Legend at 0x7feb32b25c10>"
      ]
     },
     "execution_count": 82,
     "metadata": {},
     "output_type": "execute_result"
    },
    {
     "data": {
      "image/png": "[encoded data removed]",
      "text/plain": [
       "<Figure size 432x288 with 1 Axes>"
      ]
     },
     "metadata": {},
     "output_type": "display_data"
    }
   ],
   "source": [
    "# Plot a histogram for total marks\n",
    "sns.set(color_codes=True)\n",
    "ax = sns.histplot(data=df, x=\"Total\", linewidth=2.5, kde=True)\n",
    "for p in ax.patches:\n",
    "    if p.get_x() < 50:\n",
    "        p.set_color('r')\n",
    "        p.set_label('Fail')\n",
    "    elif p.get_x() < 60:\n",
    "        p.set_color('orange')\n",
    "        p.set_label('Pass')\n",
    "    elif p.get_x() < 70:\n",
    "        p.set_color('b')\n",
    "        p.set_label('Merit')\n",
    "    else:\n",
    "        p.set_color('g')\n",
    "        p.set_label('Distinction')\n",
    "handles, labels = plt.gca().get_legend_handles_labels()\n",
    "by_label = dict(zip(labels, handles))\n",
    "plt.legend(by_label.values(), by_label.keys())   "
   ]
  },
  {
   "cell_type": "code",
   "execution_count": 83,
   "metadata": {
    "colab": {
     "base_uri": "https://localhost:8080/",
     "height": 302
    },
    "executionInfo": {
     "elapsed": 750,
     "status": "ok",
     "timestamp": 1644019040711,
     "user": {
      "displayName": "Oktay Karakuş",
      "photoUrl": "https://lh3.googleusercontent.com/a/default-user=s64",
      "userId": "07357612204679807063"
     },
     "user_tz": 0
    },
    "id": "jxOZQv7X7h5A",
    "outputId": "9c7f17f3-d98c-465c-e307-43d6cde78b3a"
   },
   "outputs": [
    {
     "data": {
      "text/plain": [
       "Text(0, 0.5, 'Total Mark')"
      ]
     },
     "execution_count": 83,
     "metadata": {},
     "output_type": "execute_result"
    },
    {
     "data": {
      "image/png": "[encoded data removed]",
      "text/plain": [
       "<Figure size 432x288 with 1 Axes>"
      ]
     },
     "metadata": {},
     "output_type": "display_data"
    }
   ],
   "source": [
    "for col in ['Q1.a','Q1.b','Q2', 'Q3']: \n",
    "    sns.scatterplot(data=df, x=col, y='Total', label=col, palette='Set3')\n",
    "plt.legend()\n",
    "plt.xlabel('Mark for question')\n",
    "plt.ylabel('Total Mark')"
   ]
  },
  {
   "cell_type": "code",
   "execution_count": 84,
   "metadata": {
    "colab": {
     "base_uri": "https://localhost:8080/",
     "height": 417
    },
    "executionInfo": {
     "elapsed": 195,
     "status": "ok",
     "timestamp": 1644019042987,
     "user": {
      "displayName": "Oktay Karakuş",
      "photoUrl": "https://lh3.googleusercontent.com/a/default-user=s64",
      "userId": "07357612204679807063"
     },
     "user_tz": 0
    },
    "id": "OxZ525rm13sb",
    "outputId": "bb79c408-9479-4ede-f8f3-7ed6e8a6c449"
   },
   "outputs": [
    {
     "data": {
      "text/html": [
       "<html>\n",
       "<head><meta charset=\"utf-8\" /></head>\n",
       "<body>\n",
       "    <div>            <script src=\"https://cdnjs.cloudflare.com/ajax/libs/mathjax/2.7.5/MathJax.js?config=TeX-AMS-MML_SVG\"></script><script type=\"text/javascript\">if (window.MathJax) {MathJax.Hub.Config({SVG: {font: \"STIX-Web\"}});}</script>                <script type=\"text/javascript\">window.PlotlyConfig = {MathJaxConfig: 'local'};</script>\n",
       "        <script src=\"https://cdn.plot.ly/plotly-2.8.3.min.js\"></script>                <div id=\"984258c0-9186-4344-b588-d426846241bd\" class=\"plotly-graph-div\" style=\"height:400px; width:600px;\"></div>            <script type=\"text/javascript\">                                    window.PLOTLYENV=window.PLOTLYENV || {};                                    if (document.getElementById(\"984258c0-9186-4344-b588-d426846241bd\")) {                    Plotly.newPlot(                        \"984258c0-9186-4344-b588-d426846241bd\",                        [{\"alignmentgroup\":\"True\",\"hovertemplate\":\"Mark for question=%{x}<br>Question=%{y}<extra></extra>\",\"legendgroup\":\"\",\"marker\":{\"color\":\"#1F77B4\"},\"name\":\"\",\"notched\":true,\"offsetgroup\":\"\",\"orientation\":\"h\",\"showlegend\":false,\"x\":[20.0,18.0,15.0,2.0,0.0,0.0,18.0,14.0,14.0,18.0,16.0,18.0,20.0,20.0,18.0,18.0,18.0,16.0,18.0,0.0,18.0,14.0,14.0,18.0,14.0,14.0,18.0,20.0,18.0,18.0,16.0,18.0,10.0,12.0,12.0,20.0,20.0,16.0,20.0,12.0,18.0,20.0,0.0,18.0,18.0,20.0,20.0,18.0,8.0,20.0,16.0,12.0,20.0,20.0,18.0,18.0,6.0,0.0,16.0,16.0,18.0,20.0,18.0,10.0,14.0,20.0,8.0,10.0,20.0,10.0,16.0,20.0,14.0,16.0,16.0,20.0,16.0,18.0,16.0,16.0,18.0,18.0,20.0,20.0,0.0,14.0,20.0,20.0,14.0,17.0,20.0,20.0,20.0,18.0,18.0,18.0,0.0,18.0,20.0,18.0,20.0,20.0,20.0,20.0,18.0,18.0,20.0,14.0,0.0,14.0,16.0,20.0,20.0,1.0,14.0,20.0,20.0,15.0,15.0,1.0,20.0,20.0,16.0,16.0,20.0,20.0,17.0,18.0,18.0,20.0,4.0,18.0,18.0,12.0,20.0,6.0,10.0,14.0,20.0,16.0,18.0,0.0,16.0,15.0,16.0,20.0,18.0,0.0,5.0,0.0,20.0,16.0,16.0,16.0,18.0,18.0,20.0,20.0,2.0,14.0,20.0,14.0,20.0,20.0,18.0,0.0,18.0,18.0,18.0,20.0,20.0,16.0,16.0,17.0,19.0,19.0,20.0,17.0,18.0,14.0,2.0,20.0,18.0,20.0,20.0,16.0,20.0,18.0,18.0,20.0,18.0,20.0,18.0,16.0,16.0,0.0,15.0,15.0,20.0,20.0,12.0,20.0,8.0,16.0,14.0,16.0,20.0,20.0,16.0,14.0,18.0,16.0,20.0,18.0,11.0,11.0,16.0,16.0,18.0,11.0,20.0,20.0,18.0,17.0,12.0,18.0,20.0,17.0,20.0,11.0,0.0,0.0,0.0,20.0,8.0,15.0,13.0,16.0,16.0,17.0,20.0,17.0,20.0,16.0,11.0,19.0,0.0,4.0,20.0,18.0,18.0,20.0,12.0,17.0,20.0,16.0,16.0,14.0,18.0,18.0,14.0,18.0,19.0,19.0,13.0,19.0,18.0,18.0,15.0,0.0,18.0,16.0,20.0,20.0,12.0,16.0,19.0,18.0,18.0,20.0,18.0,13.0,18.0,8.0,0.0,17.0,18.0,19.0,20.0,19.0,16.0,16.0,19.0,12.0,14.0,16.0,12.0,12.0,16.0,10.0,12.0,0.0,20.0,17.0,16.0,16.0,17.0,20.0,20.0,18.0,19.0,0.0,6.0,20.0,15.0,8.0,20.0,16.0,20.0,20.0,16.0,18.0,20.0,0.0,15.0,18.0,6.0,14.0,19.0,19.0,18.0,1.0,20.0,19.0,12.0,0.0,12.0,12.0,20.0,18.0,0.0,0.0,16.0,20.0,16.0,12.0,18.0,18.0,18.0,12.0,18.0,16.0,19.0,16.0,2.0,20.0,20.0,12.0,20.0,19.0,16.0,19.0,2.0,17.0,14.0,20.0,16.0,20.0,0.0,9.0,16.0,2.0,20.0,16.0,0.0,14.0,0.0,19.0,16.0,14.0,12.0,3.0,20.0,18.0,20.0,0.0,18.0,18.0,17.0,20.0,20.0,16.0,0.0,6.0,18.0,16.0,18.0,19.0,16.0,12.0,16.0,7.0,19.0,20.0,16.0,16.0,14.0,0.0,20.0,0.0,20.0,19.0,14.0,16.0,13.0,20.0,18.0,20.0,16.0,3.0,13.0,10.0,0.0,3.0,12.0,19.0,18.0,12.0,18.0,16.0,16.0,16.0,13.0,18.0,19.0,16.0,16.0,16.0,16.0,16.0,18.0,12.0,0.0,0.0,0.0,19.0,10.0,10.0,18.0,7.0,16.0,0.0,18.0,18.0,30.0,29.5,18.0,2.0,0.0,0.0,30.0,24.0,29.0,29.0,26.5,26.5,28.0,29.0,25.0,25.0,28.0,20.0,30.0,25.0,30.0,30.0,27.0,30.0,30.0,29.0,28.0,30.0,30.0,30.0,3.0,30.0,27.5,27.0,29.0,30.0,30.0,28.0,22.0,23.0,28.0,24.0,0.0,26.0,27.0,30.0,30.0,30.0,26.0,30.0,30.0,28.0,30.0,26.0,28.0,27.0,15.0,2.0,28.0,26.0,30.0,30.0,29.0,27.0,27.0,28.0,0.0,26.0,27.0,17.0,26.5,30.0,2.0,27.0,27.0,30.0,27.0,28.0,27.0,26.5,30.0,22.0,28.0,29.5,0.0,29.5,30.0,29.5,11.0,24.0,30.0,30.0,30.0,28.0,26.5,30.0,0.0,29.5,30.0,28.0,30.0,30.0,30.0,17.0,27.0,30.0,30.0,27.0,0.0,26.5,26.5,30.0,29.0,23.0,24.0,27.0,30.0,27.0,28.0,20.0,30.0,30.0,27.0,28.0,27.0,28.5,27.0,26.5,30.0,30.0,26.5,29.5,18.0,24.5,30.0,19.0,26.0,28.0,30.0,27.0,29.5,0.0,21.0,29.5,24.0,29.0,30.0,30.0,15.0,0.0,30.0,28.0,28.0,27.0,30.0,30.0,30.0,28.0,15.0,29.0,30.0,28.0,30.0,30.0,27.0,0.0,24.0,28.0,27.0,30.0,30.0,15.0,24.0,29.5,30.0,28.0,28.0,21.0,26.0,27.0,29.5,29.0,26.5,29.5,29.5,21.0,27.0,28.0,30.0,30.0,30.0,27.0,29.5,27.0,30.0,0.0,29.0,27.0,30.0,30.0,26.0,27.0,27.0,26.5,27.0,30.0,30.0,30.0,26.0,26.0,27.0,27.0,27.0,30.0,26.0,27.0,27.0,27.0,30.0,27.0,27.0,30.0,30.0,27.0,27.0,27.0,30.0,15.0,16.0,14.0,5.0,0.0,0.0,30.0,18.0,30.0,20.0,27.0,23.0,19.0,22.0,15.0,17.0,26.0,25.0,7.0,5.0,28.0,27.0,19.0,30.0,22.0,0.0,28.0,22.0,10.0,22.0,5.0,22.0,16.0,9.0,19.0,22.0,25.0,20.0,12.0,20.0,19.0,12.0,0.0,22.0,27.0,22.0,22.0,15.0,16.0,22.0,22.0,10.0,28.0,9.0,0.0,9.0,5.0,5.0,20.0,28.0,17.0,22.0,22.0,15.0,16.0,19.0,5.0,14.0,19.0,5.0,23.0,22.0,16.0,17.0,17.0,30.0,25.0,18.0,19.0,10.0,22.0,16.0,15.0,20.0,0.0,17.0,15.5,22.0,19.0,28.0,22.0,22.0,18.0,28.0,19.0,15.0,0.0,17.0,22.0,24.0,22.0,22.0,17.0,15.0,19.0,30.0,22.0,19.0,5.0,5.0,19.0,30.0,14.0,5.0,27.0,19.0,22.0,27.0,19.0,5.0,30.0,30.0,14.0,22.0,19.0,22.0,19.0,20.0,22.0,14.0,19.0,18.0,30.0,17.0,30.0,14.0,12.0,20.0,30.0,6.0,19.0,0.0,17.0,23.0,20.0,22.0,28.0,30.0,5.0,0.0,26.0,13.0,16.0,17.0,22.0,22.0,22.0,14.0,17.0,30.0,30.0,20.0,22.0,22.0,14.0,0.0,14.0,17.0,9.0,14.0,22.0,16.0,20.0,19.0,23.0,3.0,17.0,27.0,19.0,20.0,22.0,22.0,19.0,22.0,18.0,11.0,11.0,5.0,30.0,18.0,20.0,19.0,17.0,19.0,20.0,0.0,22.0,19.0,30.0,22.0,23.0,19.0,19.0,14.0,16.0,22.0,18.0,16.0,7.0,12.0,27.0,16.0,16.0,30.0,12.0,14.0,11.0,19.0,30.0,19.0,14.0,null,null,null,null,null,null],\"x0\":\" \",\"xaxis\":\"x\",\"y\":[\"Q1.a\",\"Q1.a\",\"Q1.a\",\"Q1.a\",\"Q1.a\",\"Q1.a\",\"Q1.a\",\"Q1.a\",\"Q1.a\",\"Q1.a\",\"Q1.a\",\"Q1.a\",\"Q1.a\",\"Q1.a\",\"Q1.a\",\"Q1.a\",\"Q1.a\",\"Q1.a\",\"Q1.a\",\"Q1.a\",\"Q1.a\",\"Q1.a\",\"Q1.a\",\"Q1.a\",\"Q1.a\",\"Q1.a\",\"Q1.a\",\"Q1.a\",\"Q1.a\",\"Q1.a\",\"Q1.a\",\"Q1.a\",\"Q1.a\",\"Q1.a\",\"Q1.a\",\"Q1.a\",\"Q1.a\",\"Q1.a\",\"Q1.a\",\"Q1.a\",\"Q1.a\",\"Q1.a\",\"Q1.a\",\"Q1.a\",\"Q1.a\",\"Q1.a\",\"Q1.a\",\"Q1.a\",\"Q1.a\",\"Q1.a\",\"Q1.a\",\"Q1.a\",\"Q1.a\",\"Q1.a\",\"Q1.a\",\"Q1.a\",\"Q1.a\",\"Q1.a\",\"Q1.a\",\"Q1.a\",\"Q1.a\",\"Q1.a\",\"Q1.a\",\"Q1.a\",\"Q1.a\",\"Q1.a\",\"Q1.a\",\"Q1.a\",\"Q1.a\",\"Q1.a\",\"Q1.a\",\"Q1.a\",\"Q1.a\",\"Q1.a\",\"Q1.a\",\"Q1.a\",\"Q1.a\",\"Q1.a\",\"Q1.a\",\"Q1.a\",\"Q1.a\",\"Q1.a\",\"Q1.a\",\"Q1.a\",\"Q1.a\",\"Q1.a\",\"Q1.a\",\"Q1.a\",\"Q1.a\",\"Q1.a\",\"Q1.a\",\"Q1.a\",\"Q1.a\",\"Q1.a\",\"Q1.a\",\"Q1.a\",\"Q1.a\",\"Q1.a\",\"Q1.a\",\"Q1.a\",\"Q1.a\",\"Q1.a\",\"Q1.a\",\"Q1.a\",\"Q1.a\",\"Q1.a\",\"Q1.a\",\"Q1.a\",\"Q1.a\",\"Q1.a\",\"Q1.a\",\"Q1.a\",\"Q1.a\",\"Q1.a\",\"Q1.a\",\"Q1.a\",\"Q1.a\",\"Q1.a\",\"Q1.a\",\"Q1.a\",\"Q1.a\",\"Q1.a\",\"Q1.a\",\"Q1.a\",\"Q1.a\",\"Q1.a\",\"Q1.a\",\"Q1.a\",\"Q1.a\",\"Q1.a\",\"Q1.a\",\"Q1.a\",\"Q1.a\",\"Q1.a\",\"Q1.a\",\"Q1.a\",\"Q1.a\",\"Q1.a\",\"Q1.a\",\"Q1.a\",\"Q1.a\",\"Q1.a\",\"Q1.a\",\"Q1.a\",\"Q1.a\",\"Q1.a\",\"Q1.a\",\"Q1.a\",\"Q1.a\",\"Q1.a\",\"Q1.a\",\"Q1.a\",\"Q1.a\",\"Q1.a\",\"Q1.a\",\"Q1.a\",\"Q1.a\",\"Q1.a\",\"Q1.a\",\"Q1.a\",\"Q1.a\",\"Q1.a\",\"Q1.a\",\"Q1.a\",\"Q1.a\",\"Q1.a\",\"Q1.a\",\"Q1.a\",\"Q1.a\",\"Q1.a\",\"Q1.a\",\"Q1.a\",\"Q1.a\",\"Q1.a\",\"Q1.a\",\"Q1.a\",\"Q1.a\",\"Q1.a\",\"Q1.a\",\"Q1.a\",\"Q1.a\",\"Q1.a\",\"Q1.a\",\"Q1.a\",\"Q1.a\",\"Q1.a\",\"Q1.a\",\"Q1.a\",\"Q1.a\",\"Q1.a\",\"Q1.a\",\"Q1.a\",\"Q1.a\",\"Q1.a\",\"Q1.a\",\"Q1.a\",\"Q1.a\",\"Q1.a\",\"Q1.a\",\"Q1.a\",\"Q1.a\",\"Q1.a\",\"Q1.a\",\"Q1.a\",\"Q1.a\",\"Q1.a\",\"Q1.a\",\"Q1.a\",\"Q1.a\",\"Q1.a\",\"Q1.a\",\"Q1.a\",\"Q1.a\",\"Q1.a\",\"Q1.a\",\"Q1.a\",\"Q1.a\",\"Q1.a\",\"Q1.a\",\"Q1.a\",\"Q1.a\",\"Q1.a\",\"Q1.a\",\"Q1.a\",\"Q1.a\",\"Q1.a\",\"Q1.a\",\"Q1.b\",\"Q1.b\",\"Q1.b\",\"Q1.b\",\"Q1.b\",\"Q1.b\",\"Q1.b\",\"Q1.b\",\"Q1.b\",\"Q1.b\",\"Q1.b\",\"Q1.b\",\"Q1.b\",\"Q1.b\",\"Q1.b\",\"Q1.b\",\"Q1.b\",\"Q1.b\",\"Q1.b\",\"Q1.b\",\"Q1.b\",\"Q1.b\",\"Q1.b\",\"Q1.b\",\"Q1.b\",\"Q1.b\",\"Q1.b\",\"Q1.b\",\"Q1.b\",\"Q1.b\",\"Q1.b\",\"Q1.b\",\"Q1.b\",\"Q1.b\",\"Q1.b\",\"Q1.b\",\"Q1.b\",\"Q1.b\",\"Q1.b\",\"Q1.b\",\"Q1.b\",\"Q1.b\",\"Q1.b\",\"Q1.b\",\"Q1.b\",\"Q1.b\",\"Q1.b\",\"Q1.b\",\"Q1.b\",\"Q1.b\",\"Q1.b\",\"Q1.b\",\"Q1.b\",\"Q1.b\",\"Q1.b\",\"Q1.b\",\"Q1.b\",\"Q1.b\",\"Q1.b\",\"Q1.b\",\"Q1.b\",\"Q1.b\",\"Q1.b\",\"Q1.b\",\"Q1.b\",\"Q1.b\",\"Q1.b\",\"Q1.b\",\"Q1.b\",\"Q1.b\",\"Q1.b\",\"Q1.b\",\"Q1.b\",\"Q1.b\",\"Q1.b\",\"Q1.b\",\"Q1.b\",\"Q1.b\",\"Q1.b\",\"Q1.b\",\"Q1.b\",\"Q1.b\",\"Q1.b\",\"Q1.b\",\"Q1.b\",\"Q1.b\",\"Q1.b\",\"Q1.b\",\"Q1.b\",\"Q1.b\",\"Q1.b\",\"Q1.b\",\"Q1.b\",\"Q1.b\",\"Q1.b\",\"Q1.b\",\"Q1.b\",\"Q1.b\",\"Q1.b\",\"Q1.b\",\"Q1.b\",\"Q1.b\",\"Q1.b\",\"Q1.b\",\"Q1.b\",\"Q1.b\",\"Q1.b\",\"Q1.b\",\"Q1.b\",\"Q1.b\",\"Q1.b\",\"Q1.b\",\"Q1.b\",\"Q1.b\",\"Q1.b\",\"Q1.b\",\"Q1.b\",\"Q1.b\",\"Q1.b\",\"Q1.b\",\"Q1.b\",\"Q1.b\",\"Q1.b\",\"Q1.b\",\"Q1.b\",\"Q1.b\",\"Q1.b\",\"Q1.b\",\"Q1.b\",\"Q1.b\",\"Q1.b\",\"Q1.b\",\"Q1.b\",\"Q1.b\",\"Q1.b\",\"Q1.b\",\"Q1.b\",\"Q1.b\",\"Q1.b\",\"Q1.b\",\"Q1.b\",\"Q1.b\",\"Q1.b\",\"Q1.b\",\"Q1.b\",\"Q1.b\",\"Q1.b\",\"Q1.b\",\"Q1.b\",\"Q1.b\",\"Q1.b\",\"Q1.b\",\"Q1.b\",\"Q1.b\",\"Q1.b\",\"Q1.b\",\"Q1.b\",\"Q1.b\",\"Q1.b\",\"Q1.b\",\"Q1.b\",\"Q1.b\",\"Q1.b\",\"Q1.b\",\"Q1.b\",\"Q1.b\",\"Q1.b\",\"Q1.b\",\"Q1.b\",\"Q1.b\",\"Q1.b\",\"Q1.b\",\"Q1.b\",\"Q1.b\",\"Q1.b\",\"Q1.b\",\"Q1.b\",\"Q1.b\",\"Q1.b\",\"Q1.b\",\"Q1.b\",\"Q1.b\",\"Q1.b\",\"Q1.b\",\"Q1.b\",\"Q1.b\",\"Q1.b\",\"Q1.b\",\"Q1.b\",\"Q1.b\",\"Q1.b\",\"Q1.b\",\"Q1.b\",\"Q1.b\",\"Q1.b\",\"Q1.b\",\"Q1.b\",\"Q1.b\",\"Q1.b\",\"Q1.b\",\"Q1.b\",\"Q1.b\",\"Q1.b\",\"Q1.b\",\"Q1.b\",\"Q1.b\",\"Q1.b\",\"Q1.b\",\"Q1.b\",\"Q1.b\",\"Q1.b\",\"Q1.b\",\"Q1.b\",\"Q1.b\",\"Q1.b\",\"Q1.b\",\"Q1.b\",\"Q1.b\",\"Q1.b\",\"Q1.b\",\"Q1.b\",\"Q1.b\",\"Q1.b\",\"Q1.b\",\"Q1.b\",\"Q1.b\",\"Q1.b\",\"Q2\",\"Q2\",\"Q2\",\"Q2\",\"Q2\",\"Q2\",\"Q2\",\"Q2\",\"Q2\",\"Q2\",\"Q2\",\"Q2\",\"Q2\",\"Q2\",\"Q2\",\"Q2\",\"Q2\",\"Q2\",\"Q2\",\"Q2\",\"Q2\",\"Q2\",\"Q2\",\"Q2\",\"Q2\",\"Q2\",\"Q2\",\"Q2\",\"Q2\",\"Q2\",\"Q2\",\"Q2\",\"Q2\",\"Q2\",\"Q2\",\"Q2\",\"Q2\",\"Q2\",\"Q2\",\"Q2\",\"Q2\",\"Q2\",\"Q2\",\"Q2\",\"Q2\",\"Q2\",\"Q2\",\"Q2\",\"Q2\",\"Q2\",\"Q2\",\"Q2\",\"Q2\",\"Q2\",\"Q2\",\"Q2\",\"Q2\",\"Q2\",\"Q2\",\"Q2\",\"Q2\",\"Q2\",\"Q2\",\"Q2\",\"Q2\",\"Q2\",\"Q2\",\"Q2\",\"Q2\",\"Q2\",\"Q2\",\"Q2\",\"Q2\",\"Q2\",\"Q2\",\"Q2\",\"Q2\",\"Q2\",\"Q2\",\"Q2\",\"Q2\",\"Q2\",\"Q2\",\"Q2\",\"Q2\",\"Q2\",\"Q2\",\"Q2\",\"Q2\",\"Q2\",\"Q2\",\"Q2\",\"Q2\",\"Q2\",\"Q2\",\"Q2\",\"Q2\",\"Q2\",\"Q2\",\"Q2\",\"Q2\",\"Q2\",\"Q2\",\"Q2\",\"Q2\",\"Q2\",\"Q2\",\"Q2\",\"Q2\",\"Q2\",\"Q2\",\"Q2\",\"Q2\",\"Q2\",\"Q2\",\"Q2\",\"Q2\",\"Q2\",\"Q2\",\"Q2\",\"Q2\",\"Q2\",\"Q2\",\"Q2\",\"Q2\",\"Q2\",\"Q2\",\"Q2\",\"Q2\",\"Q2\",\"Q2\",\"Q2\",\"Q2\",\"Q2\",\"Q2\",\"Q2\",\"Q2\",\"Q2\",\"Q2\",\"Q2\",\"Q2\",\"Q2\",\"Q2\",\"Q2\",\"Q2\",\"Q2\",\"Q2\",\"Q2\",\"Q2\",\"Q2\",\"Q2\",\"Q2\",\"Q2\",\"Q2\",\"Q2\",\"Q2\",\"Q2\",\"Q2\",\"Q2\",\"Q2\",\"Q2\",\"Q2\",\"Q2\",\"Q2\",\"Q2\",\"Q2\",\"Q2\",\"Q2\",\"Q2\",\"Q2\",\"Q2\",\"Q2\",\"Q2\",\"Q2\",\"Q2\",\"Q2\",\"Q2\",\"Q2\",\"Q2\",\"Q2\",\"Q2\",\"Q2\",\"Q2\",\"Q2\",\"Q2\",\"Q2\",\"Q2\",\"Q2\",\"Q2\",\"Q2\",\"Q2\",\"Q2\",\"Q2\",\"Q2\",\"Q2\",\"Q2\",\"Q2\",\"Q2\",\"Q2\",\"Q2\",\"Q2\",\"Q2\",\"Q2\",\"Q2\",\"Q2\",\"Q2\",\"Q2\",\"Q2\",\"Q2\",\"Q2\",\"Q2\",\"Q2\",\"Q2\",\"Q2\",\"Q2\",\"Q2\",\"Q2\",\"Q2\",\"Q2\",\"Q2\",\"Q2\",\"Q2\",\"Q2\",\"Q2\",\"Q2\",\"Q2\",\"Q2\",\"Q3\",\"Q3\",\"Q3\",\"Q3\",\"Q3\",\"Q3\",\"Q3\",\"Q3\",\"Q3\",\"Q3\",\"Q3\",\"Q3\",\"Q3\",\"Q3\",\"Q3\",\"Q3\",\"Q3\",\"Q3\",\"Q3\",\"Q3\",\"Q3\",\"Q3\",\"Q3\",\"Q3\",\"Q3\",\"Q3\",\"Q3\",\"Q3\",\"Q3\",\"Q3\",\"Q3\",\"Q3\",\"Q3\",\"Q3\",\"Q3\",\"Q3\",\"Q3\",\"Q3\",\"Q3\",\"Q3\",\"Q3\",\"Q3\",\"Q3\",\"Q3\",\"Q3\",\"Q3\",\"Q3\",\"Q3\",\"Q3\",\"Q3\",\"Q3\",\"Q3\",\"Q3\",\"Q3\",\"Q3\",\"Q3\",\"Q3\",\"Q3\",\"Q3\",\"Q3\",\"Q3\",\"Q3\",\"Q3\",\"Q3\",\"Q3\",\"Q3\",\"Q3\",\"Q3\",\"Q3\",\"Q3\",\"Q3\",\"Q3\",\"Q3\",\"Q3\",\"Q3\",\"Q3\",\"Q3\",\"Q3\",\"Q3\",\"Q3\",\"Q3\",\"Q3\",\"Q3\",\"Q3\",\"Q3\",\"Q3\",\"Q3\",\"Q3\",\"Q3\",\"Q3\",\"Q3\",\"Q3\",\"Q3\",\"Q3\",\"Q3\",\"Q3\",\"Q3\",\"Q3\",\"Q3\",\"Q3\",\"Q3\",\"Q3\",\"Q3\",\"Q3\",\"Q3\",\"Q3\",\"Q3\",\"Q3\",\"Q3\",\"Q3\",\"Q3\",\"Q3\",\"Q3\",\"Q3\",\"Q3\",\"Q3\",\"Q3\",\"Q3\",\"Q3\",\"Q3\",\"Q3\",\"Q3\",\"Q3\",\"Q3\",\"Q3\",\"Q3\",\"Q3\",\"Q3\",\"Q3\",\"Q3\",\"Q3\",\"Q3\",\"Q3\",\"Q3\",\"Q3\",\"Q3\",\"Q3\",\"Q3\",\"Q3\",\"Q3\",\"Q3\",\"Q3\",\"Q3\",\"Q3\",\"Q3\",\"Q3\",\"Q3\",\"Q3\",\"Q3\",\"Q3\",\"Q3\",\"Q3\",\"Q3\",\"Q3\",\"Q3\",\"Q3\",\"Q3\",\"Q3\",\"Q3\",\"Q3\",\"Q3\",\"Q3\",\"Q3\",\"Q3\",\"Q3\",\"Q3\",\"Q3\",\"Q3\",\"Q3\",\"Q3\",\"Q3\",\"Q3\",\"Q3\",\"Q3\",\"Q3\",\"Q3\",\"Q3\",\"Q3\",\"Q3\",\"Q3\",\"Q3\",\"Q3\",\"Q3\",\"Q3\",\"Q3\",\"Q3\",\"Q3\",\"Q3\",\"Q3\",\"Q3\",\"Q3\",\"Q3\",\"Q3\",\"Q3\",\"Q3\",\"Q3\",\"Q3\",\"Q3\",\"Q3\",\"Q3\",\"Q3\",\"Q3\",\"Q3\",\"Q3\",\"Q3\",\"Q3\",\"Q3\",\"Q3\",\"Q3\",\"Q3\",\"Q3\",\"Q3\",\"Q3\",\"Q3\",\"Q3\",\"Q3\",\"Q3\",\"Q3\",\"Q3\",\"Q3\",\"Q3\",\"Q3\",\"Q3\",\"Q3\",\"Q3\",\"Q3\",\"Q3\"],\"y0\":\" \",\"yaxis\":\"y\",\"type\":\"box\"}],                        {\"template\":{\"data\":{\"barpolar\":[{\"marker\":{\"line\":{\"color\":\"white\",\"width\":0.5},\"pattern\":{\"fillmode\":\"overlay\",\"size\":10,\"solidity\":0.2}},\"type\":\"barpolar\"}],\"bar\":[{\"error_x\":{\"color\":\"rgb(36,36,36)\"},\"error_y\":{\"color\":\"rgb(36,36,36)\"},\"marker\":{\"line\":{\"color\":\"white\",\"width\":0.5},\"pattern\":{\"fillmode\":\"overlay\",\"size\":10,\"solidity\":0.2}},\"type\":\"bar\"}],\"carpet\":[{\"aaxis\":{\"endlinecolor\":\"rgb(36,36,36)\",\"gridcolor\":\"white\",\"linecolor\":\"white\",\"minorgridcolor\":\"white\",\"startlinecolor\":\"rgb(36,36,36)\"},\"baxis\":{\"endlinecolor\":\"rgb(36,36,36)\",\"gridcolor\":\"white\",\"linecolor\":\"white\",\"minorgridcolor\":\"white\",\"startlinecolor\":\"rgb(36,36,36)\"},\"type\":\"carpet\"}],\"choropleth\":[{\"colorbar\":{\"outlinewidth\":1,\"tickcolor\":\"rgb(36,36,36)\",\"ticks\":\"outside\"},\"type\":\"choropleth\"}],\"contourcarpet\":[{\"colorbar\":{\"outlinewidth\":1,\"tickcolor\":\"rgb(36,36,36)\",\"ticks\":\"outside\"},\"type\":\"contourcarpet\"}],\"contour\":[{\"colorbar\":{\"outlinewidth\":1,\"tickcolor\":\"rgb(36,36,36)\",\"ticks\":\"outside\"},\"colorscale\":[[0.0,\"#440154\"],[0.1111111111111111,\"#482878\"],[0.2222222222222222,\"#3e4989\"],[0.3333333333333333,\"#31688e\"],[0.4444444444444444,\"#26828e\"],[0.5555555555555556,\"#1f9e89\"],[0.6666666666666666,\"#35b779\"],[0.7777777777777778,\"#6ece58\"],[0.8888888888888888,\"#b5de2b\"],[1.0,\"#fde725\"]],\"type\":\"contour\"}],\"heatmapgl\":[{\"colorbar\":{\"outlinewidth\":1,\"tickcolor\":\"rgb(36,36,36)\",\"ticks\":\"outside\"},\"colorscale\":[[0.0,\"#440154\"],[0.1111111111111111,\"#482878\"],[0.2222222222222222,\"#3e4989\"],[0.3333333333333333,\"#31688e\"],[0.4444444444444444,\"#26828e\"],[0.5555555555555556,\"#1f9e89\"],[0.6666666666666666,\"#35b779\"],[0.7777777777777778,\"#6ece58\"],[0.8888888888888888,\"#b5de2b\"],[1.0,\"#fde725\"]],\"type\":\"heatmapgl\"}],\"heatmap\":[{\"colorbar\":{\"outlinewidth\":1,\"tickcolor\":\"rgb(36,36,36)\",\"ticks\":\"outside\"},\"colorscale\":[[0.0,\"#440154\"],[0.1111111111111111,\"#482878\"],[0.2222222222222222,\"#3e4989\"],[0.3333333333333333,\"#31688e\"],[0.4444444444444444,\"#26828e\"],[0.5555555555555556,\"#1f9e89\"],[0.6666666666666666,\"#35b779\"],[0.7777777777777778,\"#6ece58\"],[0.8888888888888888,\"#b5de2b\"],[1.0,\"#fde725\"]],\"type\":\"heatmap\"}],\"histogram2dcontour\":[{\"colorbar\":{\"outlinewidth\":1,\"tickcolor\":\"rgb(36,36,36)\",\"ticks\":\"outside\"},\"colorscale\":[[0.0,\"#440154\"],[0.1111111111111111,\"#482878\"],[0.2222222222222222,\"#3e4989\"],[0.3333333333333333,\"#31688e\"],[0.4444444444444444,\"#26828e\"],[0.5555555555555556,\"#1f9e89\"],[0.6666666666666666,\"#35b779\"],[0.7777777777777778,\"#6ece58\"],[0.8888888888888888,\"#b5de2b\"],[1.0,\"#fde725\"]],\"type\":\"histogram2dcontour\"}],\"histogram2d\":[{\"colorbar\":{\"outlinewidth\":1,\"tickcolor\":\"rgb(36,36,36)\",\"ticks\":\"outside\"},\"colorscale\":[[0.0,\"#440154\"],[0.1111111111111111,\"#482878\"],[0.2222222222222222,\"#3e4989\"],[0.3333333333333333,\"#31688e\"],[0.4444444444444444,\"#26828e\"],[0.5555555555555556,\"#1f9e89\"],[0.6666666666666666,\"#35b779\"],[0.7777777777777778,\"#6ece58\"],[0.8888888888888888,\"#b5de2b\"],[1.0,\"#fde725\"]],\"type\":\"histogram2d\"}],\"histogram\":[{\"marker\":{\"line\":{\"color\":\"white\",\"width\":0.6}},\"type\":\"histogram\"}],\"mesh3d\":[{\"colorbar\":{\"outlinewidth\":1,\"tickcolor\":\"rgb(36,36,36)\",\"ticks\":\"outside\"},\"type\":\"mesh3d\"}],\"parcoords\":[{\"line\":{\"colorbar\":{\"outlinewidth\":1,\"tickcolor\":\"rgb(36,36,36)\",\"ticks\":\"outside\"}},\"type\":\"parcoords\"}],\"pie\":[{\"automargin\":true,\"type\":\"pie\"}],\"scatter3d\":[{\"line\":{\"colorbar\":{\"outlinewidth\":1,\"tickcolor\":\"rgb(36,36,36)\",\"ticks\":\"outside\"}},\"marker\":{\"colorbar\":{\"outlinewidth\":1,\"tickcolor\":\"rgb(36,36,36)\",\"ticks\":\"outside\"}},\"type\":\"scatter3d\"}],\"scattercarpet\":[{\"marker\":{\"colorbar\":{\"outlinewidth\":1,\"tickcolor\":\"rgb(36,36,36)\",\"ticks\":\"outside\"}},\"type\":\"scattercarpet\"}],\"scattergeo\":[{\"marker\":{\"colorbar\":{\"outlinewidth\":1,\"tickcolor\":\"rgb(36,36,36)\",\"ticks\":\"outside\"}},\"type\":\"scattergeo\"}],\"scattergl\":[{\"marker\":{\"colorbar\":{\"outlinewidth\":1,\"tickcolor\":\"rgb(36,36,36)\",\"ticks\":\"outside\"}},\"type\":\"scattergl\"}],\"scattermapbox\":[{\"marker\":{\"colorbar\":{\"outlinewidth\":1,\"tickcolor\":\"rgb(36,36,36)\",\"ticks\":\"outside\"}},\"type\":\"scattermapbox\"}],\"scatterpolargl\":[{\"marker\":{\"colorbar\":{\"outlinewidth\":1,\"tickcolor\":\"rgb(36,36,36)\",\"ticks\":\"outside\"}},\"type\":\"scatterpolargl\"}],\"scatterpolar\":[{\"marker\":{\"colorbar\":{\"outlinewidth\":1,\"tickcolor\":\"rgb(36,36,36)\",\"ticks\":\"outside\"}},\"type\":\"scatterpolar\"}],\"scatter\":[{\"marker\":{\"colorbar\":{\"outlinewidth\":1,\"tickcolor\":\"rgb(36,36,36)\",\"ticks\":\"outside\"}},\"type\":\"scatter\"}],\"scatterternary\":[{\"marker\":{\"colorbar\":{\"outlinewidth\":1,\"tickcolor\":\"rgb(36,36,36)\",\"ticks\":\"outside\"}},\"type\":\"scatterternary\"}],\"surface\":[{\"colorbar\":{\"outlinewidth\":1,\"tickcolor\":\"rgb(36,36,36)\",\"ticks\":\"outside\"},\"colorscale\":[[0.0,\"#440154\"],[0.1111111111111111,\"#482878\"],[0.2222222222222222,\"#3e4989\"],[0.3333333333333333,\"#31688e\"],[0.4444444444444444,\"#26828e\"],[0.5555555555555556,\"#1f9e89\"],[0.6666666666666666,\"#35b779\"],[0.7777777777777778,\"#6ece58\"],[0.8888888888888888,\"#b5de2b\"],[1.0,\"#fde725\"]],\"type\":\"surface\"}],\"table\":[{\"cells\":{\"fill\":{\"color\":\"rgb(237,237,237)\"},\"line\":{\"color\":\"white\"}},\"header\":{\"fill\":{\"color\":\"rgb(217,217,217)\"},\"line\":{\"color\":\"white\"}},\"type\":\"table\"}]},\"layout\":{\"annotationdefaults\":{\"arrowhead\":0,\"arrowwidth\":1},\"autotypenumbers\":\"strict\",\"coloraxis\":{\"colorbar\":{\"outlinewidth\":1,\"tickcolor\":\"rgb(36,36,36)\",\"ticks\":\"outside\"}},\"colorscale\":{\"diverging\":[[0.0,\"rgb(103,0,31)\"],[0.1,\"rgb(178,24,43)\"],[0.2,\"rgb(214,96,77)\"],[0.3,\"rgb(244,165,130)\"],[0.4,\"rgb(253,219,199)\"],[0.5,\"rgb(247,247,247)\"],[0.6,\"rgb(209,229,240)\"],[0.7,\"rgb(146,197,222)\"],[0.8,\"rgb(67,147,195)\"],[0.9,\"rgb(33,102,172)\"],[1.0,\"rgb(5,48,97)\"]],\"sequential\":[[0.0,\"#440154\"],[0.1111111111111111,\"#482878\"],[0.2222222222222222,\"#3e4989\"],[0.3333333333333333,\"#31688e\"],[0.4444444444444444,\"#26828e\"],[0.5555555555555556,\"#1f9e89\"],[0.6666666666666666,\"#35b779\"],[0.7777777777777778,\"#6ece58\"],[0.8888888888888888,\"#b5de2b\"],[1.0,\"#fde725\"]],\"sequentialminus\":[[0.0,\"#440154\"],[0.1111111111111111,\"#482878\"],[0.2222222222222222,\"#3e4989\"],[0.3333333333333333,\"#31688e\"],[0.4444444444444444,\"#26828e\"],[0.5555555555555556,\"#1f9e89\"],[0.6666666666666666,\"#35b779\"],[0.7777777777777778,\"#6ece58\"],[0.8888888888888888,\"#b5de2b\"],[1.0,\"#fde725\"]]},\"colorway\":[\"#1F77B4\",\"#FF7F0E\",\"#2CA02C\",\"#D62728\",\"#9467BD\",\"#8C564B\",\"#E377C2\",\"#7F7F7F\",\"#BCBD22\",\"#17BECF\"],\"font\":{\"color\":\"rgb(36,36,36)\"},\"geo\":{\"bgcolor\":\"white\",\"lakecolor\":\"white\",\"landcolor\":\"white\",\"showlakes\":true,\"showland\":true,\"subunitcolor\":\"white\"},\"hoverlabel\":{\"align\":\"left\"},\"hovermode\":\"closest\",\"mapbox\":{\"style\":\"light\"},\"paper_bgcolor\":\"white\",\"plot_bgcolor\":\"white\",\"polar\":{\"angularaxis\":{\"gridcolor\":\"rgb(232,232,232)\",\"linecolor\":\"rgb(36,36,36)\",\"showgrid\":false,\"showline\":true,\"ticks\":\"outside\"},\"bgcolor\":\"white\",\"radialaxis\":{\"gridcolor\":\"rgb(232,232,232)\",\"linecolor\":\"rgb(36,36,36)\",\"showgrid\":false,\"showline\":true,\"ticks\":\"outside\"}},\"scene\":{\"xaxis\":{\"backgroundcolor\":\"white\",\"gridcolor\":\"rgb(232,232,232)\",\"gridwidth\":2,\"linecolor\":\"rgb(36,36,36)\",\"showbackground\":true,\"showgrid\":false,\"showline\":true,\"ticks\":\"outside\",\"zeroline\":false,\"zerolinecolor\":\"rgb(36,36,36)\"},\"yaxis\":{\"backgroundcolor\":\"white\",\"gridcolor\":\"rgb(232,232,232)\",\"gridwidth\":2,\"linecolor\":\"rgb(36,36,36)\",\"showbackground\":true,\"showgrid\":false,\"showline\":true,\"ticks\":\"outside\",\"zeroline\":false,\"zerolinecolor\":\"rgb(36,36,36)\"},\"zaxis\":{\"backgroundcolor\":\"white\",\"gridcolor\":\"rgb(232,232,232)\",\"gridwidth\":2,\"linecolor\":\"rgb(36,36,36)\",\"showbackground\":true,\"showgrid\":false,\"showline\":true,\"ticks\":\"outside\",\"zeroline\":false,\"zerolinecolor\":\"rgb(36,36,36)\"}},\"shapedefaults\":{\"fillcolor\":\"black\",\"line\":{\"width\":0},\"opacity\":0.3},\"ternary\":{\"aaxis\":{\"gridcolor\":\"rgb(232,232,232)\",\"linecolor\":\"rgb(36,36,36)\",\"showgrid\":false,\"showline\":true,\"ticks\":\"outside\"},\"baxis\":{\"gridcolor\":\"rgb(232,232,232)\",\"linecolor\":\"rgb(36,36,36)\",\"showgrid\":false,\"showline\":true,\"ticks\":\"outside\"},\"bgcolor\":\"white\",\"caxis\":{\"gridcolor\":\"rgb(232,232,232)\",\"linecolor\":\"rgb(36,36,36)\",\"showgrid\":false,\"showline\":true,\"ticks\":\"outside\"}},\"title\":{\"x\":0.05},\"xaxis\":{\"automargin\":true,\"gridcolor\":\"rgb(232,232,232)\",\"linecolor\":\"rgb(36,36,36)\",\"showgrid\":false,\"showline\":true,\"ticks\":\"outside\",\"title\":{\"standoff\":15},\"zeroline\":false,\"zerolinecolor\":\"rgb(36,36,36)\"},\"yaxis\":{\"automargin\":true,\"gridcolor\":\"rgb(232,232,232)\",\"linecolor\":\"rgb(36,36,36)\",\"showgrid\":false,\"showline\":true,\"ticks\":\"outside\",\"title\":{\"standoff\":15},\"zeroline\":false,\"zerolinecolor\":\"rgb(36,36,36)\"}}},\"xaxis\":{\"anchor\":\"y\",\"domain\":[0.0,1.0],\"title\":{\"text\":\"Mark for question\"}},\"yaxis\":{\"anchor\":\"x\",\"domain\":[0.0,1.0],\"title\":{\"text\":\"Question\"}},\"legend\":{\"tracegroupgap\":0},\"margin\":{\"t\":60},\"boxmode\":\"group\",\"height\":400,\"width\":600},                        {\"responsive\": true}                    ).then(function(){\n",
       "                            \n",
       "var gd = document.getElementById('984258c0-9186-4344-b588-d426846241bd');\n",
       "var x = new MutationObserver(function (mutations, observer) {{\n",
       "        var display = window.getComputedStyle(gd).display;\n",
       "        if (!display || display === 'none') {{\n",
       "            console.log([gd, 'removed!']);\n",
       "            Plotly.purge(gd);\n",
       "            observer.disconnect();\n",
       "        }}\n",
       "}});\n",
       "\n",
       "// Listen for the removal of the full notebook cells\n",
       "var notebookContainer = gd.closest('#notebook-container');\n",
       "if (notebookContainer) {{\n",
       "    x.observe(notebookContainer, {childList: true});\n",
       "}}\n",
       "\n",
       "// Listen for the clearing of the current output cell\n",
       "var outputEl = gd.closest('.output');\n",
       "if (outputEl) {{\n",
       "    x.observe(outputEl, {childList: true});\n",
       "}}\n",
       "\n",
       "                        })                };                            </script>        </div>\n",
       "</body>\n",
       "</html>"
      ]
     },
     "metadata": {},
     "output_type": "display_data"
    }
   ],
   "source": [
    "# Boxplot for each question\n",
    "px.box(df, x=['Q1.a', 'Q1.b', 'Q2', 'Q3'], width=600, height=400, \n",
    "       labels={'value':'Mark for question', 'variable':'Question'}, template=\"simple_white\", notched=True)"
   ]
  }
 ],
 "metadata": {
  "colab": {
   "authorship_tag": "ABX9TyOQJq9Vnjsq6a1A33TI5NLM",
   "collapsed_sections": [],
   "name": "Coursework 1 - marks and stats.ipynb",
   "provenance": []
  },
  "kernelspec": {
   "display_name": "Python 3",
   "language": "python",
   "name": "python3"
  },
  "language_info": {
   "codemirror_mode": {
    "name": "ipython",
    "version": 3
   },
   "file_extension": ".py",
   "mimetype": "text/x-python",
   "name": "python",
   "nbconvert_exporter": "python",
   "pygments_lexer": "ipython3",
   "version": "3.8.3"
  }
 },
 "nbformat": 4,
 "nbformat_minor": 1
}
