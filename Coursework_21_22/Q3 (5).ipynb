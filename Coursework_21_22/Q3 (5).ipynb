{
  "cells": [
    {
      "cell_type": "markdown",
      "metadata": {
        "id": "U7i3cypWrKvB"
      },
      "source": [
        "# Question 3 – Statistics - Regression Analysis (35 marks)\n",
        "\n",
        "In this question you will perform a linear regression. You are given a dataset (housing.csv) which includes information concerning housing in the area of Boston Mass. We will investigate whether the value of a house can be predicted from the information provided. The column names and a short description is provided below:\n",
        "\n",
        "```\n",
        "Columns description:\n",
        "- CRIM - per capita crime rate by town\n",
        "- INDUS - proportion of non-retail business acres per town\n",
        "- NOX - nitric oxides concentration (parts per 10 million)\n",
        "- AGE - proportion of owner-occupied units built prior to 1940\n",
        "- DIS - weighted distances to five Boston employment centres\n",
        "- RM - average number of rooms per dwelling\n",
        "- TAX - full-value property-tax rate per 10,000\n",
        "- PTRATIO - pupil-teacher ratio by town\n",
        "- B - 1000(Bk - 0.63)^2 where Bk is the proportion of blacks by town\n",
        "- LSTAT - % lower status of the population\n",
        "- MEDV - Median value of owner-occupied homes in 1000's\n",
        "```"
      ]
    },
    {
      "cell_type": "markdown",
      "metadata": {
        "id": "bvXmHh8YrOzr"
      },
      "source": [
        "## Q3.a - Linear regression: Measure predictors(10 marks)\n",
        "Implement a function `measure_predictors(filepath)` where `filepath` is the the path to `housing.csv`. The functions should fit the model using all available features `CRIM, INDUS, NOX, AGE, DIS, RM, TAX, PTRATIO, B, LSTAT` as predictors and the value of the house, `MEDV`, as the target. After fitting the model, print the summary of the model and the predictors that can be assumed to be insignificant based on their pvalue (given $\\alpha = 0.05$)."
      ]
    },
    {
      "cell_type": "code",
      "execution_count": 3,
      "metadata": {},
      "outputs": [],
      "source": [
        "# suggested imports\n",
        "import pandas as pd\n",
        "import numpy as np\n",
        "import statsmodels.api as sm\n",
        "import scipy\n",
        "from urllib import request\n",
        "import scipy.stats as stats\n",
        "from statsmodels import graphics\n",
        "import arviz as az\n",
        "import pymc3 as pm\n",
        "from pymc3 import glm\n",
        "%matplotlib inline\n",
        "import matplotlib.pyplot as plt\n",
        "from sklearn.metrics import accuracy_score, RocCurveDisplay, auc, roc_curve\n",
        "import seaborn as sns\n",
        "sns.set_style(style=\"darkgrid\", rc={\"axes.facecolor\": \".9\", \"grid.color\": \".8\"})\n",
        "sns.set_palette(palette=\"deep\")\n",
        "sns_c = sns.color_palette(palette=\"deep\")\n",
        "\n",
        "import warnings\n",
        "warnings.filterwarnings(\"ignore\")\n",
        "\n",
        "from pathlib import Path"
      ]
    },
    {
      "cell_type": "code",
      "execution_count": 4,
      "metadata": {
        "id": "ZiPQDTyo8jJN"
      },
      "outputs": [],
      "source": [
        "from sklearn.metrics import classification_report, roc_auc_score\n",
        "from sklearn.model_selection import train_test_split\n",
        "\n",
        "\n",
        "def measure_predictors(filepath):\n",
        "    data = pd.read_csv(filepath/\"housing.csv\")\n",
        "    data.head()\n",
        "    data.info()\n",
        "    data.describe()\n",
        "    data.isnull().sum()\n",
        "    data.dropna(inplace=True)\n",
        "    \n",
        "\n",
        "    # Traget variable\n",
        "    y = data['MEDV']\n",
        "\n",
        "    # Predictor variables\n",
        "    X = data.drop(['MEDV'], axis=1)\n",
        "\n",
        "    # Split data into train and test\n",
        "\n",
        "    X_train, X_test, y_train, y_test = train_test_split(X, y, test_size=0.2, random_state=42)\n",
        "\n",
        "    # Train the model\n",
        "    model = sm.OLS(y_train, X_train)\n",
        "    results = model.fit()\n",
        "    \n",
        "\n",
        "    # Predict on the test data\n",
        "    y_pred = results.predict(X_test)\n",
        "    \n",
        "    # Print Model summary\n",
        "    print(\"Model Summary:\")\n",
        "    print(results.summary())\n",
        "    print(results.summary().tables[1])\n",
        "    \n",
        "    \n",
        "\n",
        "\n",
        "    \n",
        "    # Evaluate the model\n",
        "    print('R-squared:', results.rsquared)\n",
        "    print('Adjusted R-squared:', results.rsquared_adj)\n",
        "    print('Mean absolute error:', np.mean(np.abs(y_pred - y_test)))\n",
        "    print('Mean squared error:', np.mean((y_pred - y_test)**2))\n",
        "    print('Root mean squared error:', np.sqrt(np.mean((y_pred - y_test)**2)))\n",
        "    print('Mean absolute percentage error:', np.mean(np.abs((y_pred - y_test)/y_test))*100)\n",
        "    print('Mean percentage error:', np.mean((y_pred - y_test)/y_test)*100)\n",
        "    print('\\n')\n",
        "    \n",
        "    # Print the insignificant predictors\n",
        "    print('Insignificant predictors:')\n",
        "    print(results.pvalues>0.05)\n",
        "    print('\\n')\n",
        "    \n",
        "\n",
        "    \n",
        "\n",
        "    return None\n",
        "    \n"
      ]
    },
    {
      "cell_type": "code",
      "execution_count": 5,
      "metadata": {
        "id": "i4u-9mm28jJO"
      },
      "outputs": [
        {
          "name": "stdout",
          "output_type": "stream",
          "text": [
            "<class 'pandas.core.frame.DataFrame'>\n",
            "RangeIndex: 394 entries, 0 to 393\n",
            "Data columns (total 11 columns):\n",
            " #   Column   Non-Null Count  Dtype  \n",
            "---  ------   --------------  -----  \n",
            " 0   TAX      394 non-null    int64  \n",
            " 1   CRIM     394 non-null    float64\n",
            " 2   INDUS    394 non-null    float64\n",
            " 3   AGE      394 non-null    float64\n",
            " 4   PTRATIO  394 non-null    float64\n",
            " 5   LSTAT    394 non-null    float64\n",
            " 6   DIS      394 non-null    float64\n",
            " 7   RM       394 non-null    float64\n",
            " 8   NOX      394 non-null    float64\n",
            " 9   B        394 non-null    float64\n",
            " 10  MEDV     394 non-null    float64\n",
            "dtypes: float64(10), int64(1)\n",
            "memory usage: 34.0 KB\n",
            "Model Summary:\n",
            "                                 OLS Regression Results                                \n",
            "=======================================================================================\n",
            "Dep. Variable:                   MEDV   R-squared (uncentered):                   0.966\n",
            "Model:                            OLS   Adj. R-squared (uncentered):              0.965\n",
            "Method:                 Least Squares   F-statistic:                              863.7\n",
            "Date:                Sun, 31 Jul 2022   Prob (F-statistic):                   3.83e-217\n",
            "Time:                        15:44:31   Log-Likelihood:                         -913.28\n",
            "No. Observations:                 315   AIC:                                      1847.\n",
            "Df Residuals:                     305   BIC:                                      1884.\n",
            "Df Model:                          10                                                  \n",
            "Covariance Type:            nonrobust                                                  \n",
            "==============================================================================\n",
            "                 coef    std err          t      P>|t|      [0.025      0.975]\n",
            "------------------------------------------------------------------------------\n",
            "TAX           -0.0025      0.003     -0.956      0.340      -0.008       0.003\n",
            "CRIM          -0.0891      0.032     -2.771      0.006      -0.152      -0.026\n",
            "INDUS         -0.0552      0.070     -0.790      0.430      -0.193       0.082\n",
            "AGE           -0.0311      0.016     -1.966      0.050      -0.062    3.24e-05\n",
            "PTRATIO       -0.6336      0.115     -5.505      0.000      -0.860      -0.407\n",
            "LSTAT         -0.2793      0.055     -5.105      0.000      -0.387      -0.172\n",
            "DIS           -0.7518      0.205     -3.666      0.000      -1.155      -0.348\n",
            "RM             6.5143      0.336     19.376      0.000       5.853       7.176\n",
            "NOX           -3.0219      3.790     -0.797      0.426     -10.480       4.436\n",
            "B              0.0146      0.003      5.053      0.000       0.009       0.020\n",
            "==============================================================================\n",
            "Omnibus:                      110.389   Durbin-Watson:                   1.808\n",
            "Prob(Omnibus):                  0.000   Jarque-Bera (JB):              515.838\n",
            "Skew:                           1.400   Prob(JB):                    9.71e-113\n",
            "Kurtosis:                       8.609   Cond. No.                     8.49e+03\n",
            "==============================================================================\n",
            "\n",
            "Notes:\n",
            "[1] R² is computed without centering (uncentered) since the model does not contain a constant.\n",
            "[2] Standard Errors assume that the covariance matrix of the errors is correctly specified.\n",
            "[3] The condition number is large, 8.49e+03. This might indicate that there are\n",
            "strong multicollinearity or other numerical problems.\n",
            "==============================================================================\n",
            "                 coef    std err          t      P>|t|      [0.025      0.975]\n",
            "------------------------------------------------------------------------------\n",
            "TAX           -0.0025      0.003     -0.956      0.340      -0.008       0.003\n",
            "CRIM          -0.0891      0.032     -2.771      0.006      -0.152      -0.026\n",
            "INDUS         -0.0552      0.070     -0.790      0.430      -0.193       0.082\n",
            "AGE           -0.0311      0.016     -1.966      0.050      -0.062    3.24e-05\n",
            "PTRATIO       -0.6336      0.115     -5.505      0.000      -0.860      -0.407\n",
            "LSTAT         -0.2793      0.055     -5.105      0.000      -0.387      -0.172\n",
            "DIS           -0.7518      0.205     -3.666      0.000      -1.155      -0.348\n",
            "RM             6.5143      0.336     19.376      0.000       5.853       7.176\n",
            "NOX           -3.0219      3.790     -0.797      0.426     -10.480       4.436\n",
            "B              0.0146      0.003      5.053      0.000       0.009       0.020\n",
            "==============================================================================\n",
            "R-squared: 0.965891456956398\n",
            "Adjusted R-squared: 0.9647731440697225\n",
            "Mean absolute error: 3.3556248698377025\n",
            "Mean squared error: 36.512308491966536\n",
            "Root mean squared error: 6.042541558977194\n",
            "Mean absolute percentage error: 15.121357346229367\n",
            "Mean percentage error: -0.11485590780625815\n",
            "\n",
            "\n",
            "Insignificant predictors:\n",
            "TAX         True\n",
            "CRIM       False\n",
            "INDUS       True\n",
            "AGE         True\n",
            "PTRATIO    False\n",
            "LSTAT      False\n",
            "DIS        False\n",
            "RM         False\n",
            "NOX         True\n",
            "B          False\n",
            "dtype: bool\n",
            "\n",
            "\n"
          ]
        }
      ],
      "source": [
        "root = Path('/Users/joydipb/Documents/Cardiff Uni/CMT309/CMT309_Comp_DS')\n",
        "measure_predictors(root)"
      ]
    },
    {
      "cell_type": "markdown",
      "metadata": {
        "id": "rxs7YATGiYhL"
      },
      "source": [
        "## Q3.b - Linear regression: Interaction analysis (8 marks)\n",
        "\n",
        "Implement a function `interaction_model(filename, var1, var2)` where `filepath` is the the path to `housing.csv` and `var1` and `var2` are the variables which their interaction term is included. The functions should fit the model using all available features `CRIM, INDUS, NOX, AGE, DIS, RM, TAX, PTRATIO, B, LSTA` plus the interaction term of `var1` and `var2` as predictors, and the value of the house, `MEDV`, as the target. After fitting the model, print the summary of the model. \n",
        "\n",
        "How the model's performance change when the interaction of `LSTAT` and `CRIM` is added when compared to the model of Q3.a (based on adjusted R-squared)?"
      ]
    },
    {
      "cell_type": "code",
      "execution_count": 19,
      "metadata": {
        "id": "gCHQASbc8jJP"
      },
      "outputs": [],
      "source": [
        "def interaction_model(filename, var1, var2):\n",
        "    data = pd.read_csv(root/filename)\n",
        "\n",
        "    # Traget variable\n",
        "    y = data['MEDV']\n",
        "\n",
        "    # Predictor variables\n",
        "    X = data.drop(['MEDV'], axis=1)\n",
        "\n",
        "    # Split data into train and test\n",
        "    y_train, y_test = train_test_split(y, test_size=0.2, random_state=42)\n",
        "    X_train, X_test = train_test_split(X, test_size=0.2, random_state=42)\n",
        "\n",
        "    # add the interaction term\n",
        "    X_train['interaction'] = X_train[var1] * X_train[var2]\n",
        "    X_test['interaction'] = X_test[var1] * X_test[var2]\n",
        "\n",
        "\n",
        "\n",
        "    # Train the model with all features and interaction term\n",
        "    \n",
        "    model = sm.OLS(y_train, X_train)\n",
        "    results = model.fit()\n",
        "\n",
        "    # Predict on the test data  with all features and interaction\n",
        "    \n",
        "    y_pred = results.predict(X_test)\n",
        "\n",
        "    # Print Model summary\n",
        "    print(\"Model Summary:\")\n",
        "    print(results.summary())\n",
        "    print(results.summary().tables[1])\n",
        "\n",
        "    # Evaluate the model\n",
        "    print('R-squared:', results.rsquared)\n",
        "    print('Adjusted R-squared:', results.rsquared_adj)\n",
        "    print('Mean absolute error:', np.mean(np.abs(y_pred - y_test)))\n",
        "    print('Mean squared error:', np.mean((y_pred - y_test)**2))\n",
        "    print('Root mean squared error:', np.sqrt(np.mean((y_pred - y_test)**2)))\n",
        "    print('Mean absolute percentage error:', np.mean(np.abs((y_pred - y_test)/y_test))*100)\n",
        "    print('Mean percentage error:', np.mean((y_pred - y_test)/y_test)*100)\n",
        "    print('\\n')\n",
        "\n",
        "    # Print the insignificant predictors\n",
        "    print('Insignificant predictors:')\n",
        "    print(results.pvalues>0.05)\n",
        "    print('\\n')"
      ]
    },
    {
      "cell_type": "code",
      "execution_count": 20,
      "metadata": {
        "id": "dHPqrk_St3p9"
      },
      "outputs": [
        {
          "name": "stdout",
          "output_type": "stream",
          "text": [
            "Model Summary:\n",
            "                                 OLS Regression Results                                \n",
            "=======================================================================================\n",
            "Dep. Variable:                   MEDV   R-squared (uncentered):                   0.966\n",
            "Model:                            OLS   Adj. R-squared (uncentered):              0.965\n",
            "Method:                 Least Squares   F-statistic:                              786.9\n",
            "Date:                Sun, 31 Jul 2022   Prob (F-statistic):                   5.22e-216\n",
            "Time:                        15:59:48   Log-Likelihood:                         -912.45\n",
            "No. Observations:                 315   AIC:                                      1847.\n",
            "Df Residuals:                     304   BIC:                                      1888.\n",
            "Df Model:                          11                                                  \n",
            "Covariance Type:            nonrobust                                                  \n",
            "===============================================================================\n",
            "                  coef    std err          t      P>|t|      [0.025      0.975]\n",
            "-------------------------------------------------------------------------------\n",
            "TAX            -0.0025      0.003     -0.957      0.339      -0.008       0.003\n",
            "CRIM           -0.2145      0.104     -2.054      0.041      -0.420      -0.009\n",
            "INDUS          -0.0425      0.071     -0.603      0.547      -0.181       0.096\n",
            "AGE            -0.0271      0.016     -1.683      0.093      -0.059       0.005\n",
            "PTRATIO        -0.6180      0.116     -5.344      0.000      -0.846      -0.390\n",
            "LSTAT          -0.3228      0.065     -4.996      0.000      -0.450      -0.196\n",
            "DIS            -0.7225      0.206     -3.504      0.001      -1.128      -0.317\n",
            "RM              6.4826      0.337     19.247      0.000       5.820       7.145\n",
            "NOX            -2.8789      3.788     -0.760      0.448     -10.333       4.575\n",
            "B               0.0142      0.003      4.865      0.000       0.008       0.020\n",
            "interaction     0.0062      0.005      1.263      0.208      -0.003       0.016\n",
            "==============================================================================\n",
            "Omnibus:                      105.703   Durbin-Watson:                   1.808\n",
            "Prob(Omnibus):                  0.000   Jarque-Bera (JB):              469.080\n",
            "Skew:                           1.352   Prob(JB):                    1.38e-102\n",
            "Kurtosis:                       8.332   Cond. No.                     8.66e+03\n",
            "==============================================================================\n",
            "\n",
            "Notes:\n",
            "[1] R² is computed without centering (uncentered) since the model does not contain a constant.\n",
            "[2] Standard Errors assume that the covariance matrix of the errors is correctly specified.\n",
            "[3] The condition number is large, 8.66e+03. This might indicate that there are\n",
            "strong multicollinearity or other numerical problems.\n",
            "===============================================================================\n",
            "                  coef    std err          t      P>|t|      [0.025      0.975]\n",
            "-------------------------------------------------------------------------------\n",
            "TAX            -0.0025      0.003     -0.957      0.339      -0.008       0.003\n",
            "CRIM           -0.2145      0.104     -2.054      0.041      -0.420      -0.009\n",
            "INDUS          -0.0425      0.071     -0.603      0.547      -0.181       0.096\n",
            "AGE            -0.0271      0.016     -1.683      0.093      -0.059       0.005\n",
            "PTRATIO        -0.6180      0.116     -5.344      0.000      -0.846      -0.390\n",
            "LSTAT          -0.3228      0.065     -4.996      0.000      -0.450      -0.196\n",
            "DIS            -0.7225      0.206     -3.504      0.001      -1.128      -0.317\n",
            "RM              6.4826      0.337     19.247      0.000       5.820       7.145\n",
            "NOX            -2.8789      3.788     -0.760      0.448     -10.333       4.575\n",
            "B               0.0142      0.003      4.865      0.000       0.008       0.020\n",
            "interaction     0.0062      0.005      1.263      0.208      -0.003       0.016\n",
            "===============================================================================\n",
            "R-squared: 0.9660693743530674\n",
            "Adjusted R-squared: 0.9648416214513692\n",
            "Mean absolute error: 3.312320880258267\n",
            "Mean squared error: 35.975964944508405\n",
            "Root mean squared error: 5.997996744289581\n",
            "Mean absolute percentage error: 14.363371400670596\n",
            "Mean percentage error: 0.30285758072982466\n",
            "\n",
            "\n",
            "Insignificant predictors:\n",
            "TAX             True\n",
            "CRIM           False\n",
            "INDUS           True\n",
            "AGE             True\n",
            "PTRATIO        False\n",
            "LSTAT          False\n",
            "DIS            False\n",
            "RM             False\n",
            "NOX             True\n",
            "B              False\n",
            "interaction     True\n",
            "dtype: bool\n",
            "\n",
            "\n"
          ]
        }
      ],
      "source": [
        "interaction_model(\"housing.csv\", \"LSTAT\", \"CRIM\")"
      ]
    },
    {
      "cell_type": "markdown",
      "metadata": {
        "id": "NknLJsL1so7I"
      },
      "source": [
        "## Q3.c - Polynomial regression: Best model & house predictor(12 marks)\n",
        "\n",
        "Often the dataset provided is not linearly separable and a simple linear regression model may not be able to derive relationships between both the independent and dependent variables. In such cases, a possible solution would be to implement polynomial regression instead. Polynomial regression is a form of regression analysis in which the relationship between the independent variable x and the dependent variable y is modelled as an nth degree polynomial in x.\n",
        "\n",
        "Example: Given y the depedent variable, x<sub>1</sub>, x<sub>2</sub> the independent variables, b<sub>0</sub> the bias and b<sub>1</sub>,b<sub>2</sub>,...,b<sub>n</sub> the weights a polynomial regression of degree 2 would have the form:\n",
        "\n",
        "y = b<sub>0</sub> + b<sub>1</sub>x<sub>1</sub>  + b<sub>2</sub>x<sub>1</sub><sup>2</sup> + b<sub>3</sub>x<sub>2</sub>  + b<sub>4</sub>x<sub>2</sub><sup>2</sup>\n",
        "\n",
        "Implement a function `polynomial_model(df, indepedent_var, dependent_var, degrees)` which given a dataframe `df`, a list of columns indicating the independent variables `indepedent_var`, a string indicating the dependent variable name `dependent_var`, and a list of integers indicating the degrees to test `degrees`, will return the best fitted regression model, best Adj. R-squared score and best degree.\n",
        "\n",
        "Then, use the housing dataset, drop any features that were deemed non-significant in Q3.a, and find the degree that yields the best polynomial model (according to the adjusted R-squared metric) to predict the value of a house.\n",
        "\n"
      ]
    },
    {
      "cell_type": "code",
      "execution_count": 42,
      "metadata": {
        "id": "g2cKlvdzsh-_"
      },
      "outputs": [],
      "source": [
        "from sklearn.preprocessing import PolynomialFeatures\n",
        "\n",
        "\n",
        "def polynomial_model(df, indepedent_var, dependent_var, degrees):\n",
        "    \n",
        "    # Initialize the best model\n",
        "    best_model = None\n",
        "    best_model_score = 0\n",
        "\n",
        "    # Initialize the best degree\n",
        "    best_degree = 0\n",
        "\n",
        "    # Loop through all the degrees\n",
        "    for degree in degrees:\n",
        "        # Create the polynomial features\n",
        "        poly_features = PolynomialFeatures(degree=degree)\n",
        "        X_poly = poly_features.fit_transform(df[indepedent_var])\n",
        "        X_poly = pd.DataFrame(X_poly)\n",
        "\n",
        "        # Add the dependent variable\n",
        "        X_poly[dependent_var] = df[dependent_var]\n",
        "\n",
        "        # Split data into train and test\n",
        "        X_train, X_test, y_train, y_test = train_test_split(X_poly, df[dependent_var], test_size=0.2, random_state=42)\n",
        "\n",
        "        # Train the model\n",
        "        model = sm.OLS(y_train, X_train)\n",
        "        results = model.fit()\n",
        "\n",
        "        # Predict on the test data\n",
        "        y_pred = results.predict(X_test)\n",
        "\n",
        "        # Evaluate the model using adjusted R-squared\n",
        "        score = results.rsquared_adj\n",
        "        \n",
        "\n",
        "        # Update the best model if the score is better\n",
        "        if score > best_model_score:\n",
        "            best_model = results\n",
        "            best_model_score = score\n",
        "            best_degree = degree\n",
        "\n",
        "    # Print the best model\n",
        "    print(\"Best model:\")\n",
        "    print(best_model.summary())\n",
        "    print(best_model.summary().tables[1])\n",
        "\n",
        "    # Print the best degree\n",
        "    print(\"Best degree:\")\n",
        "    print(best_degree)\n",
        "    print('\\n')\n",
        "\n",
        "    # Print the best model score\n",
        "    print(\"Best model score:\")\n",
        "    print(best_model_score)\n",
        "    print('\\n')\n",
        "\n",
        "    return best_model, best_model_score, best_degree"
      ]
    },
    {
      "cell_type": "code",
      "execution_count": 43,
      "metadata": {
        "id": "v9ip9ZPqv2da"
      },
      "outputs": [
        {
          "name": "stdout",
          "output_type": "stream",
          "text": [
            "Best model:\n",
            "                            OLS Regression Results                            \n",
            "==============================================================================\n",
            "Dep. Variable:                   MEDV   R-squared:                       1.000\n",
            "Model:                            OLS   Adj. R-squared:                  1.000\n",
            "Method:                 Least Squares   F-statistic:                 1.138e+31\n",
            "Date:                Sun, 31 Jul 2022   Prob (F-statistic):               0.00\n",
            "Time:                        20:10:48   Log-Likelihood:                 9525.3\n",
            "No. Observations:                 315   AIC:                        -1.903e+04\n",
            "Df Residuals:                     307   BIC:                        -1.900e+04\n",
            "Df Model:                           7                                         \n",
            "Covariance Type:            nonrobust                                         \n",
            "==============================================================================\n",
            "                 coef    std err          t      P>|t|      [0.025      0.975]\n",
            "------------------------------------------------------------------------------\n",
            "0          -4.174e-14   2.05e-14     -2.040      0.042    -8.2e-14   -1.47e-15\n",
            "1          -4.077e-16   1.25e-16     -3.274      0.001   -6.53e-16   -1.63e-16\n",
            "2           8.153e-17    5.8e-16      0.140      0.888   -1.06e-15    1.22e-15\n",
            "3          -5.395e-16   2.41e-16     -2.237      0.026   -1.01e-15    -6.5e-17\n",
            "4           1.769e-16   5.97e-16      0.296      0.767   -9.98e-16    1.35e-15\n",
            "5           4.899e-15   2.27e-15      2.162      0.031    4.41e-16    9.36e-15\n",
            "6           4.597e-17   1.25e-17      3.678      0.000    2.14e-17    7.06e-17\n",
            "MEDV           1.0000    2.3e-16   4.35e+15      0.000       1.000       1.000\n",
            "==============================================================================\n",
            "Omnibus:                      130.953   Durbin-Watson:                   0.428\n",
            "Prob(Omnibus):                  0.000   Jarque-Bera (JB):              489.834\n",
            "Skew:                           1.814   Prob(JB):                    4.30e-107\n",
            "Kurtosis:                       7.916   Cond. No.                     7.45e+03\n",
            "==============================================================================\n",
            "\n",
            "Notes:\n",
            "[1] Standard Errors assume that the covariance matrix of the errors is correctly specified.\n",
            "[2] The condition number is large, 7.45e+03. This might indicate that there are\n",
            "strong multicollinearity or other numerical problems.\n",
            "==============================================================================\n",
            "                 coef    std err          t      P>|t|      [0.025      0.975]\n",
            "------------------------------------------------------------------------------\n",
            "0          -4.174e-14   2.05e-14     -2.040      0.042    -8.2e-14   -1.47e-15\n",
            "1          -4.077e-16   1.25e-16     -3.274      0.001   -6.53e-16   -1.63e-16\n",
            "2           8.153e-17    5.8e-16      0.140      0.888   -1.06e-15    1.22e-15\n",
            "3          -5.395e-16   2.41e-16     -2.237      0.026   -1.01e-15    -6.5e-17\n",
            "4           1.769e-16   5.97e-16      0.296      0.767   -9.98e-16    1.35e-15\n",
            "5           4.899e-15   2.27e-15      2.162      0.031    4.41e-16    9.36e-15\n",
            "6           4.597e-17   1.25e-17      3.678      0.000    2.14e-17    7.06e-17\n",
            "MEDV           1.0000    2.3e-16   4.35e+15      0.000       1.000       1.000\n",
            "==============================================================================\n",
            "Best degree:\n",
            "1\n",
            "\n",
            "\n",
            "Best model score:\n",
            "1.0\n",
            "\n",
            "\n"
          ]
        }
      ],
      "source": [
        "# Example\n",
        "df = pd.read_csv(root/\"housing.csv\")\n",
        "indepedent_var = ['CRIM','PTRATIO', 'LSTAT', 'DIS' , 'RM','B'] # remember to exclude potential non-significant predictors\n",
        "dependent_var = 'MEDV'\n",
        "degrees = [1,2,3,4,5,6,7,8,9,10]\n",
        "\n",
        "fitted_model, adj_rsquare, degree = polynomial_model(df, indepedent_var, dependent_var, degrees)"
      ]
    },
    {
      "cell_type": "markdown",
      "metadata": {
        "id": "HiWlygd7s4d_"
      },
      "source": [
        "## Q3.d - Residual analysis: Plot (5 marks)\n",
        "\n",
        "Metrics such as adjusted R-square and R-square provide useful insights but they do not necessary indicate an appropriate model. Residual analysis is used to assess the appropriateness of a linear regression model by defining residuals and examining the residual plot graphs. Perform a residual analysis on the best model acquired from Question Q3.c) by plotting and interpreting the residuals vs fitted values plot. Implement a function `plot_residuals(model)` where `model` is a fitted model (in your case the one returned from `polynomial_model(df, indepedent_var, dependent_var, degrees)` function in Q3.c) that plots the residuals vs the fitted values. "
      ]
    },
    {
      "cell_type": "code",
      "execution_count": 74,
      "metadata": {
        "id": "qbjFbQEb8jJQ"
      },
      "outputs": [],
      "source": [
        "def plot_residuals(model):\n",
        "    residuals = model.resid\n",
        "    plt.scatter(model.fittedvalues, residuals)\n",
        "    # Fitted value vs residuals\n",
        "    plt.title('Fitted values vs residuals')\n",
        "\n",
        "    # Plot the regression line\n",
        "    plt.plot(model.fittedvalues, np.zeros(len(model.fittedvalues)), 'r')\n",
        "    \n",
        "    plt.xlabel('Fitted values')\n",
        "    plt.ylabel('Residuals')\n",
        "    plt.show()\n",
        "\n",
        "\n",
        "    pass"
      ]
    },
    {
      "cell_type": "code",
      "execution_count": 78,
      "metadata": {},
      "outputs": [],
      "source": [
        "def plot_residuals_2(model):\n",
        "#define figure size\n",
        "    fig = plt.figure(figsize=(12,8))\n",
        "\n",
        "#produce regression plots\n",
        "    fig = sm.graphics.plot_regress_exog(model, 'MEDV', fig=fig)\n",
        "\n",
        "    pass\n",
        "\n"
      ]
    },
    {
      "cell_type": "code",
      "execution_count": 75,
      "metadata": {
        "id": "J9sjJuqU8jJR"
      },
      "outputs": [
        {
          "data": {
            "image/png": "[encoded data removed]",
            "text/plain": [
              "<Figure size 432x288 with 1 Axes>"
            ]
          },
          "metadata": {},
          "output_type": "display_data"
        }
      ],
      "source": [
        "plot_residuals(fitted_model)"
      ]
    },
    {
      "cell_type": "code",
      "execution_count": 79,
      "metadata": {},
      "outputs": [
        {
          "name": "stdout",
          "output_type": "stream",
          "text": [
            "eval_env: 1\n"
          ]
        },
        {
          "data": {
            "image/png": "[encoded data removed]",
            "text/plain": [
              "<Figure size 864x576 with 4 Axes>"
            ]
          },
          "metadata": {},
          "output_type": "display_data"
        }
      ],
      "source": [
        "# Residual vs fitted values plot is the top right corner of the plot.\n",
        "# residual vs. fitted plot by using the plot_regress_exog() function from the statsmodels library\n",
        "plot_residuals_2(fitted_model)\n",
        "# "
      ]
    }
  ],
  "metadata": {
    "colab": {
      "collapsed_sections": [],
      "name": "Q3.ipynb",
      "provenance": []
    },
    "kernelspec": {
      "display_name": "Python 3.8.5 64-bit",
      "language": "python",
      "name": "python3"
    },
    "language_info": {
      "codemirror_mode": {
        "name": "ipython",
        "version": 3
      },
      "file_extension": ".py",
      "mimetype": "text/x-python",
      "name": "python",
      "nbconvert_exporter": "python",
      "pygments_lexer": "ipython3",
      "version": "3.8.5"
    },
    "vscode": {
      "interpreter": {
        "hash": "aee8b7b246df8f9039afb4144a1f6fd8d2ca17a180786b69acc140d282b71a49"
      }
    }
  },
  "nbformat": 4,
  "nbformat_minor": 0
}
