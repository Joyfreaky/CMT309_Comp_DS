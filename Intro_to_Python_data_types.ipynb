{
 "cells": [
  {
   "cell_type": "code",
   "execution_count": 1,
   "metadata": {},
   "outputs": [
    {
     "data": {
      "text/plain": [
       "4"
      ]
     },
     "execution_count": 1,
     "metadata": {},
     "output_type": "execute_result"
    }
   ],
   "source": [
    "2+2"
   ]
  },
  {
   "cell_type": "code",
   "execution_count": 2,
   "metadata": {},
   "outputs": [
    {
     "name": "stdout",
     "output_type": "stream",
     "text": [
      "4\n"
     ]
    }
   ],
   "source": [
    "print(2+2)"
   ]
  },
  {
   "cell_type": "markdown",
   "metadata": {},
   "source": [
    "# Introduction to Python \n",
    "\n",
    "This is where we can add text\n",
    "\n",
    "we must desginate this cell as a 'markdown' cell \n",
    "\n",
    "with a single hashtag we get a big section header\n",
    "\n",
    "We can also add subections. \n",
    "\n",
    "## Subsection \n",
    "\n",
    "It is convenient to communicate how your code works and what it is doing with markdown cells! \n",
    "\n",
    "You can also use LaTex commands in-line with single dollar signs: $\\int_0^\\infty f(x) dx$\n",
    "\n",
    "You can add LaTex equations centered on their own Lines with double dollar signs: $$\\sum_{i=1}^\\infty \\frac{1}{2^i} $$"
   ]
  },
  {
   "cell_type": "markdown",
   "metadata": {},
   "source": [
    "## Shortcuts \n",
    "\n",
    "We can look at the existing keyboard shortcuts through the help menu, and we can make our own there\n",
    "\n",
    "The most important shortcuts are\n",
    "\n",
    " 1. Shift + Enter -> Runs the cell and goes to next cell\n",
    " 2. Ctrl + Enter -> Runs the cell and stays in the cell \n",
    " 3. Alt + Enter -> Runs the cell and creates a new cell under your cell\n",
    " 4. Tab -> Write the first letter of the python function or command and press 'Tab' drops will appear with all the commands and function starts with the letter. \n",
    " 5. Shift + Tab -> Press Shift + Tab in front of your function it will provide you the information about the function in a drop down. \n",
    "  \n",
    " \n",
    " \n",
    " "
   ]
  },
  {
   "cell_type": "code",
   "execution_count": 4,
   "metadata": {},
   "outputs": [
    {
     "name": "stdout",
     "output_type": "stream",
     "text": [
      "Five times a is 15 and 3 multiplied by a is 9\n",
      "Five times a is 10 and 3 multiplied by a is 6\n"
     ]
    }
   ],
   "source": [
    "# We can add comments to code cells using a hastag\n",
    "# on windows you can comment a line with 'ctrl + /'\n",
    "# on mac you can comment a line with 'cmd + /'\n",
    "# \n",
    "# assign a variable to a literal value. \n",
    "a = 3 # assign variable a to literal 3\n",
    "print('Five times a is',5*a, 'and 3 multiplied by a is', 3*a)\n",
    "a = 2 \n",
    "print('Five times a is',5*a, 'and 3 multiplied by a is', 3*a)\n"
   ]
  },
  {
   "cell_type": "code",
   "execution_count": 7,
   "metadata": {},
   "outputs": [
    {
     "name": "stdout",
     "output_type": "stream",
     "text": [
      "a is of type <class 'int'>\n",
      "b is of type <class 'float'>\n",
      "c is of type <class 'float'> and its value is 0.9523809523809523\n",
      "d is of type <class 'float'> and its value is 0.9523809523809523\n"
     ]
    }
   ],
   "source": [
    "# we can also inspect the type of variable \n",
    "\n",
    "print('a is of type', type(a))\n",
    "b = 2.1\n",
    "print('b is of type', type(b))\n",
    "c = float(a)/b\n",
    "print('c is of type', type(c), 'and its value is', c)\n",
    "d = a/b \n",
    "print('d is of type', type(d), 'and its value is', d)"
   ]
  },
  {
   "cell_type": "markdown",
   "metadata": {},
   "source": [
    "## Collection of Variables\n",
    "\n",
    "There are 4 main types of collections of variable in python. \n",
    "\n",
    "1. list\n",
    "2. touple\n",
    "3. set\n",
    "4. dictionary"
   ]
  },
  {
   "cell_type": "code",
   "execution_count": 2,
   "metadata": {},
   "outputs": [
    {
     "name": "stdout",
     "output_type": "stream",
     "text": [
      "['Dan', 2, 3, 4, 'python', 2.71]\n",
      "Dan\n",
      "4\n",
      "2.71\n",
      "python\n",
      "4\n",
      "6\n"
     ]
    }
   ],
   "source": [
    "# A list s an ordered and indexed collection of values that are changeable and allows duplicates. \n",
    "\n",
    "simple_list = [\"Dan\",2,3,4,\"python\",2.71]\n",
    "print(simple_list)\n",
    "print(simple_list[0])\n",
    "print(simple_list[3])\n",
    "print(simple_list[-1])\n",
    "print(simple_list[-2])\n",
    "print(simple_list[-3])\n",
    "print(len(simple_list))\n"
   ]
  },
  {
   "cell_type": "code",
   "execution_count": 3,
   "metadata": {},
   "outputs": [
    {
     "name": "stdout",
     "output_type": "stream",
     "text": [
      "52\n",
      "['Dan', 2, 3, 52, 'python', 2.71, 'to the back']\n",
      "7\n",
      "['Dan', 2, 3, 52, 2.71, 'to the back']\n"
     ]
    }
   ],
   "source": [
    "simple_list[3] = 52\n",
    "print(simple_list[3]) # index is based on 0 !!!\n",
    "simple_list.append(\"to the back\")\n",
    "print(simple_list)\n",
    "print(len(simple_list))\n",
    "simple_list.pop(4)\n",
    "print(simple_list)"
   ]
  },
  {
   "cell_type": "code",
   "execution_count": 4,
   "metadata": {},
   "outputs": [
    {
     "name": "stdout",
     "output_type": "stream",
     "text": [
      "[5, 5, 5, 5]\n"
     ]
    }
   ],
   "source": [
    "# it is easy to initialize a list of a particular size with all entries the same. \n",
    "\n",
    "repeated_list = [5] * 4\n",
    "print(repeated_list)"
   ]
  },
  {
   "cell_type": "code",
   "execution_count": 5,
   "metadata": {},
   "outputs": [
    {
     "name": "stdout",
     "output_type": "stream",
     "text": [
      "['Dan', [1, 2, 3], 3, 52, 2.71, 'to the back']\n",
      "[1, 2, 3]\n",
      "2\n"
     ]
    }
   ],
   "source": [
    "# we can even use list as entries of a list \n",
    "\n",
    "simple_list[1] = [1,2,3]\n",
    "print(simple_list)\n",
    "print(simple_list[1])\n",
    "print(simple_list[1][1])"
   ]
  },
  {
   "cell_type": "code",
   "execution_count": 6,
   "metadata": {},
   "outputs": [
    {
     "name": "stdout",
     "output_type": "stream",
     "text": [
      "['Dan', [1, 2, 3], 3, 52, 2.71, 'to the back']\n",
      "['Dan', [1, 2, 3], 3, 52, 2.71, 'to the back']\n",
      "['Dan', 0, 3, 52, 2.71, 'to the back']\n",
      "['Dan', 0, 3, 52, 2.71, 'to the back']\n"
     ]
    }
   ],
   "source": [
    "# Copying list is a little tricky \n",
    "\n",
    "list2 = simple_list \n",
    "print(list2)\n",
    "print(simple_list)\n",
    "list2[1] = 0\n",
    "print(list2)\n",
    "print(simple_list)\n"
   ]
  },
  {
   "cell_type": "code",
   "execution_count": 7,
   "metadata": {},
   "outputs": [
    {
     "name": "stdout",
     "output_type": "stream",
     "text": [
      "['Dan', 0, 3, 52, 2.71, 'to the back']\n",
      "['Dan', 0, 3, 52, 2.71, 'to the back']\n",
      "['Mitchell', 0, 3, 52, 2.71, 'to the back']\n",
      "['Dan', 0, 3, 52, 2.71, 'to the back']\n"
     ]
    }
   ],
   "source": [
    "# we must use the copy method to prevent this behavior. \n",
    "\n",
    "list3 = simple_list.copy()\n",
    "print(list3)\n",
    "print(simple_list)\n",
    "list3[0] = 'Mitchell'\n",
    "print(list3)\n",
    "print(simple_list)"
   ]
  },
  {
   "cell_type": "code",
   "execution_count": 8,
   "metadata": {},
   "outputs": [
    {
     "name": "stdout",
     "output_type": "stream",
     "text": [
      "(12, 42, 11, 99, 2351)\n",
      "42\n"
     ]
    }
   ],
   "source": [
    "# tuple is an ordered collection of values that are changeable and does not allow duplicates. \n",
    "\n",
    "simple_tuple = (12,42,11,99,2351)\n",
    "\n",
    "print(simple_tuple) \n",
    "print(simple_tuple[1])\n"
   ]
  },
  {
   "cell_type": "code",
   "execution_count": 9,
   "metadata": {},
   "outputs": [
    {
     "ename": "TypeError",
     "evalue": "'tuple' object does not support item assignment",
     "output_type": "error",
     "traceback": [
      "\u001b[0;31m---------------------------------------------------------------------------\u001b[0m",
      "\u001b[0;31mTypeError\u001b[0m                                 Traceback (most recent call last)",
      "\u001b[0;32m<ipython-input-9-14b8d3a38e42>\u001b[0m in \u001b[0;36m<module>\u001b[0;34m\u001b[0m\n\u001b[1;32m      1\u001b[0m \u001b[0;31m# it is not possible to change entries in a tuple\u001b[0m\u001b[0;34m\u001b[0m\u001b[0;34m\u001b[0m\u001b[0;34m\u001b[0m\u001b[0m\n\u001b[1;32m      2\u001b[0m \u001b[0;34m\u001b[0m\u001b[0m\n\u001b[0;32m----> 3\u001b[0;31m \u001b[0msimple_tuple\u001b[0m\u001b[0;34m[\u001b[0m\u001b[0;36m0\u001b[0m\u001b[0;34m]\u001b[0m \u001b[0;34m=\u001b[0m \u001b[0;36m5\u001b[0m\u001b[0;34m\u001b[0m\u001b[0;34m\u001b[0m\u001b[0m\n\u001b[0m",
      "\u001b[0;31mTypeError\u001b[0m: 'tuple' object does not support item assignment"
     ]
    }
   ],
   "source": [
    "# it is not possible to change entries in a tuple \n",
    "\n",
    "simple_tuple[0] = 5"
   ]
  },
  {
   "cell_type": "code",
   "execution_count": 10,
   "metadata": {},
   "outputs": [
    {
     "name": "stdout",
     "output_type": "stream",
     "text": [
      "(5, 42, 11, 99, 2351)\n"
     ]
    }
   ],
   "source": [
    "# You can work around this though..... \n",
    "\n",
    "dummy = list(simple_tuple)\n",
    "dummy[0] = 5\n",
    "simple_tuple = tuple(dummy)\n",
    "print(simple_tuple)"
   ]
  },
  {
   "cell_type": "code",
   "execution_count": 11,
   "metadata": {},
   "outputs": [
    {
     "name": "stdout",
     "output_type": "stream",
     "text": [
      "{11, 'water', -2}\n"
     ]
    }
   ],
   "source": [
    "# a set is an unordered collection of values that are changeable and does not allow duplicates \n",
    "\n",
    "simple_set = {11,-2,'water',-2}\n",
    "print(simple_set)"
   ]
  },
  {
   "cell_type": "code",
   "execution_count": 12,
   "metadata": {},
   "outputs": [
    {
     "ename": "TypeError",
     "evalue": "'set' object is not subscriptable",
     "output_type": "error",
     "traceback": [
      "\u001b[0;31m---------------------------------------------------------------------------\u001b[0m",
      "\u001b[0;31mTypeError\u001b[0m                                 Traceback (most recent call last)",
      "\u001b[0;32m<ipython-input-12-263fc76fcfaa>\u001b[0m in \u001b[0;36m<module>\u001b[0;34m\u001b[0m\n\u001b[0;32m----> 1\u001b[0;31m \u001b[0mprint\u001b[0m\u001b[0;34m(\u001b[0m\u001b[0msimple_set\u001b[0m\u001b[0;34m[\u001b[0m\u001b[0;36m1\u001b[0m\u001b[0;34m]\u001b[0m\u001b[0;34m)\u001b[0m\u001b[0;34m\u001b[0m\u001b[0;34m\u001b[0m\u001b[0m\n\u001b[0m",
      "\u001b[0;31mTypeError\u001b[0m: 'set' object is not subscriptable"
     ]
    }
   ],
   "source": [
    "print(simple_set[1])"
   ]
  },
  {
   "cell_type": "code",
   "execution_count": 13,
   "metadata": {},
   "outputs": [
    {
     "name": "stdout",
     "output_type": "stream",
     "text": [
      "True\n"
     ]
    }
   ],
   "source": [
    "print('water' in simple_set)"
   ]
  },
  {
   "cell_type": "code",
   "execution_count": 14,
   "metadata": {},
   "outputs": [
    {
     "name": "stdout",
     "output_type": "stream",
     "text": [
      "{72, 11, 'water', -2}\n",
      "{72, 11, -2}\n"
     ]
    }
   ],
   "source": [
    "# you can't change values but can add and remove entries from a set\n",
    "\n",
    "simple_set.add(72)\n",
    "print(simple_set)\n",
    "simple_set.remove('water')\n",
    "print(simple_set)"
   ]
  },
  {
   "cell_type": "code",
   "execution_count": 1,
   "metadata": {},
   "outputs": [
    {
     "name": "stdout",
     "output_type": "stream",
     "text": [
      "{'brand': 'Apple', 'product': 'iPhone', 'model': 'X'}\n",
      "I brought an iPhone model X from Apple\n"
     ]
    }
   ],
   "source": [
    "# A dictionary is a collection of values that are unordered (but indexed) and changeable\n",
    "simple_dict = {\n",
    "    \"brand\": \"Apple\",\n",
    "    \"product\": \"iPhone\",\n",
    "    \"model\": \"X\"\n",
    "}\n",
    "print(simple_dict)\n",
    "print('I brought an',simple_dict['product'],\"model\",simple_dict['model'],'from',simple_dict['brand'])\n"
   ]
  },
  {
   "cell_type": "code",
   "execution_count": 2,
   "metadata": {},
   "outputs": [
    {
     "name": "stdout",
     "output_type": "stream",
     "text": [
      "I brought an iPhone model 11 pro from Apple\n"
     ]
    }
   ],
   "source": [
    "simple_dict[\"model\"] = \"11 pro\"\n",
    "print('I brought an',simple_dict['product'],\"model\",simple_dict['model'],'from',simple_dict['brand'])"
   ]
  },
  {
   "cell_type": "code",
   "execution_count": 4,
   "metadata": {},
   "outputs": [
    {
     "name": "stdout",
     "output_type": "stream",
     "text": [
      "I brought an iPhone model 11 pro from Apple of color red\n"
     ]
    }
   ],
   "source": [
    "# We can also add entries to the dictionary\n",
    "simple_dict['color'] = 'red'\n",
    "print('I brought an', simple_dict['product'],\"model\",simple_dict['model'],'from',simple_dict['brand'],\"of color\",simple_dict['color'])"
   ]
  },
  {
   "cell_type": "markdown",
   "metadata": {},
   "source": [
    "# Accessing data in lists\n",
    "\n",
    "A list is the main data type we will use for now and there are some rules we need to remember for accessing data in lists.\n",
    "\n",
    "Later we''ll get into NumPy arrays, but the same rules here apply to them. \n",
    "\n",
    "With NumPy arrays we can access data in more ways. \n",
    "\n"
   ]
  },
  {
   "cell_type": "code",
   "execution_count": 5,
   "metadata": {},
   "outputs": [
    {
     "name": "stdout",
     "output_type": "stream",
     "text": [
      "[2, 7, 3]\n",
      "[2]\n",
      "[7, 3, 66, 1923]\n"
     ]
    }
   ],
   "source": [
    "simple_list = [1,5,2,7,3,66,1923,11]\n",
    "# we can access multiple values in the list using the :\n",
    "# we must be careful though\n",
    "print(simple_list[2:5])\n",
    "# Why isn't 66 in the output ?\n",
    "# The number to the left of the: is inclusive, but the number to the right is exclusive\n",
    "print(simple_list[2:3])\n",
    "# we can also use negative numbers\n",
    "print(simple_list[-5:-1])"
   ]
  },
  {
   "cell_type": "markdown",
   "metadata": {},
   "source": [
    "## Wrapping up \n",
    "\n",
    "once we are done with a noteboook we can export it as an html file.\n",
    "\n",
    "file/ Downlaod as / HTML\n",
    "\n",
    "The code in this HTML file can't be re-run but is a concise way to communicate your results. And anyone can copy/paste your cell inputs \n"
   ]
  },
  {
   "cell_type": "code",
   "execution_count": null,
   "metadata": {},
   "outputs": [],
   "source": []
  }
 ],
 "metadata": {
  "kernelspec": {
   "display_name": "Python 3",
   "language": "python",
   "name": "python3"
  },
  "language_info": {
   "codemirror_mode": {
    "name": "ipython",
    "version": 3
   },
   "file_extension": ".py",
   "mimetype": "text/x-python",
   "name": "python",
   "nbconvert_exporter": "python",
   "pygments_lexer": "ipython3",
   "version": "3.8.3"
  }
 },
 "nbformat": 4,
 "nbformat_minor": 4
}
