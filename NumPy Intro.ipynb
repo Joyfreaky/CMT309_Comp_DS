{
 "cells": [
  {
   "cell_type": "markdown",
   "metadata": {},
   "source": [
    "## NumPy\n",
    "\n",
    "numpy is python's package for doing math that is more advanced than +-*/\n",
    "\n",
    "This includes special functions like cosine, exponential, sqrt,....\n",
    "\n",
    "On top of this we can use numpy to generate samples from many types of random variables\n",
    "\n",
    "numpy also has a powerful data type to define vectors, matrices, and tensors. \n",
    "\n",
    "With these data types numpy also allows us to do linear algebra - matrix multiplication and matrix-vector solutions"
   ]
  },
  {
   "cell_type": "code",
   "execution_count": 20,
   "metadata": {},
   "outputs": [],
   "source": [
    "# the first step of using numpy is to tell python to use it\n",
    "import numpy as np"
   ]
  },
  {
   "cell_type": "code",
   "execution_count": 21,
   "metadata": {},
   "outputs": [
    {
     "name": "stdout",
     "output_type": "stream",
     "text": [
      "-1.0\n",
      "1.1\n",
      "5.2\n"
     ]
    }
   ],
   "source": [
    "print(np.cos(np.pi))\n",
    "print(np.sqrt(1.21))\n",
    "print(np.log(np.exp(5.2)))"
   ]
  },
  {
   "cell_type": "code",
   "execution_count": 22,
   "metadata": {},
   "outputs": [
    {
     "name": "stdout",
     "output_type": "stream",
     "text": [
      "[1 2 3]\n",
      "\n",
      "[[1 2 1]\n",
      " [4 5 9]\n",
      " [1 8 9]]\n",
      "\n",
      "[[1 4 1]\n",
      " [2 5 8]\n",
      " [1 9 9]]\n"
     ]
    }
   ],
   "source": [
    "# we can create numpy arrays by converting lists\n",
    "# this is a vector\n",
    "\n",
    "vec = np.array([1,2,3])\n",
    "print(vec)\n",
    "\n",
    "# we can create matrices by converting list of lists\n",
    "mat = np.array([[1,2,1],[4,5,9],[1,8,9]])\n",
    "print('')\n",
    "print(mat)\n",
    "print('')\n",
    "print(mat.T) # Tranpose of a matrix.\n",
    "\n"
   ]
  },
  {
   "cell_type": "code",
   "execution_count": 23,
   "metadata": {},
   "outputs": [
    {
     "name": "stdout",
     "output_type": "stream",
     "text": [
      "[ 0  1  2  3  4  5  6  7  8  9 10 11 12 13 14]\n",
      "\n",
      "[ 3  9 15]\n"
     ]
    }
   ],
   "source": [
    "# There are lots of other ways to create numpy arrays\n",
    "\n",
    "vec2 = np.arange(0,15) # Starting point is inclusive and stopping point is exclusive. \n",
    "print(vec2)\n",
    "print('')\n",
    "vec3 = np.arange(3,21,6)\n",
    "print(vec3)"
   ]
  },
  {
   "cell_type": "code",
   "execution_count": 24,
   "metadata": {},
   "outputs": [
    {
     "name": "stdout",
     "output_type": "stream",
     "text": [
      "[0.         0.55555556 1.11111111 1.66666667 2.22222222 2.77777778\n",
      " 3.33333333 3.88888889 4.44444444 5.        ]\n",
      "\n",
      "[[0.         0.55555556]\n",
      " [1.11111111 1.66666667]\n",
      " [2.22222222 2.77777778]\n",
      " [3.33333333 3.88888889]\n",
      " [4.44444444 5.        ]]\n",
      "[[0.         0.55555556]\n",
      " [1.11111111 1.66666667]\n",
      " [2.22222222 2.77777778]\n",
      " [3.33333333 3.88888889]\n",
      " [4.44444444 5.        ]]\n",
      "[0.         0.55555556 1.11111111 1.66666667 2.22222222 2.77777778\n",
      " 3.33333333 3.88888889 4.44444444 5.        ]\n"
     ]
    }
   ],
   "source": [
    "vec4 = np.linspace(0,5,10) # Starting and stopping point is inclusive. Th\n",
    "print(vec4)\n",
    "print('')\n",
    "print(vec4.reshape(5,2))\n",
    "vec4_reshaped = vec4.reshape(5,2)\n",
    "print(vec4_reshaped)\n",
    "print(vec4)"
   ]
  },
  {
   "cell_type": "code",
   "execution_count": 25,
   "metadata": {},
   "outputs": [
    {
     "name": "stdout",
     "output_type": "stream",
     "text": [
      "[[0. 0. 0.]\n",
      " [0. 0. 0.]\n",
      " [0. 0. 0.]\n",
      " [0. 0. 0.]\n",
      " [0. 0. 0.]]\n",
      "\n",
      "[[1. 1. 1. 1. 1.]\n",
      " [1. 1. 1. 1. 1.]\n",
      " [1. 1. 1. 1. 1.]]\n",
      "\n",
      "[[1. 0. 0. 0. 0.]\n",
      " [0. 1. 0. 0. 0.]\n",
      " [0. 0. 1. 0. 0.]\n",
      " [0. 0. 0. 1. 0.]\n",
      " [0. 0. 0. 0. 1.]]\n"
     ]
    }
   ],
   "source": [
    "mat2 = np.zeros([5,3])\n",
    "print(mat2)\n",
    "mat3 = np.ones((3,5))\n",
    "print('')\n",
    "print(mat3)\n",
    "mat4 = np.eye(5)\n",
    "print('')\n",
    "print(mat4)\n"
   ]
  },
  {
   "cell_type": "code",
   "execution_count": 39,
   "metadata": {},
   "outputs": [
    {
     "name": "stdout",
     "output_type": "stream",
     "text": [
      "[1 2 3 4 5]\n",
      "[3 4 5 6 7]\n",
      "[ 4  6  8 10 12]\n",
      "[ 3  8 15 24 35]\n",
      "[1.         0.5        0.33333333 0.25       0.2       ]\n",
      "[1.73205081 2.         2.23606798 2.44948974 2.64575131]\n"
     ]
    }
   ],
   "source": [
    "# We can +-*/ arrays together if they're the right size\n",
    "vec5 = np.arange(1,6)\n",
    "vec6 = np.arange(3,8)\n",
    "print(vec5)\n",
    "print(vec6)\n",
    "print(vec5+vec6)\n",
    "print(vec5*vec6)\n",
    "print(1/vec5)\n",
    "print(np.sqrt(vec6))\n"
   ]
  },
  {
   "cell_type": "code",
   "execution_count": 43,
   "metadata": {},
   "outputs": [
    {
     "name": "stdout",
     "output_type": "stream",
     "text": [
      "[[1 2 1]\n",
      " [4 5 9]\n",
      " [1 8 9]]\n",
      "\n",
      "[1 2 3]\n",
      "\n",
      "[ 8 41 44]\n"
     ]
    }
   ],
   "source": [
    "# we can do matrix multiplication\n",
    "print(mat)\n",
    "print('')\n",
    "print(vec)\n",
    "print()\n",
    "product = np.matmul(mat,vec)\n",
    "print(product)\n"
   ]
  },
  {
   "cell_type": "code",
   "execution_count": 44,
   "metadata": {},
   "outputs": [
    {
     "name": "stdout",
     "output_type": "stream",
     "text": [
      "[1. 2. 3.]\n",
      "\n",
      "[[ 0.5         0.18518519 -0.24074074]\n",
      " [ 0.5        -0.14814815  0.09259259]\n",
      " [-0.5         0.11111111  0.05555556]]\n"
     ]
    }
   ],
   "source": [
    "print(np.linalg.solve(mat,product))\n",
    "print('')\n",
    "print(np.linalg.inv(mat))"
   ]
  },
  {
   "cell_type": "code",
   "execution_count": 45,
   "metadata": {},
   "outputs": [
    {
     "name": "stdout",
     "output_type": "stream",
     "text": [
      "['blue' 'red' 'orange' 'purple' 'purple' 'orange' 'Red' '6']\n",
      "['6' 'Red' 'blue' 'orange' 'purple' 'red']\n"
     ]
    }
   ],
   "source": [
    "# we can find the unique values in an array\n",
    "vec7 = np.array(['blue','red','orange','purple','purple','orange','Red',6])\n",
    "print(vec7)\n",
    "print(np.unique(vec7))"
   ]
  },
  {
   "cell_type": "code",
   "execution_count": 46,
   "metadata": {},
   "outputs": [
    {
     "name": "stdout",
     "output_type": "stream",
     "text": [
      "[[0.39166524 0.65295273 0.24886025 0.58484499 0.37592235]\n",
      " [0.45907708 0.25998202 0.55726437 0.73713978 0.51418766]\n",
      " [0.41544714 0.50319037 0.6364731  0.98652826 0.54570721]\n",
      " [0.28488493 0.76360115 0.374085   0.27265591 0.73162431]\n",
      " [0.82732119 0.21893175 0.91906624 0.22071339 0.05503151]]\n",
      "\n",
      "[[-0.86577719 -1.2117954   0.01194825 -0.48691997 -0.69378486]\n",
      " [ 0.5913213   0.80167524 -0.41115336  1.02486101 -0.84599809]\n",
      " [-0.3058551   2.573055   -0.51724946  0.18385722 -0.50492562]\n",
      " [ 0.83778511 -1.44752318  0.8474593   0.95675348 -0.45575045]\n",
      " [ 1.35432352 -2.27535422  0.47525247 -0.0978734  -0.41514409]\n",
      " [ 1.16504926  1.93385501  2.29122123 -0.7282129  -0.38963196]\n",
      " [ 1.05275725 -0.84668639  1.66524625 -0.46062527  1.87593339]\n",
      " [ 1.89180411 -1.02920826  0.69797619 -1.43956346  0.97915214]\n",
      " [-0.43354031 -3.41425455  1.37074539  0.75546457 -0.62143296]\n",
      " [-0.86411441 -1.37289976  0.81659796 -0.01090444 -0.04549121]]\n"
     ]
    }
   ],
   "source": [
    "# we can also use numpy to generate samples of a random variable \n",
    "rand_mat = np.random.rand(5,5) # uniform random variable\n",
    "print(rand_mat)\n",
    "rand_mat2 = np.random.randn(10,5)\n",
    "print('')\n",
    "print(rand_mat2)"
   ]
  },
  {
   "cell_type": "code",
   "execution_count": 47,
   "metadata": {},
   "outputs": [
    {
     "name": "stdout",
     "output_type": "stream",
     "text": [
      "0.5014863173579497\n",
      "1.186377572318343\n"
     ]
    }
   ],
   "source": [
    "# we can also use numpy for statistical tools on arrays \n",
    "print(np.mean(rand_mat))\n",
    "print(np.std(rand_mat2))"
   ]
  },
  {
   "cell_type": "code",
   "execution_count": 48,
   "metadata": {},
   "outputs": [
    {
     "name": "stdout",
     "output_type": "stream",
     "text": [
      "0.05503150650526589\n",
      "2.5730549959581412\n"
     ]
    }
   ],
   "source": [
    "print(np.min(rand_mat))\n",
    "print(np.max(rand_mat2))"
   ]
  },
  {
   "cell_type": "code",
   "execution_count": 49,
   "metadata": {},
   "outputs": [
    {
     "name": "stdout",
     "output_type": "stream",
     "text": [
      "[-1.72767813e+00  7.45854074e-01  5.56920694e-01  1.60388559e+00\n",
      "  1.88839527e+00 -1.17247954e+00  8.44794607e-01  5.05640011e-02\n",
      "  6.91239019e-02  1.10838231e+00  2.32415267e-02  1.19699647e+00\n",
      "  1.74998180e-03 -3.05856037e-01  8.67674954e-01  2.18818850e-01\n",
      " -2.12882889e-02 -2.94544086e-01 -4.97996954e-01]\n",
      "0.8447946072174229\n"
     ]
    }
   ],
   "source": [
    "# How do we access entries in a numpy vector.\n",
    "\n",
    "rand_vec = np.random.randn(19)\n",
    "print(rand_vec)\n",
    "print(rand_vec[6])"
   ]
  },
  {
   "cell_type": "code",
   "execution_count": 50,
   "metadata": {},
   "outputs": [
    {
     "name": "stdout",
     "output_type": "stream",
     "text": [
      "[ 1.88839527 -1.17247954  0.84479461  0.050564    0.0691239 ]\n"
     ]
    }
   ],
   "source": [
    "# we can access multiple entries at once using :\n",
    "print(rand_vec[4:9])"
   ]
  },
  {
   "cell_type": "code",
   "execution_count": 51,
   "metadata": {},
   "outputs": [
    {
     "name": "stdout",
     "output_type": "stream",
     "text": [
      "[ 0  3  6  9 12]\n",
      "[-1.72767813  1.60388559  0.84479461  1.10838231  0.00174998]\n"
     ]
    }
   ],
   "source": [
    "# we can also access multiple non-consecutive entries using np.arange\n",
    "\n",
    "print(np.arange(0,15,3))\n",
    "print(rand_vec[np.arange(0,15,3)])"
   ]
  },
  {
   "cell_type": "code",
   "execution_count": 52,
   "metadata": {},
   "outputs": [],
   "source": [
    "rand_mat = np.random.rand(2,3)"
   ]
  },
  {
   "cell_type": "code",
   "execution_count": 53,
   "metadata": {},
   "outputs": [
    {
     "name": "stdout",
     "output_type": "stream",
     "text": [
      "[[0.99799875 0.6517647  0.89574488]\n",
      " [0.53385899 0.05875206 0.70121459]]\n",
      "0.701214589282154\n",
      "0.701214589282154\n"
     ]
    }
   ],
   "source": [
    "# what about matrices\n",
    "\n",
    "print(rand_mat)\n",
    "print(rand_mat[1][2])\n",
    "print(rand_mat[1,2])"
   ]
  },
  {
   "cell_type": "code",
   "execution_count": 54,
   "metadata": {},
   "outputs": [
    {
     "name": "stdout",
     "output_type": "stream",
     "text": [
      "[[0.6517647  0.89574488]\n",
      " [0.05875206 0.70121459]]\n"
     ]
    }
   ],
   "source": [
    "print(rand_mat[0:2,1:3])"
   ]
  },
  {
   "cell_type": "code",
   "execution_count": 55,
   "metadata": {},
   "outputs": [
    {
     "name": "stdout",
     "output_type": "stream",
     "text": [
      "[-1.72767813e+00  7.45854074e-01  5.56920694e-01  1.60388559e+00\n",
      "  1.88839527e+00 -1.17247954e+00  8.44794607e-01  5.05640011e-02\n",
      "  6.91239019e-02  1.10838231e+00  2.32415267e-02  1.19699647e+00\n",
      "  1.74998180e-03 -3.05856037e-01  8.67674954e-01  2.18818850e-01\n",
      " -2.12882889e-02 -2.94544086e-01 -4.97996954e-01]\n",
      "\n",
      "[-1.72767813e+00  7.45854074e-01  5.56920694e-01  4.00000000e+00\n",
      "  4.00000000e+00 -1.17247954e+00  8.44794607e-01  5.05640011e-02\n",
      "  6.91239019e-02  1.10838231e+00  2.32415267e-02  1.19699647e+00\n",
      "  1.74998180e-03 -3.05856037e-01  8.67674954e-01  2.18818850e-01\n",
      " -2.12882889e-02 -2.94544086e-01 -4.97996954e-01]\n",
      "\n",
      "[-1.72767813e+00  7.45854074e-01  5.56920694e-01  1.00000000e+00\n",
      "  2.00000000e+00 -1.17247954e+00  8.44794607e-01  5.05640011e-02\n",
      "  6.91239019e-02  1.10838231e+00  2.32415267e-02  1.19699647e+00\n",
      "  1.74998180e-03 -3.05856037e-01  8.67674954e-01  2.18818850e-01\n",
      " -2.12882889e-02 -2.94544086e-01 -4.97996954e-01]\n"
     ]
    }
   ],
   "source": [
    "# let's change some values in an array!\n",
    "print(rand_vec)\n",
    "rand_vec[3:5] = 4\n",
    "print('')\n",
    "print(rand_vec)\n",
    "rand_vec[3:5] = [1,2]\n",
    "print('')\n",
    "print(rand_vec)"
   ]
  },
  {
   "cell_type": "code",
   "execution_count": 56,
   "metadata": {},
   "outputs": [
    {
     "name": "stdout",
     "output_type": "stream",
     "text": [
      "[[0.99799875 0.6517647  0.89574488]\n",
      " [0.53385899 0.05875206 0.70121459]]\n",
      "\n",
      "[[0.99799875 0.6517647  0.89574488]\n",
      " [0.53385899 0.05875206 0.70121459]]\n"
     ]
    }
   ],
   "source": [
    "print(rand_mat)\n",
    "rand_mat[1:3,3:5] = 0\n",
    "print('')\n",
    "print(rand_mat)"
   ]
  },
  {
   "cell_type": "code",
   "execution_count": 57,
   "metadata": {},
   "outputs": [
    {
     "name": "stdout",
     "output_type": "stream",
     "text": [
      "[[0.99799875 0.6517647  0.89574488]\n",
      " [0.53385899 0.05875206 0.70121459]]\n",
      "[[3. 3. 3.]\n",
      " [3. 3. 3.]]\n"
     ]
    }
   ],
   "source": [
    "sub_mat = rand_mat[0:2,0:3]\n",
    "print(sub_mat)\n",
    "sub_mat[:] = 3\n",
    "print(sub_mat)"
   ]
  },
  {
   "cell_type": "code",
   "execution_count": 58,
   "metadata": {},
   "outputs": [
    {
     "name": "stdout",
     "output_type": "stream",
     "text": [
      "[[3. 3. 3.]\n",
      " [3. 3. 3.]]\n"
     ]
    }
   ],
   "source": [
    "print(rand_mat)"
   ]
  },
  {
   "cell_type": "code",
   "execution_count": 59,
   "metadata": {},
   "outputs": [
    {
     "name": "stdout",
     "output_type": "stream",
     "text": [
      "[[3. 3. 3.]\n",
      " [3. 3. 3.]]\n",
      "[[99. 99. 99.]\n",
      " [99. 99. 99.]]\n"
     ]
    }
   ],
   "source": [
    "sub_mat2 = rand_mat[0:2,0:3].copy()\n",
    "sub_mat[:] = 99\n",
    "print(sub_mat2)\n",
    "print(rand_mat)"
   ]
  },
  {
   "cell_type": "code",
   "execution_count": 60,
   "metadata": {},
   "outputs": [
    {
     "name": "stdout",
     "output_type": "stream",
     "text": [
      "[-0.65698772 -0.01725662 -0.11131758 -1.09282705 -0.58241031  0.0425171\n",
      "  1.32461457 -0.61008993  0.14333713  0.41334481  0.28898363  1.5895617\n",
      " -0.71250939  0.08076517 -0.93352287]\n",
      "[False False False False False  True  True False  True  True  True  True\n",
      " False  True False]\n",
      "[0.0425171  1.32461457 0.14333713 0.41334481 0.28898363 1.5895617\n",
      " 0.08076517]\n"
     ]
    }
   ],
   "source": [
    "# we can also access entries with logicals \n",
    "rand_vec = np.random.randn(15)\n",
    "\n",
    "print(rand_vec)\n",
    "print(rand_vec>0)\n",
    "print(rand_vec[rand_vec>0])"
   ]
  },
  {
   "cell_type": "code",
   "execution_count": 61,
   "metadata": {},
   "outputs": [
    {
     "name": "stdout",
     "output_type": "stream",
     "text": [
      "[[-0.86577719 -1.2117954   0.01194825 -0.48691997 -0.69378486]\n",
      " [ 0.5913213   0.80167524 -0.41115336  1.02486101 -0.84599809]\n",
      " [-0.3058551   2.573055   -0.51724946  0.18385722 -0.50492562]\n",
      " [ 0.83778511 -1.44752318  0.8474593   0.95675348 -0.45575045]\n",
      " [ 1.35432352 -2.27535422  0.47525247 -0.0978734  -0.41514409]\n",
      " [ 1.16504926  1.93385501  2.29122123 -0.7282129  -0.38963196]\n",
      " [ 1.05275725 -0.84668639  1.66524625 -0.46062527  1.87593339]\n",
      " [ 1.89180411 -1.02920826  0.69797619 -1.43956346  0.97915214]\n",
      " [-0.43354031 -3.41425455  1.37074539  0.75546457 -0.62143296]\n",
      " [-0.86411441 -1.37289976  0.81659796 -0.01090444 -0.04549121]]\n",
      "[0.01194825 0.5913213  0.80167524 1.02486101 2.573055   0.18385722\n",
      " 0.83778511 0.8474593  0.95675348 1.35432352 0.47525247 1.16504926\n",
      " 1.93385501 2.29122123 1.05275725 1.66524625 1.87593339 1.89180411\n",
      " 0.69797619 0.97915214 1.37074539 0.75546457 0.81659796]\n"
     ]
    }
   ],
   "source": [
    "print(rand_mat2)\n",
    "print(rand_mat2[rand_mat2>0])"
   ]
  },
  {
   "cell_type": "code",
   "execution_count": 62,
   "metadata": {},
   "outputs": [
    {
     "name": "stdout",
     "output_type": "stream",
     "text": [
      "[-0.65698772 -0.01725662 -0.11131758 -1.09282705 -0.58241031  0.0425171\n",
      "  1.32461457 -0.61008993  0.14333713  0.41334481  0.28898363  1.5895617\n",
      " -0.71250939  0.08076517 -0.93352287]\n",
      "\n",
      "[-0.65698772 -0.01725662 -0.11131758 -1.09282705 -0.58241031  0.0425171\n",
      " -5.         -0.61008993  0.14333713  0.41334481  0.28898363 -5.\n",
      " -0.71250939  0.08076517 -0.93352287]\n"
     ]
    }
   ],
   "source": [
    "print(rand_vec)\n",
    "print('')\n",
    "rand_vec[rand_vec>0.5] = -5\n",
    "print(rand_vec)"
   ]
  },
  {
   "cell_type": "code",
   "execution_count": 63,
   "metadata": {},
   "outputs": [],
   "source": [
    "# let's save some arrays on the disk for use later!\n",
    "np.save('saved_file_name',rand_mat2)"
   ]
  },
  {
   "cell_type": "code",
   "execution_count": 64,
   "metadata": {},
   "outputs": [],
   "source": [
    "np.savez('zipped_file_name',rand_mat=rand_mat,rand_mat2=rand_mat2)"
   ]
  },
  {
   "cell_type": "code",
   "execution_count": 65,
   "metadata": {},
   "outputs": [
    {
     "name": "stdout",
     "output_type": "stream",
     "text": [
      "[[-0.86577719 -1.2117954   0.01194825 -0.48691997 -0.69378486]\n",
      " [ 0.5913213   0.80167524 -0.41115336  1.02486101 -0.84599809]\n",
      " [-0.3058551   2.573055   -0.51724946  0.18385722 -0.50492562]\n",
      " [ 0.83778511 -1.44752318  0.8474593   0.95675348 -0.45575045]\n",
      " [ 1.35432352 -2.27535422  0.47525247 -0.0978734  -0.41514409]\n",
      " [ 1.16504926  1.93385501  2.29122123 -0.7282129  -0.38963196]\n",
      " [ 1.05275725 -0.84668639  1.66524625 -0.46062527  1.87593339]\n",
      " [ 1.89180411 -1.02920826  0.69797619 -1.43956346  0.97915214]\n",
      " [-0.43354031 -3.41425455  1.37074539  0.75546457 -0.62143296]\n",
      " [-0.86411441 -1.37289976  0.81659796 -0.01090444 -0.04549121]]\n",
      "\n",
      "<numpy.lib.npyio.NpzFile object at 0x7ff97607f550>\n"
     ]
    }
   ],
   "source": [
    "# now let's load it \n",
    "loaded_vec = np.load('saved_file_name.npy')\n",
    "loaded_zip = np.load('zipped_file_name.npz')\n",
    "\n",
    "print(loaded_vec)\n",
    "print('')\n",
    "print(loaded_zip)"
   ]
  },
  {
   "cell_type": "code",
   "execution_count": 66,
   "metadata": {},
   "outputs": [
    {
     "name": "stdout",
     "output_type": "stream",
     "text": [
      "[[99. 99. 99.]\n",
      " [99. 99. 99.]]\n",
      "\n",
      "[[-0.86577719 -1.2117954   0.01194825 -0.48691997 -0.69378486]\n",
      " [ 0.5913213   0.80167524 -0.41115336  1.02486101 -0.84599809]\n",
      " [-0.3058551   2.573055   -0.51724946  0.18385722 -0.50492562]\n",
      " [ 0.83778511 -1.44752318  0.8474593   0.95675348 -0.45575045]\n",
      " [ 1.35432352 -2.27535422  0.47525247 -0.0978734  -0.41514409]\n",
      " [ 1.16504926  1.93385501  2.29122123 -0.7282129  -0.38963196]\n",
      " [ 1.05275725 -0.84668639  1.66524625 -0.46062527  1.87593339]\n",
      " [ 1.89180411 -1.02920826  0.69797619 -1.43956346  0.97915214]\n",
      " [-0.43354031 -3.41425455  1.37074539  0.75546457 -0.62143296]\n",
      " [-0.86411441 -1.37289976  0.81659796 -0.01090444 -0.04549121]]\n",
      "[[99. 99. 99.]\n",
      " [99. 99. 99.]]\n"
     ]
    }
   ],
   "source": [
    "print(loaded_zip['rand_mat'])\n",
    "print('')\n",
    "print(loaded_zip['rand_mat2'])\n",
    "\n",
    "new_array = loaded_zip['rand_mat']\n",
    "print(new_array)"
   ]
  },
  {
   "cell_type": "code",
   "execution_count": 67,
   "metadata": {},
   "outputs": [
    {
     "name": "stdout",
     "output_type": "stream",
     "text": [
      "\n",
      "[[99. 99. 99.]\n",
      " [99. 99. 99.]]\n"
     ]
    }
   ],
   "source": [
    "# We can also save/load as text files... but only single variables.\n",
    "np.savetxt('text_file_name.txt',rand_mat, delimiter=',')\n",
    "rand_mat_txt = np.loadtxt('text_file_name.txt',delimiter = ',')\n",
    "print('')\n",
    "print(rand_mat_txt)"
   ]
  },
  {
   "cell_type": "code",
   "execution_count": null,
   "metadata": {},
   "outputs": [],
   "source": []
  }
 ],
 "metadata": {
  "kernelspec": {
   "display_name": "Python 3",
   "language": "python",
   "name": "python3"
  },
  "language_info": {
   "codemirror_mode": {
    "name": "ipython",
    "version": 3
   },
   "file_extension": ".py",
   "mimetype": "text/x-python",
   "name": "python",
   "nbconvert_exporter": "python",
   "pygments_lexer": "ipython3",
   "version": "3.8.3"
  }
 },
 "nbformat": 4,
 "nbformat_minor": 4
}
