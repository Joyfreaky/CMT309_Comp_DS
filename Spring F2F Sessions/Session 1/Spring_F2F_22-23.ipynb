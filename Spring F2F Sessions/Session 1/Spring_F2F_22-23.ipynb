{
  "cells": [
    {
      "cell_type": "markdown",
      "metadata": {
        "id": "FlqwTOQ3X2wC"
      },
      "source": [
        "# CMT309/CMT315 - F2F Session 1\n",
        "## `pandas` and Data Visualisation (06/02/2023 - Monday)\n",
        "\n",
        "#### This example is constructed to remind you using `pandas` and `numpy` modules, and with several additional examples of **data visualisation**. \n",
        "\n",
        "#### You are given `csv` file which consists of 2021-2022 US National Basketball League NBA Play-off Series player statistics. For each player belongs to NBA teams taken part in Play-offs previous year, there are several important statistics, such as minutes per game, 3 points percentages, etc. (For details of each column please check the text files \"columns_explained.txt\") \n",
        "\n",
        "#### You are given a code block below, which imports important modules and downloads the data automatically. Please run it before starting the exercise."
      ]
    },
    {
      "cell_type": "code",
      "execution_count": 12,
      "metadata": {
        "colab": {
          "base_uri": "https://localhost:8080/"
        },
        "id": "N4X2vbcUfbqw",
        "outputId": "4935f536-13d5-4f53-fb41-d3e73865f744"
      },
      "outputs": [],
      "source": [
        "import pandas as pd\n",
        "import numpy as np\n",
        "#from urllib import request\n",
        "\"\"\" module_url = f\"https://drive.google.com/uc?export=view&id=1rGxCadYZxWBbI2E_IvKWF33MFD3zA9oz\"\n",
        "module_name = '21-22 NBA Player Stats.csv'\n",
        "print(f'Fetching {module_url}')\n",
        "with request.urlopen(module_url) as f, open(module_name,'w') as outf:\n",
        "  a = f.read()\n",
        "  outf.write(a.decode('utf-8'))\n",
        "module_url2 = f\"https://drive.google.com/uc?export=view&id=1uK28ayr9o-ILLYDCikzvwIqZ3KCmdj7d\"\n",
        "module_name2 = 'columns_explained.txt'\n",
        "print(f'Fetching {module_url2}')\n",
        "with request.urlopen(module_url2) as f, open(module_name2,'w') as outf:\n",
        "  a = f.read()\n",
        "  outf.write(a.decode('utf-8')) \"\"\"\n",
        "df = pd.read_csv('21-22 NBA Playoff Player Stats.csv')\n",
        "df.replace('', 0, inplace=True)\n",
        "df = df.fillna(0.0)"
      ]
    },
    {
      "cell_type": "code",
      "execution_count": 13,
      "metadata": {
        "colab": {
          "base_uri": "https://localhost:8080/",
          "height": 235
        },
        "id": "_FGDXkw0z8PO",
        "outputId": "5bdd5fd0-2228-4e53-8ef4-4c4b74199f9d"
      },
      "outputs": [
        {
          "data": {
            "text/html": [
              "<div>\n",
              "<style scoped>\n",
              "    .dataframe tbody tr th:only-of-type {\n",
              "        vertical-align: middle;\n",
              "    }\n",
              "\n",
              "    .dataframe tbody tr th {\n",
              "        vertical-align: top;\n",
              "    }\n",
              "\n",
              "    .dataframe thead th {\n",
              "        text-align: right;\n",
              "    }\n",
              "</style>\n",
              "<table border=\"1\" class=\"dataframe\">\n",
              "  <thead>\n",
              "    <tr style=\"text-align: right;\">\n",
              "      <th></th>\n",
              "      <th>Player</th>\n",
              "      <th>Pos</th>\n",
              "      <th>Age</th>\n",
              "      <th>Team</th>\n",
              "      <th>G</th>\n",
              "      <th>GS</th>\n",
              "      <th>MP</th>\n",
              "      <th>FG</th>\n",
              "      <th>FGA</th>\n",
              "      <th>FG%</th>\n",
              "      <th>...</th>\n",
              "      <th>FT%</th>\n",
              "      <th>ORB</th>\n",
              "      <th>DRB</th>\n",
              "      <th>TRB</th>\n",
              "      <th>AST</th>\n",
              "      <th>STL</th>\n",
              "      <th>BLK</th>\n",
              "      <th>TOV</th>\n",
              "      <th>PF</th>\n",
              "      <th>PTS</th>\n",
              "    </tr>\n",
              "  </thead>\n",
              "  <tbody>\n",
              "    <tr>\n",
              "      <th>0</th>\n",
              "      <td>Precious Achiuwa</td>\n",
              "      <td>C</td>\n",
              "      <td>22</td>\n",
              "      <td>TOR</td>\n",
              "      <td>6</td>\n",
              "      <td>1</td>\n",
              "      <td>167</td>\n",
              "      <td>25</td>\n",
              "      <td>52</td>\n",
              "      <td>0.481</td>\n",
              "      <td>...</td>\n",
              "      <td>0.600</td>\n",
              "      <td>8</td>\n",
              "      <td>21</td>\n",
              "      <td>29</td>\n",
              "      <td>6</td>\n",
              "      <td>1</td>\n",
              "      <td>5</td>\n",
              "      <td>9</td>\n",
              "      <td>14</td>\n",
              "      <td>61</td>\n",
              "    </tr>\n",
              "    <tr>\n",
              "      <th>1</th>\n",
              "      <td>Steven Adams</td>\n",
              "      <td>C</td>\n",
              "      <td>28</td>\n",
              "      <td>MEM</td>\n",
              "      <td>7</td>\n",
              "      <td>5</td>\n",
              "      <td>114</td>\n",
              "      <td>9</td>\n",
              "      <td>21</td>\n",
              "      <td>0.429</td>\n",
              "      <td>...</td>\n",
              "      <td>0.545</td>\n",
              "      <td>15</td>\n",
              "      <td>30</td>\n",
              "      <td>45</td>\n",
              "      <td>15</td>\n",
              "      <td>1</td>\n",
              "      <td>1</td>\n",
              "      <td>4</td>\n",
              "      <td>12</td>\n",
              "      <td>24</td>\n",
              "    </tr>\n",
              "    <tr>\n",
              "      <th>2</th>\n",
              "      <td>Bam Adebayo</td>\n",
              "      <td>C</td>\n",
              "      <td>24</td>\n",
              "      <td>MIA</td>\n",
              "      <td>18</td>\n",
              "      <td>18</td>\n",
              "      <td>614</td>\n",
              "      <td>104</td>\n",
              "      <td>175</td>\n",
              "      <td>0.594</td>\n",
              "      <td>...</td>\n",
              "      <td>0.763</td>\n",
              "      <td>37</td>\n",
              "      <td>107</td>\n",
              "      <td>144</td>\n",
              "      <td>48</td>\n",
              "      <td>18</td>\n",
              "      <td>13</td>\n",
              "      <td>38</td>\n",
              "      <td>55</td>\n",
              "      <td>266</td>\n",
              "    </tr>\n",
              "    <tr>\n",
              "      <th>3</th>\n",
              "      <td>Nickeil Alexander-Walker</td>\n",
              "      <td>SG</td>\n",
              "      <td>23</td>\n",
              "      <td>UTA</td>\n",
              "      <td>1</td>\n",
              "      <td>0</td>\n",
              "      <td>5</td>\n",
              "      <td>2</td>\n",
              "      <td>2</td>\n",
              "      <td>1.000</td>\n",
              "      <td>...</td>\n",
              "      <td>1.000</td>\n",
              "      <td>0</td>\n",
              "      <td>1</td>\n",
              "      <td>1</td>\n",
              "      <td>1</td>\n",
              "      <td>1</td>\n",
              "      <td>0</td>\n",
              "      <td>0</td>\n",
              "      <td>0</td>\n",
              "      <td>5</td>\n",
              "    </tr>\n",
              "    <tr>\n",
              "      <th>4</th>\n",
              "      <td>Grayson Allen</td>\n",
              "      <td>SG</td>\n",
              "      <td>26</td>\n",
              "      <td>MIL</td>\n",
              "      <td>12</td>\n",
              "      <td>5</td>\n",
              "      <td>305</td>\n",
              "      <td>37</td>\n",
              "      <td>82</td>\n",
              "      <td>0.451</td>\n",
              "      <td>...</td>\n",
              "      <td>0.636</td>\n",
              "      <td>5</td>\n",
              "      <td>30</td>\n",
              "      <td>35</td>\n",
              "      <td>15</td>\n",
              "      <td>8</td>\n",
              "      <td>4</td>\n",
              "      <td>9</td>\n",
              "      <td>22</td>\n",
              "      <td>100</td>\n",
              "    </tr>\n",
              "  </tbody>\n",
              "</table>\n",
              "<p>5 rows × 29 columns</p>\n",
              "</div>"
            ],
            "text/plain": [
              "                     Player Pos  Age Team   G  GS   MP   FG  FGA    FG%  ...  \\\n",
              "0          Precious Achiuwa   C   22  TOR   6   1  167   25   52  0.481  ...   \n",
              "1              Steven Adams   C   28  MEM   7   5  114    9   21  0.429  ...   \n",
              "2               Bam Adebayo   C   24  MIA  18  18  614  104  175  0.594  ...   \n",
              "3  Nickeil Alexander-Walker  SG   23  UTA   1   0    5    2    2  1.000  ...   \n",
              "4             Grayson Allen  SG   26  MIL  12   5  305   37   82  0.451  ...   \n",
              "\n",
              "     FT%  ORB  DRB  TRB  AST  STL  BLK  TOV  PF  PTS  \n",
              "0  0.600    8   21   29    6    1    5    9  14   61  \n",
              "1  0.545   15   30   45   15    1    1    4  12   24  \n",
              "2  0.763   37  107  144   48   18   13   38  55  266  \n",
              "3  1.000    0    1    1    1    1    0    0   0    5  \n",
              "4  0.636    5   30   35   15    8    4    9  22  100  \n",
              "\n",
              "[5 rows x 29 columns]"
            ]
          },
          "execution_count": 13,
          "metadata": {},
          "output_type": "execute_result"
        }
      ],
      "source": [
        "df.head(5)"
      ]
    },
    {
      "cell_type": "markdown",
      "metadata": {
        "id": "9MCG3J0tgHpH"
      },
      "source": [
        "## Exercise\n",
        "\n",
        "### Answer the questions below by using `pandas` and `numpy`.\n",
        "\n",
        "0. **Example: Find and `print` the player who started more than 10 games and has the highest field goals percentage value.**\n",
        "```python\n",
        "df_new = df[df.GS > 10]\n",
        "print('The player with highest Field Goal Percentage is {} with a FG% of {:.2f} in {} games started.'.\n",
        "      format(' & '.join(df_new[df_new['FG%'] == np.max(df_new['FG%'])]['Player']),\n",
        "             np.max(df_new['FG%']),\n",
        "             int(df_new[df_new['FG%'] == np.max(df_new['FG%'])]['GS'].values)))\n",
        "```\n",
        "```\n",
        "The player with highest Field Goal Percentage is Robert Williams with a FG% of 0.68 in 15 games started.\n",
        "```\n",
        "\n",
        "**Now your turn 😏**\n",
        "\n",
        "1. Calculate and `print` average field goals (FG) $\\pm$ standard deviation with the maximum. An example output is\n",
        "```\n",
        "Average Field Goals (FG) is 30.59 +/- 38.75 with maximum 202.00 (Stephen Curry).\n",
        "```\n",
        "\n",
        "2. Calculate and `print` the team with the highest and lowest mean TRB values (hint: `.groupby()`). An example output is\n",
        "```\n",
        "Team with highest variance of Total Rebounds is GSW with 69.00, and lowest variance of TRB is BRK with 11.33.\n",
        "```\n",
        "\n",
        "**For the questions below do not use `seaborn` or `matplotlib` modules directly. Try to obtain corresponding figures with `pandas` visualisation techniques!**\n",
        "\n",
        "3. Create a horizontal bar plot which depicts 10 NBA players with largest FG values.\n",
        "\n",
        "![](https://drive.google.com/uc?export=view&id=1a2IKznkFwU9DpHPCQ0wNqS4CJw-Pr88T)\n",
        "\n",
        "\n",
        "4. By using `.groupby()` method of `pandas`, create a plot for average of 3 points percetanges (3P%) for each NBA teams.\n",
        "\n",
        "![](https://drive.google.com/uc?export=view&id=14_GBuSi97LqalS4ZwsrVXmmkOWna-62h)"
      ]
    },
    {
      "cell_type": "code",
      "execution_count": 22,
      "metadata": {},
      "outputs": [
        {
          "name": "stdout",
          "output_type": "stream",
          "text": [
            "Average Field Goals (FG) is 30.59447004608295 +- 38.83621313618921 with a maximum value of 202  (Stephen Curry).\n"
          ]
        }
      ],
      "source": [
        "# Calculate and print average field goals (FG) +- standard deviation (std) with the maximum value (max).\n",
        "\n",
        "print('Average Field Goals (FG) is ' + str(df['FG'].mean()) + ' +- ' + str(df['FG'].std()) + ' with a maximum value of ' + str(df['FG'].max()) + '  (' + str(df['Player'].loc[df['FG'].idxmax()])+').')"
      ]
    },
    {
      "cell_type": "code",
      "execution_count": 29,
      "metadata": {},
      "outputs": [
        {
          "name": "stdout",
          "output_type": "stream",
          "text": [
            "The team with the highest mean TRB value is GSW with a mean value of 69.0, and the team with the lowest mean TRB value is BRK with a mean value of 11.33.\n"
          ]
        }
      ],
      "source": [
        "# Calculate and print the team with the highest and lowest mean TRB values. Use groupby() and mean().\n",
        "\n",
        "print('The team with the highest mean TRB value is ' + str(df.groupby('Team')['TRB'].mean().idxmax()) + ' with a mean value of ' + str(df.groupby('Team')['TRB'].mean().max()) + ', ' + \n",
        "'and the team with the lowest mean TRB value is ' + str(df.groupby('Team')['TRB'].mean().idxmin()) + ' with a mean value of ' + str(round(df.groupby('Team')['TRB'].mean().min(),2)) + '.')\n"
      ]
    },
    {
      "cell_type": "code",
      "execution_count": 10,
      "metadata": {},
      "outputs": [
        {
          "data": {
            "text/plain": [
              "<AxesSubplot:title={'center':'Top 10 Players with the Highest Number of Field Goals (FG)'}, ylabel='Player'>"
            ]
          },
          "execution_count": 10,
          "metadata": {},
          "output_type": "execute_result"
        },
        {
          "data": {
            "image/png": "[encoded data removed]",
            "text/plain": [
              "<Figure size 432x288 with 1 Axes>"
            ]
          },
          "metadata": {
            "needs_background": "light"
          },
          "output_type": "display_data"
        }
      ],
      "source": [
        "# Creata a horizontal bar plot which depicts 10 players with the highest number of field goals (FG).\n",
        "\n",
        "df.sort_values(by=['FG'], ascending=False).head(10).plot.barh(x='Player', y='FG', title='Top 10 Players with the Highest Number of Field Goals (FG)')"
      ]
    },
    {
      "cell_type": "code",
      "execution_count": 33,
      "metadata": {},
      "outputs": [
        {
          "data": {
            "text/plain": [
              "<AxesSubplot:title={'center':'Average of 3 Points Percentage (3P%) for Each Team'}, xlabel='Team'>"
            ]
          },
          "execution_count": 33,
          "metadata": {},
          "output_type": "execute_result"
        },
        {
          "data": {
            "image/png": "[encoded data removed]",
            "text/plain": [
              "<Figure size 432x288 with 1 Axes>"
            ]
          },
          "metadata": {
            "needs_background": "light"
          },
          "output_type": "display_data"
        }
      ],
      "source": [
        "# Create a plot for average of 3 points percentage (3P%) for each team. Use groupby() and mean(). Order the teams by their average 3P%.\n",
        "\n",
        "df.groupby('Team')['3P%'].mean().sort_values(ascending=False).plot.bar(title='Average of 3 Points Percentage (3P%) for Each Team')\n"
      ]
    }
  ],
  "metadata": {
    "colab": {
      "provenance": []
    },
    "kernelspec": {
      "display_name": "Python 3",
      "language": "python",
      "name": "python3"
    },
    "language_info": {
      "codemirror_mode": {
        "name": "ipython",
        "version": 3
      },
      "file_extension": ".py",
      "mimetype": "text/x-python",
      "name": "python",
      "nbconvert_exporter": "python",
      "pygments_lexer": "ipython3",
      "version": "3.9.6"
    },
    "vscode": {
      "interpreter": {
        "hash": "11938c6bc6919ae2720b4d5011047913343b08a43b18698fd82dedb0d4417594"
      }
    }
  },
  "nbformat": 4,
  "nbformat_minor": 0
}
