{
  "cells": [
    {
      "cell_type": "markdown",
      "metadata": {
        "id": "NZDTmWoWq3SB"
      },
      "source": [
        "# Recap from lab session"
      ]
    },
    {
      "cell_type": "markdown",
      "metadata": {
        "id": "rMV43U-rX073"
      },
      "source": [
        "## Question 1\n",
        "### Given two words, determine if they are synonyms using WordNet.\n",
        "\n",
        "- In `WordNet`, a synset is in fact a set of _lemmas_, which can be accessed via the `synset.lemmas()` method. A WordNet's lemma is the equivalent to a dictionary entry, and a `lemma` object has other useful methods and attributes like hypernyms, antonyms, etc. (but not synonyms). A string representation of a synset's lemmas can be accessed via the `synset.lemma_names()` method.\n",
        "\n",
        "\n",
        "- You should implement a function `are_synonyms(w1,w2)`, which takes as input two words (`w1` and `w2`) returns `True` if they are synonyms and `False` if they are not. "
      ]
    },
    {
      "cell_type": "code",
      "execution_count": 1,
      "metadata": {
        "colab": {
          "base_uri": "https://localhost:8080/"
        },
        "id": "Jhc47M-lYrda",
        "outputId": "2e41091a-9c77-4045-b119-cbf599f3cfa8"
      },
      "outputs": [
        {
          "name": "stderr",
          "output_type": "stream",
          "text": [
            "[nltk_data] Downloading package wordnet to\n",
            "[nltk_data]     C:\\Users\\c21099797\\AppData\\Roaming\\nltk_data...\n",
            "[nltk_data]   Package wordnet is already up-to-date!\n",
            "[nltk_data] Downloading package omw-1.4 to\n",
            "[nltk_data]     C:\\Users\\c21099797\\AppData\\Roaming\\nltk_data...\n",
            "[nltk_data] Downloading package genesis to\n",
            "[nltk_data]     C:\\Users\\c21099797\\AppData\\Roaming\\nltk_data...\n",
            "[nltk_data]   Package genesis is already up-to-date!\n",
            "[nltk_data] Downloading package punkt to\n",
            "[nltk_data]     C:\\Users\\c21099797\\AppData\\Roaming\\nltk_data...\n",
            "[nltk_data]   Package punkt is already up-to-date!\n",
            "[nltk_data] Downloading package averaged_perceptron_tagger to\n",
            "[nltk_data]     C:\\Users\\c21099797\\AppData\\Roaming\\nltk_data...\n",
            "[nltk_data]   Package averaged_perceptron_tagger is already up-to-\n",
            "[nltk_data]       date!\n",
            "[nltk_data] Downloading package brown to\n",
            "[nltk_data]     C:\\Users\\c21099797\\AppData\\Roaming\\nltk_data...\n",
            "[nltk_data]   Package brown is already up-to-date!\n"
          ]
        }
      ],
      "source": [
        "import nltk\n",
        "nltk.download('wordnet')\n",
        "nltk.download('omw-1.4')\n",
        "nltk.download('genesis')\n",
        "nltk.download('punkt')\n",
        "nltk.download('averaged_perceptron_tagger')\n",
        "nltk.download('brown')\n",
        "from nltk.corpus import wordnet as wn"
      ]
    },
    {
      "cell_type": "code",
      "execution_count": 2,
      "metadata": {
        "colab": {
          "base_uri": "https://localhost:8080/"
        },
        "id": "09v2CuD4SRMN",
        "outputId": "e7fe4a83-6a7b-47d5-bc81-8093e093a064"
      },
      "outputs": [
        {
          "name": "stdout",
          "output_type": "stream",
          "text": [
            "Synset('home.n.01') -> ['home', 'place'] where you live at a particular time\n",
            "Synset('dwelling.n.01') -> ['dwelling', 'home', 'domicile', 'abode', 'habitation', 'dwelling_house'] housing that someone is living in\n",
            "Synset('home.n.03') -> ['home'] the country or state or city where you live\n",
            "Synset('home_plate.n.01') -> ['home_plate', 'home_base', 'home', 'plate'] (baseball) base consisting of a rubber slab where the batter stands; it must be touched by a base runner in order to score\n",
            "Synset('base.n.14') -> ['base', 'home'] the place where you are stationed and from which missions start and end\n",
            "Synset('home.n.06') -> ['home'] place where something began and flourished\n",
            "Synset('home.n.07') -> ['home'] an environment offering affection and security\n",
            "Synset('family.n.01') -> ['family', 'household', 'house', 'home', 'menage'] a social unit living together\n",
            "Synset('home.n.09') -> ['home', 'nursing_home', 'rest_home'] an institution where people are cared for\n",
            "Synset('home.v.01') -> ['home'] provide with, or send to, a home\n",
            "Synset('home.v.02') -> ['home'] return home accurately from a long distance\n",
            "Synset('home.a.01') -> ['home'] used of your own ground\n",
            "Synset('home.a.02') -> ['home'] relating to or being where one lives or where one's roots are\n",
            "Synset('home.s.03') -> ['home', 'interior', 'internal', 'national'] inside the country\n",
            "Synset('home.r.01') -> ['home'] at or to or in the direction of one's home or family\n",
            "Synset('home.r.02') -> ['home'] on or to the point aimed at\n",
            "Synset('home.r.03') -> ['home'] to the fullest extent; to the heart\n"
          ]
        }
      ],
      "source": [
        "for s in wn.synsets('home'):\n",
        "  print(s,'->',s.lemma_names(),s.definition()) # s.definition() is a string with the definition of the synset and s.lemma_names() is a list of strings with the lemmas of the synset"
      ]
    },
    {
      "cell_type": "code",
      "execution_count": 3,
      "metadata": {
        "colab": {
          "base_uri": "https://localhost:8080/"
        },
        "id": "EV-HNW5cX077",
        "outputId": "7eacd3aa-6018-4d4f-f5ed-ed8486a8a8e4"
      },
      "outputs": [
        {
          "name": "stdout",
          "output_type": "stream",
          "text": [
            "home  and  house  are synonyms\n"
          ]
        }
      ],
      "source": [
        "from nltk.corpus import wordnet as wn\n",
        "\n",
        "w1 = 'home'\n",
        "w2 = 'house'\n",
        "\n",
        "def are_synonyms(w1,w2):\n",
        "    w1_syns = wn.synsets(w1)\n",
        "    for s in w1_syns:\n",
        "        lemmas = s.lemma_names()\n",
        "        for l in lemmas:\n",
        "            if l==w2:\n",
        "                print(w1,' and ',w2,' are synonyms')\n",
        "                return\n",
        "    print(w1,' and ',w2,' are not synonyms')\n",
        "    \n",
        "are_synonyms(w1,w2)"
      ]
    },
    {
      "cell_type": "markdown",
      "metadata": {
        "id": "QEsNIfzAX078"
      },
      "source": [
        "## Question 2\n",
        "### Given a word, two Part of Speech tags, and a corpus, determine with which PoS the word is more frequent in that corpus.\n",
        "\n",
        "Your implementation should be:\n",
        "\n",
        "- A function called `get_frequency(word,pos1,pos2,corpus)`, where:\n",
        "    - `word` is a string.\n",
        "    - `pos1` and `pos2` are PoS tags (to simplify, you can use the first character of a PoS to group all its variations into one: `v -> VBZ, VBN, etc.`).\n",
        "    - `corpus` is an NLTK corpus object. \n",
        "    \n",
        "    \n",
        "- Note 1. Some of the corpora available from `nltk.corpus` come with a tagged version, e.g., the Brown corpus. Do **not** tag them if they are already tagged.:\n",
        "```python\n",
        "from nltk.corpus import brown\n",
        "tagged_brown = brown.tagged_words()\n",
        "print(tagged_brown[:10])\n",
        ">>> [('The', 'AT'), ('Fulton', 'NP-TL'), ('County', 'NN-TL'), ('Grand', 'JJ-TL'), ('Jury', 'NN-TL'), ('said', 'VBD'), ('Friday', 'NR'), ('an', 'AT'), ('investigation', 'NN'), ('of', 'IN')]\n",
        "```\n",
        "\n",
        "- Note 2. You can access the available methods and attributes of a Python object with `dir`:\n",
        "\n",
        "```python\n",
        "from nltk import corpus\n",
        "available = dir(corpus)\n",
        "print('brown' in available)\n",
        ">>> True\n",
        "brown = corpus.brown\n",
        "genesis = corpus.genesis\n",
        "print('tagged_words' in dir(brown),'tagged_words' in dir(genesis))\n",
        ">>> True False\n",
        "```\n",
        "\n",
        "- Note 3. When tagging a corpus, it is better to do so by sentence, and not running the tagger on the whole corpus."
      ]
    },
    {
      "cell_type": "code",
      "execution_count": 4,
      "metadata": {
        "colab": {
          "base_uri": "https://localhost:8080/"
        },
        "id": "n39AuvuNVjPp",
        "outputId": "9fea6f0c-d853-4ad8-9ad6-f24686df3d89"
      },
      "outputs": [
        {
          "data": {
            "text/plain": [
              "(57340, 1161192)"
            ]
          },
          "execution_count": 4,
          "metadata": {},
          "output_type": "execute_result"
        }
      ],
      "source": [
        "from nltk.corpus import brown\n",
        "\n",
        "len(brown.sents()),len(brown.words()) # number of sentences and words in the Brown corpus"
      ]
    },
    {
      "cell_type": "code",
      "execution_count": 5,
      "metadata": {
        "colab": {
          "base_uri": "https://localhost:8080/"
        },
        "id": "Sm3Jo7g3WNoN",
        "outputId": "22ccdd15-6409-4bc9-a1bd-f940d9ffce0c"
      },
      "outputs": [
        {
          "data": {
            "text/plain": [
              "[('We', 'PRP'), ('are', 'VBP'), ('learning', 'VBG'), ('programming', 'VBG')]"
            ]
          },
          "execution_count": 5,
          "metadata": {},
          "output_type": "execute_result"
        }
      ],
      "source": [
        "from nltk.tag import pos_tag\n",
        "\n",
        "s = 'We are learning programming'\n",
        "\n",
        "pos_tag(s.split())"
      ]
    },
    {
      "cell_type": "code",
      "execution_count": 6,
      "metadata": {
        "id": "ak5Q6ezdX079"
      },
      "outputs": [],
      "source": [
        "from nltk.corpus import genesis, brown, gutenberg\n",
        "\n",
        "def get_frequency(input_word,pos1,pos2,corpus):\n",
        "    \n",
        "    # optional: define mapping dictionary for returning readable PoS\n",
        "    posmap = {'n': 'noun', 'v':'verb', 'i':'preposition'} # et\n",
        "\n",
        "    \n",
        "    \n",
        "    # determine if we need to tag the corpus\n",
        "    if 'tagged_words' in dir(corpus):\n",
        "        # if no, get the tagged words\n",
        "        tagged_corpus = corpus.tagged_words()\n",
        "    else:\n",
        "        # if yes, get the (untagged) sentences and then tag them individually\n",
        "        from nltk.tag import pos_tag\n",
        "        tagged_corpus = []\n",
        "        sents = corpus.sents()\n",
        "        for s in sents:\n",
        "            tagged_sent = pos_tag(s)\n",
        "            for tagged_token in tagged_sent:\n",
        "                tagged_corpus.append(tagged_token)\n",
        "    # iterate over each word/tag pair in the tagged corpus\n",
        "    freqs = {}\n",
        "    for word,tag in tagged_corpus:\n",
        "        word = word.lower()\n",
        "        normtag = tag.lower()[0]\n",
        "        if word == input_word:\n",
        "          # convert e.g., NNP to n           \n",
        "          # count each PoS tag and assign to dictionary\n",
        "          if normtag == pos1 and not pos1 in freqs:\n",
        "              freqs[pos1] = 1\n",
        "          elif normtag == pos1 and pos1 in freqs:\n",
        "              freqs[pos1] += 1\n",
        "          elif normtag == pos2 and not pos2 in freqs:\n",
        "              freqs[pos2] = 1\n",
        "          elif normtag == pos2 and pos2 in freqs:\n",
        "              freqs[pos2] += 1\n",
        "            \n",
        "    print(freqs)  \n",
        "    # return resulting string\n",
        "    out_str = 'Word \"{}\" is more frequent as a {} than as a {}'.format(input_word,posmap[pos1],posmap[pos2])    \n",
        "    if freqs[pos1] > freqs[pos2]:\n",
        "        return out_str.format(input_word,pos1,pos2)\n",
        "    else:\n",
        "        return out_str.format(input_word,pos2,pos1)"
      ]
    },
    {
      "cell_type": "code",
      "execution_count": 7,
      "metadata": {
        "colab": {
          "base_uri": "https://localhost:8080/",
          "height": 53
        },
        "id": "QaxeJ1D6X07_",
        "outputId": "e006a23d-5fb2-459c-ce22-2693ca74587b"
      },
      "outputs": [
        {
          "name": "stdout",
          "output_type": "stream",
          "text": [
            "{'v': 211, 'i': 33}\n"
          ]
        },
        {
          "data": {
            "text/plain": [
              "'Word \"like\" is more frequent as a verb than as a preposition'"
            ]
          },
          "execution_count": 7,
          "metadata": {},
          "output_type": "execute_result"
        }
      ],
      "source": [
        "w = 'like'\n",
        "pos1 = 'v'\n",
        "pos2 = 'i'\n",
        "\n",
        "corpus = brown\n",
        "    \n",
        "get_frequency(w,pos1,pos2,corpus)"
      ]
    },
    {
      "cell_type": "markdown",
      "metadata": {
        "id": "SaQ74Ri1iJFz"
      },
      "source": [
        "## Bonus - Dealing with text data using pandas"
      ]
    },
    {
      "cell_type": "code",
      "execution_count": 8,
      "metadata": {
        "id": "xb3kAzuujCA7"
      },
      "outputs": [],
      "source": [
        "from nltk.tokenize import sent_tokenize,word_tokenize\n",
        "from nltk.stem import WordNetLemmatizer \n",
        "from nltk.tag import pos_tag\n",
        "from nltk.corpus import stopwords\n",
        "import nltk"
      ]
    },
    {
      "cell_type": "code",
      "execution_count": 9,
      "metadata": {
        "colab": {
          "base_uri": "https://localhost:8080/"
        },
        "id": "JAyGNlshlhSQ",
        "outputId": "c4be537c-1c6a-47f7-d7a9-5ba595431d54"
      },
      "outputs": [
        {
          "name": "stderr",
          "output_type": "stream",
          "text": [
            "C:\\Users\\C21099~1\\AppData\\Local\\Temp/ipykernel_24604/789942884.py:3: FutureWarning: The error_bad_lines argument has been deprecated and will be removed in a future version. Use on_bad_lines in the future.\n",
            "\n",
            "\n",
            "  df = pd.read_csv('reviews_test.csv', error_bad_lines=False)\n"
          ]
        }
      ],
      "source": [
        "import pandas as pd\n",
        "\n",
        "df = pd.read_csv('reviews_test.csv', error_bad_lines=False)"
      ]
    },
    {
      "cell_type": "code",
      "execution_count": 10,
      "metadata": {
        "colab": {
          "base_uri": "https://localhost:8080/",
          "height": 206
        },
        "id": "ne5s-Xf7pjkq",
        "outputId": "411a7d90-6e74-469a-dde9-29bf30d981e7"
      },
      "outputs": [
        {
          "data": {
            "text/html": [
              "<div>\n",
              "<style scoped>\n",
              "    .dataframe tbody tr th:only-of-type {\n",
              "        vertical-align: middle;\n",
              "    }\n",
              "\n",
              "    .dataframe tbody tr th {\n",
              "        vertical-align: top;\n",
              "    }\n",
              "\n",
              "    .dataframe thead th {\n",
              "        text-align: right;\n",
              "    }\n",
              "</style>\n",
              "<table border=\"1\" class=\"dataframe\">\n",
              "  <thead>\n",
              "    <tr style=\"text-align: right;\">\n",
              "      <th></th>\n",
              "      <th>Unnamed: 0</th>\n",
              "      <th>Id</th>\n",
              "      <th>Text</th>\n",
              "    </tr>\n",
              "  </thead>\n",
              "  <tbody>\n",
              "    <tr>\n",
              "      <th>0</th>\n",
              "      <td>0</td>\n",
              "      <td>1</td>\n",
              "      <td>I have bought several of the Vitality canned d...</td>\n",
              "    </tr>\n",
              "    <tr>\n",
              "      <th>1</th>\n",
              "      <td>1</td>\n",
              "      <td>2</td>\n",
              "      <td>Product arrived labeled as Jumbo Salted Peanut...</td>\n",
              "    </tr>\n",
              "    <tr>\n",
              "      <th>2</th>\n",
              "      <td>2</td>\n",
              "      <td>3</td>\n",
              "      <td>This is a confection that has been around a fe...</td>\n",
              "    </tr>\n",
              "    <tr>\n",
              "      <th>3</th>\n",
              "      <td>3</td>\n",
              "      <td>4</td>\n",
              "      <td>If you are looking for the secret ingredient i...</td>\n",
              "    </tr>\n",
              "    <tr>\n",
              "      <th>4</th>\n",
              "      <td>4</td>\n",
              "      <td>5</td>\n",
              "      <td>Great taffy at a great price.  There was a wid...</td>\n",
              "    </tr>\n",
              "  </tbody>\n",
              "</table>\n",
              "</div>"
            ],
            "text/plain": [
              "   Unnamed: 0  Id                                               Text\n",
              "0           0   1  I have bought several of the Vitality canned d...\n",
              "1           1   2  Product arrived labeled as Jumbo Salted Peanut...\n",
              "2           2   3  This is a confection that has been around a fe...\n",
              "3           3   4  If you are looking for the secret ingredient i...\n",
              "4           4   5  Great taffy at a great price.  There was a wid..."
            ]
          },
          "execution_count": 10,
          "metadata": {},
          "output_type": "execute_result"
        }
      ],
      "source": [
        "df.head()"
      ]
    },
    {
      "cell_type": "code",
      "execution_count": 11,
      "metadata": {
        "colab": {
          "base_uri": "https://localhost:8080/"
        },
        "id": "FkFHxSzqb3jX",
        "outputId": "32b232e6-6f69-4ea7-9326-12e0f4e6c842"
      },
      "outputs": [
        {
          "data": {
            "text/plain": [
              "4         taffy\n",
              "4         price\n",
              "6       flavors\n",
              "27         deal\n",
              "28         that\n",
              "         ...   \n",
              "9989       milk\n",
              "9990    product\n",
              "9990        for\n",
              "9991    success\n",
              "9999       with\n",
              "Name: Text, Length: 2243, dtype: object"
            ]
          },
          "execution_count": 11,
          "metadata": {},
          "output_type": "execute_result"
        }
      ],
      "source": [
        "df.Text.str.lower().str.findall('great (\\w+)').explode().dropna()"
      ]
    },
    {
      "cell_type": "code",
      "execution_count": 12,
      "metadata": {
        "colab": {
          "base_uri": "https://localhost:8080/"
        },
        "id": "NKXSMkCsX7V2",
        "outputId": "75a46c75-0f9f-4e6b-ed6e-8b7ee027d1ec"
      },
      "outputs": [
        {
          "data": {
            "text/plain": [
              "product     166\n",
              "for         165\n",
              "and         114\n",
              "price       104\n",
              "flavor       71\n",
              "           ... \n",
              "am            1\n",
              "combos        1\n",
              "like          1\n",
              "sandwich      1\n",
              "milk          1\n",
              "Name: Text, Length: 470, dtype: int64"
            ]
          },
          "execution_count": 12,
          "metadata": {},
          "output_type": "execute_result"
        }
      ],
      "source": [
        "# pandas has a string method that enables basic (and not so basic) operations on strings\n",
        "df.Text.str.lower().str.findall('great (\\w+)').explode().dropna().value_counts()"
      ]
    },
    {
      "cell_type": "code",
      "execution_count": 13,
      "metadata": {
        "colab": {
          "base_uri": "https://localhost:8080/"
        },
        "id": "5YI91eJgeKtw",
        "outputId": "83c98caf-3a80-42cb-f843-471c86984a50"
      },
      "outputs": [
        {
          "data": {
            "text/plain": [
              "0       [I have bought several of the Vitality canned ...\n",
              "1       [Product arrived labeled as Jumbo Salted Peanu...\n",
              "2       [This is a confection that has been around a f...\n",
              "3       [If you are looking for the secret ingredient ...\n",
              "4       [Great taffy at a great price., There was a wi...\n",
              "                              ...                        \n",
              "9995    [we switched from the advance similac to the o...\n",
              "9996    [Like the bad reviews say, the organic formula...\n",
              "9997    [I wanted to solely breastfeed but was unable ...\n",
              "9998    [i love the fact that i can get this delieved ...\n",
              "9999    [We have a 7 week old..., He had gas and const...\n",
              "Name: Text, Length: 10000, dtype: object"
            ]
          },
          "execution_count": 13,
          "metadata": {},
          "output_type": "execute_result"
        }
      ],
      "source": [
        "df.Text.apply(sent_tokenize)"
      ]
    },
    {
      "cell_type": "code",
      "execution_count": 15,
      "metadata": {
        "colab": {
          "base_uri": "https://localhost:8080/"
        },
        "id": "jIEW27YVe9ch",
        "outputId": "96156f90-3d85-439e-d0d9-76bafe659272"
      },
      "outputs": [
        {
          "data": {
            "text/plain": [
              "['I have bought several of the Vitality canned dog food products and have found them all to be of good quality. The product looks more like a stew than a processed meat and it smells better. My Labrador is finicky and she appreciates this product better than  most.',\n",
              " 'Product arrived labeled as Jumbo Salted Peanuts...the peanuts were actually small sized unsalted. Not sure if this was an error or if the vendor intended to represent the product as \"Jumbo\".',\n",
              " 'This is a confection that has been around a few centuries.  It is a light, pillowy citrus gelatin with nuts - in this case Filberts. And it is cut into tiny squares and then liberally coated with powdered sugar.  And it is a tiny mouthful of heaven.  Not too chewy, and very flavorful.  I highly recommend this yummy treat.  If you are familiar with the story of C.S. Lewis\\' \"The Lion, The Witch, and The Wardrobe\" - this is the treat that seduces Edmund into selling out his Brother and Sisters to the Witch.',\n",
              " 'If you are looking for the secret ingredient in Robitussin I believe I have found it.  I got this in addition to the Root Beer Extract I ordered (which was good) and made some cherry soda.  The flavor is very medicinal.',\n",
              " 'Great taffy at a great price.  There was a wide assortment of yummy taffy.  Delivery was very quick.  If your a taffy lover, this is a deal.',\n",
              " 'I got a wild hair for taffy and ordered this five pound bag. The taffy was all very enjoyable with many flavors: watermelon, root beer, melon, peppermint, grape, etc. My only complaint is there was a bit too much red/black licorice-flavored pieces (just not my particular favorites). Between me, my kids, and my husband, this lasted only two weeks! I would recommend this brand of taffy -- it was a delightful treat.',\n",
              " \"This saltwater taffy had great flavors and was very soft and chewy.  Each candy was individually wrapped well.  None of the candies were stuck together, which did happen in the expensive version, Fralinger's.  Would highly recommend this candy!  I served it at a beach-themed party and everyone loved it!\",\n",
              " 'This taffy is so good.  It is very soft and chewy.  The flavors are amazing.  I would definitely recommend you buying it.  Very satisfying!!',\n",
              " \"Right now I'm mostly just sprouting this so my cats can eat the grass. They love it. I rotate it around with Wheatgrass and Rye too\",\n",
              " 'This is a very healthy dog food. Good for their digestion. Also good for small puppies. My dog eats her required amount at every feeding.']"
            ]
          },
          "execution_count": 15,
          "metadata": {},
          "output_type": "execute_result"
        }
      ],
      "source": [
        "list(df.Text)[:10]"
      ]
    },
    {
      "cell_type": "code",
      "execution_count": 17,
      "metadata": {
        "colab": {
          "base_uri": "https://localhost:8080/",
          "height": 49,
          "referenced_widgets": [
            "825665193aa64e2b9da571a041f3fc46",
            "e67067cc9a044a18bfc1cf70ec3cf7b2",
            "3851d1b9d67a42d4881894a7fbb07f02",
            "97828c0d68fc438d97a938be406a036e",
            "df36ee80c1bc4d349360d1c9ec0a265d",
            "c8363f692ca044d1be994b8a4a081e72",
            "75ecfdf88ae242468dfc70f5c1b058e2",
            "009510f5ef894c339a568fd1f4873a9e",
            "7bd7fb5cae80466aa8c9cf511438e5eb",
            "82de918193c346da90a67a7f00eee800",
            "3a9751aed5e34dc885fd46e8d2a1bc3d"
          ]
        },
        "id": "UJXazPvEefPf",
        "outputId": "f65aecf3-fbc6-4675-b7f1-69b65bd9f7bc"
      },
      "outputs": [
        {
          "name": "stderr",
          "output_type": "stream",
          "text": [
            "100%|██████████| 1000000/1000000 [00:00<00:00, 2169623.95it/s]\n"
          ]
        }
      ],
      "source": [
        "# Import tqdm for progress bar\n",
        "from tqdm import tqdm\n",
        "\n",
        "\n",
        "\n",
        "\n",
        "for i in tqdm(range(1000000)):\n",
        "  pass"
      ]
    },
    {
      "cell_type": "code",
      "execution_count": 18,
      "metadata": {
        "colab": {
          "base_uri": "https://localhost:8080/"
        },
        "id": "HjYqobZ0Z9Yy",
        "outputId": "a7ab81d7-e55b-436c-ce39-d12b70fdafdc"
      },
      "outputs": [
        {
          "name": "stderr",
          "output_type": "stream",
          "text": [
            "100%|██████████| 10000/10000 [00:02<00:00, 3639.24it/s]\n"
          ]
        },
        {
          "data": {
            "text/plain": [
              "0       [I have bought several of the Vitality canned ...\n",
              "1       [Product arrived labeled as Jumbo Salted Peanu...\n",
              "2       [This is a confection that has been around a f...\n",
              "3       [If you are looking for the secret ingredient ...\n",
              "4       [Great taffy at a great price., There was a wi...\n",
              "                              ...                        \n",
              "9995    [we switched from the advance similac to the o...\n",
              "9996    [Like the bad reviews say, the organic formula...\n",
              "9997    [I wanted to solely breastfeed but was unable ...\n",
              "9998    [i love the fact that i can get this delieved ...\n",
              "9999    [We have a 7 week old..., He had gas and const...\n",
              "Name: Text, Length: 10000, dtype: object"
            ]
          },
          "execution_count": 18,
          "metadata": {},
          "output_type": "execute_result"
        }
      ],
      "source": [
        "# showing how to get progress bars on jupyter notebook\n",
        "from tqdm import tqdm\n",
        "tqdm.pandas()\n",
        "\n",
        "df.Text.progress_apply(sent_tokenize)"
      ]
    },
    {
      "cell_type": "markdown",
      "metadata": {
        "id": "afRGS6NEtLBv"
      },
      "source": [
        "# Today - More text and pandas"
      ]
    },
    {
      "cell_type": "markdown",
      "metadata": {
        "id": "DDGYKjI7tW3D"
      },
      "source": [
        "We look at different examples on how we can process text data using pandas and some basic python. There are 3 exercises, (1) find the most positive and most negative books; (2) plot an ecdf plot with seaborn to visualize the cumulative distribution of positive scores per sentence for the 2  most extreme (most positive and most negative books); and (3) visualize the median pos score in the ecdf plot."
      ]
    },
    {
      "cell_type": "markdown",
      "metadata": {
        "id": "LY9H2AQb_UCc"
      },
      "source": [
        "# 0 - Data preparation (not an exercise)"
      ]
    },
    {
      "cell_type": "markdown",
      "metadata": {
        "id": "BXsJdT_M0HbK"
      },
      "source": [
        "## Imports and resources"
      ]
    },
    {
      "cell_type": "code",
      "execution_count": 19,
      "metadata": {
        "id": "EkTSeLqUxd0t"
      },
      "outputs": [],
      "source": [
        "import nltk\n",
        "import pandas as pd\n",
        "from nltk.corpus import gutenberg\n",
        "from nltk.sentiment.vader import SentimentIntensityAnalyzer\n",
        "from tqdm.notebook import tqdm\n",
        "import seaborn as sns\n",
        "import matplotlib.pyplot as plt"
      ]
    },
    {
      "cell_type": "code",
      "execution_count": 20,
      "metadata": {
        "colab": {
          "base_uri": "https://localhost:8080/"
        },
        "id": "Rt9ck4nwxzlE",
        "outputId": "cf173d28-e5d0-4005-95bd-4c4c95d836fb"
      },
      "outputs": [
        {
          "name": "stderr",
          "output_type": "stream",
          "text": [
            "[nltk_data] Downloading package vader_lexicon to\n",
            "[nltk_data]     C:\\Users\\c21099797\\AppData\\Roaming\\nltk_data...\n",
            "[nltk_data] Downloading package gutenberg to\n",
            "[nltk_data]     C:\\Users\\c21099797\\AppData\\Roaming\\nltk_data...\n",
            "[nltk_data]   Unzipping corpora\\gutenberg.zip.\n"
          ]
        },
        {
          "data": {
            "text/plain": [
              "True"
            ]
          },
          "execution_count": 20,
          "metadata": {},
          "output_type": "execute_result"
        }
      ],
      "source": [
        "# vader is an algorithm that scores text as positive/neutral/negative based on a \"sentiment dictionary\"\n",
        "nltk.download('vader_lexicon')\n",
        "# we will use the books from project gutenberg\n",
        "nltk.download('gutenberg')"
      ]
    },
    {
      "cell_type": "code",
      "execution_count": 26,
      "metadata": {
        "id": "fyjN1Ge85MJM"
      },
      "outputs": [],
      "source": [
        "tqdm.pandas()\n",
        "analyzer = SentimentIntensityAnalyzer()"
      ]
    },
    {
      "cell_type": "markdown",
      "metadata": {
        "id": "8ywVUHke_W8X"
      },
      "source": [
        "## Read in book data, convert to dataframe with sentiment scores"
      ]
    },
    {
      "cell_type": "code",
      "execution_count": 27,
      "metadata": {
        "colab": {
          "base_uri": "https://localhost:8080/"
        },
        "id": "Um9shNykyw2E",
        "outputId": "e51bd34c-e4a2-4bcb-b52d-04dd86979935"
      },
      "outputs": [
        {
          "data": {
            "text/plain": [
              "['austen-emma.txt',\n",
              " 'austen-persuasion.txt',\n",
              " 'austen-sense.txt',\n",
              " 'bible-kjv.txt',\n",
              " 'blake-poems.txt',\n",
              " 'bryant-stories.txt',\n",
              " 'burgess-busterbrown.txt',\n",
              " 'carroll-alice.txt',\n",
              " 'chesterton-ball.txt',\n",
              " 'chesterton-brown.txt',\n",
              " 'chesterton-thursday.txt',\n",
              " 'edgeworth-parents.txt',\n",
              " 'melville-moby_dick.txt',\n",
              " 'milton-paradise.txt',\n",
              " 'shakespeare-caesar.txt',\n",
              " 'shakespeare-hamlet.txt',\n",
              " 'shakespeare-macbeth.txt',\n",
              " 'whitman-leaves.txt']"
            ]
          },
          "execution_count": 27,
          "metadata": {},
          "output_type": "execute_result"
        }
      ],
      "source": [
        "gutenberg.fileids()"
      ]
    },
    {
      "cell_type": "code",
      "execution_count": 28,
      "metadata": {
        "colab": {
          "base_uri": "https://localhost:8080/",
          "height": 361,
          "referenced_widgets": [
            "82c37ef5e1fd49659599adcbab0609fd",
            "4e67d2037547473bba34f3104f6a0eba",
            "1819929f106c491d9e3af5400f2bbb23",
            "9bade95cbfc841be83c0a29e60ab153b",
            "d42a4bd3e24348c2881ce762c7264f9a",
            "38c27bd8fa2344f582332d5b4f26d21b",
            "a059de92e00f475fbc7503b404cfec93",
            "b3e634f97b934a399ec6e407f35c42ef",
            "a904563384b940d794b1797f93ff491d",
            "4920a6589ba54b6b9ac329db93b058ea",
            "2b9e4e2e375647949a5836c5454a39e4"
          ]
        },
        "id": "NThC6UM3z9Ut",
        "outputId": "2be7c60f-0cbc-4871-bf76-148265a53a9e"
      },
      "outputs": [
        {
          "name": "stdout",
          "output_type": "stream",
          "text": [
            "Processing:  austen-emma.txt\n",
            "Processing:  austen-persuasion.txt\n",
            "Processing:  austen-sense.txt\n",
            "Processing:  bible-kjv.txt\n",
            "Processing:  blake-poems.txt\n",
            "Processing:  bryant-stories.txt\n",
            "Processing:  burgess-busterbrown.txt\n",
            "Processing:  carroll-alice.txt\n",
            "Processing:  chesterton-ball.txt\n",
            "Processing:  chesterton-brown.txt\n",
            "Processing:  chesterton-thursday.txt\n",
            "Processing:  edgeworth-parents.txt\n",
            "Processing:  melville-moby_dick.txt\n",
            "Processing:  milton-paradise.txt\n",
            "Processing:  shakespeare-caesar.txt\n",
            "Processing:  shakespeare-hamlet.txt\n",
            "Processing:  shakespeare-macbeth.txt\n",
            "Processing:  whitman-leaves.txt\n"
          ]
        }
      ],
      "source": [
        "rows = []\n",
        "for bookid in gutenberg.fileids():\n",
        "\n",
        "  print('Processing: ',bookid)\n",
        "  for s in gutenberg.sents(bookid):\n",
        "    sstr = ' '.join(s)\n",
        "    scores = analyzer.polarity_scores(sstr)\n",
        "    row = {\n",
        "        'book':bookid,\n",
        "        'sent':sstr,\n",
        "        'pos':scores['pos'],\n",
        "        'neg':scores['neg'],\n",
        "        'neu':scores['neu'],\n",
        "        'compound':scores['compound'],\n",
        "    }\n",
        "    rows.append(row)\n",
        "\n",
        "df = pd.DataFrame(rows)"
      ]
    },
    {
      "cell_type": "code",
      "execution_count": 29,
      "metadata": {
        "colab": {
          "base_uri": "https://localhost:8080/",
          "height": 206
        },
        "id": "i0BFza-91l3a",
        "outputId": "0a1ff8c9-d1e7-474e-c5c0-9a670969238c"
      },
      "outputs": [
        {
          "data": {
            "text/html": [
              "<div>\n",
              "<style scoped>\n",
              "    .dataframe tbody tr th:only-of-type {\n",
              "        vertical-align: middle;\n",
              "    }\n",
              "\n",
              "    .dataframe tbody tr th {\n",
              "        vertical-align: top;\n",
              "    }\n",
              "\n",
              "    .dataframe thead th {\n",
              "        text-align: right;\n",
              "    }\n",
              "</style>\n",
              "<table border=\"1\" class=\"dataframe\">\n",
              "  <thead>\n",
              "    <tr style=\"text-align: right;\">\n",
              "      <th></th>\n",
              "      <th>book</th>\n",
              "      <th>sent</th>\n",
              "      <th>pos</th>\n",
              "      <th>neg</th>\n",
              "      <th>neu</th>\n",
              "      <th>compound</th>\n",
              "    </tr>\n",
              "  </thead>\n",
              "  <tbody>\n",
              "    <tr>\n",
              "      <th>0</th>\n",
              "      <td>austen-emma.txt</td>\n",
              "      <td>[ Emma by Jane Austen 1816 ]</td>\n",
              "      <td>0.000</td>\n",
              "      <td>0.000</td>\n",
              "      <td>1.000</td>\n",
              "      <td>0.0000</td>\n",
              "    </tr>\n",
              "    <tr>\n",
              "      <th>1</th>\n",
              "      <td>austen-emma.txt</td>\n",
              "      <td>VOLUME I</td>\n",
              "      <td>0.000</td>\n",
              "      <td>0.000</td>\n",
              "      <td>1.000</td>\n",
              "      <td>0.0000</td>\n",
              "    </tr>\n",
              "    <tr>\n",
              "      <th>2</th>\n",
              "      <td>austen-emma.txt</td>\n",
              "      <td>CHAPTER I</td>\n",
              "      <td>0.000</td>\n",
              "      <td>0.000</td>\n",
              "      <td>1.000</td>\n",
              "      <td>0.0000</td>\n",
              "    </tr>\n",
              "    <tr>\n",
              "      <th>3</th>\n",
              "      <td>austen-emma.txt</td>\n",
              "      <td>Emma Woodhouse , handsome , clever , and rich ...</td>\n",
              "      <td>0.409</td>\n",
              "      <td>0.057</td>\n",
              "      <td>0.534</td>\n",
              "      <td>0.9687</td>\n",
              "    </tr>\n",
              "    <tr>\n",
              "      <th>4</th>\n",
              "      <td>austen-emma.txt</td>\n",
              "      <td>She was the youngest of the two daughters of a...</td>\n",
              "      <td>0.099</td>\n",
              "      <td>0.000</td>\n",
              "      <td>0.901</td>\n",
              "      <td>0.4927</td>\n",
              "    </tr>\n",
              "  </tbody>\n",
              "</table>\n",
              "</div>"
            ],
            "text/plain": [
              "              book                                               sent    pos  \\\n",
              "0  austen-emma.txt                       [ Emma by Jane Austen 1816 ]  0.000   \n",
              "1  austen-emma.txt                                           VOLUME I  0.000   \n",
              "2  austen-emma.txt                                          CHAPTER I  0.000   \n",
              "3  austen-emma.txt  Emma Woodhouse , handsome , clever , and rich ...  0.409   \n",
              "4  austen-emma.txt  She was the youngest of the two daughters of a...  0.099   \n",
              "\n",
              "     neg    neu  compound  \n",
              "0  0.000  1.000    0.0000  \n",
              "1  0.000  1.000    0.0000  \n",
              "2  0.000  1.000    0.0000  \n",
              "3  0.057  0.534    0.9687  \n",
              "4  0.000  0.901    0.4927  "
            ]
          },
          "execution_count": 29,
          "metadata": {},
          "output_type": "execute_result"
        }
      ],
      "source": [
        "df.head()"
      ]
    },
    {
      "cell_type": "markdown",
      "metadata": {
        "id": "mU0v9GtQ_eUp"
      },
      "source": [
        "## Make a summary df\n",
        "\n",
        "With one book per row, and average pos, neg, neu and compound sentiment scores.\n"
      ]
    },
    {
      "cell_type": "code",
      "execution_count": 30,
      "metadata": {
        "colab": {
          "base_uri": "https://localhost:8080/",
          "height": 645
        },
        "id": "VyYE_ABm1EFt",
        "outputId": "e0112245-9b8b-443d-99d1-9252195c61a4"
      },
      "outputs": [
        {
          "data": {
            "text/html": [
              "<div>\n",
              "<style scoped>\n",
              "    .dataframe tbody tr th:only-of-type {\n",
              "        vertical-align: middle;\n",
              "    }\n",
              "\n",
              "    .dataframe tbody tr th {\n",
              "        vertical-align: top;\n",
              "    }\n",
              "\n",
              "    .dataframe thead th {\n",
              "        text-align: right;\n",
              "    }\n",
              "</style>\n",
              "<table border=\"1\" class=\"dataframe\">\n",
              "  <thead>\n",
              "    <tr style=\"text-align: right;\">\n",
              "      <th></th>\n",
              "      <th>pos</th>\n",
              "      <th>neg</th>\n",
              "      <th>neu</th>\n",
              "      <th>compound</th>\n",
              "    </tr>\n",
              "    <tr>\n",
              "      <th>book</th>\n",
              "      <th></th>\n",
              "      <th></th>\n",
              "      <th></th>\n",
              "      <th></th>\n",
              "    </tr>\n",
              "  </thead>\n",
              "  <tbody>\n",
              "    <tr>\n",
              "      <th>blake-poems.txt</th>\n",
              "      <td>0.152283</td>\n",
              "      <td>0.118639</td>\n",
              "      <td>0.726776</td>\n",
              "      <td>0.085783</td>\n",
              "    </tr>\n",
              "    <tr>\n",
              "      <th>milton-paradise.txt</th>\n",
              "      <td>0.151702</td>\n",
              "      <td>0.116502</td>\n",
              "      <td>0.730169</td>\n",
              "      <td>0.143992</td>\n",
              "    </tr>\n",
              "    <tr>\n",
              "      <th>austen-emma.txt</th>\n",
              "      <td>0.134713</td>\n",
              "      <td>0.071546</td>\n",
              "      <td>0.789744</td>\n",
              "      <td>0.179784</td>\n",
              "    </tr>\n",
              "    <tr>\n",
              "      <th>austen-persuasion.txt</th>\n",
              "      <td>0.130066</td>\n",
              "      <td>0.068007</td>\n",
              "      <td>0.801930</td>\n",
              "      <td>0.177555</td>\n",
              "    </tr>\n",
              "    <tr>\n",
              "      <th>austen-sense.txt</th>\n",
              "      <td>0.128514</td>\n",
              "      <td>0.076197</td>\n",
              "      <td>0.795293</td>\n",
              "      <td>0.168369</td>\n",
              "    </tr>\n",
              "    <tr>\n",
              "      <th>whitman-leaves.txt</th>\n",
              "      <td>0.113428</td>\n",
              "      <td>0.062215</td>\n",
              "      <td>0.824121</td>\n",
              "      <td>0.148242</td>\n",
              "    </tr>\n",
              "    <tr>\n",
              "      <th>edgeworth-parents.txt</th>\n",
              "      <td>0.111168</td>\n",
              "      <td>0.067959</td>\n",
              "      <td>0.819307</td>\n",
              "      <td>0.110656</td>\n",
              "    </tr>\n",
              "    <tr>\n",
              "      <th>burgess-busterbrown.txt</th>\n",
              "      <td>0.094896</td>\n",
              "      <td>0.069843</td>\n",
              "      <td>0.832419</td>\n",
              "      <td>0.077658</td>\n",
              "    </tr>\n",
              "    <tr>\n",
              "      <th>chesterton-ball.txt</th>\n",
              "      <td>0.093255</td>\n",
              "      <td>0.081700</td>\n",
              "      <td>0.823791</td>\n",
              "      <td>0.026464</td>\n",
              "    </tr>\n",
              "    <tr>\n",
              "      <th>chesterton-thursday.txt</th>\n",
              "      <td>0.091481</td>\n",
              "      <td>0.088533</td>\n",
              "      <td>0.815444</td>\n",
              "      <td>0.024127</td>\n",
              "    </tr>\n",
              "    <tr>\n",
              "      <th>bryant-stories.txt</th>\n",
              "      <td>0.090983</td>\n",
              "      <td>0.060211</td>\n",
              "      <td>0.847413</td>\n",
              "      <td>0.083140</td>\n",
              "    </tr>\n",
              "    <tr>\n",
              "      <th>chesterton-brown.txt</th>\n",
              "      <td>0.087914</td>\n",
              "      <td>0.081337</td>\n",
              "      <td>0.830218</td>\n",
              "      <td>0.023481</td>\n",
              "    </tr>\n",
              "    <tr>\n",
              "      <th>carroll-alice.txt</th>\n",
              "      <td>0.081315</td>\n",
              "      <td>0.069907</td>\n",
              "      <td>0.843488</td>\n",
              "      <td>0.029050</td>\n",
              "    </tr>\n",
              "    <tr>\n",
              "      <th>melville-moby_dick.txt</th>\n",
              "      <td>0.075074</td>\n",
              "      <td>0.066842</td>\n",
              "      <td>0.856393</td>\n",
              "      <td>0.026923</td>\n",
              "    </tr>\n",
              "    <tr>\n",
              "      <th>bible-kjv.txt</th>\n",
              "      <td>0.073574</td>\n",
              "      <td>0.056129</td>\n",
              "      <td>0.870295</td>\n",
              "      <td>0.051599</td>\n",
              "    </tr>\n",
              "    <tr>\n",
              "      <th>shakespeare-hamlet.txt</th>\n",
              "      <td>0.058648</td>\n",
              "      <td>0.040595</td>\n",
              "      <td>0.900439</td>\n",
              "      <td>0.030681</td>\n",
              "    </tr>\n",
              "    <tr>\n",
              "      <th>shakespeare-caesar.txt</th>\n",
              "      <td>0.057555</td>\n",
              "      <td>0.038883</td>\n",
              "      <td>0.885071</td>\n",
              "      <td>0.034031</td>\n",
              "    </tr>\n",
              "    <tr>\n",
              "      <th>shakespeare-macbeth.txt</th>\n",
              "      <td>0.052405</td>\n",
              "      <td>0.042320</td>\n",
              "      <td>0.880631</td>\n",
              "      <td>0.026802</td>\n",
              "    </tr>\n",
              "  </tbody>\n",
              "</table>\n",
              "</div>"
            ],
            "text/plain": [
              "                              pos       neg       neu  compound\n",
              "book                                                           \n",
              "blake-poems.txt          0.152283  0.118639  0.726776  0.085783\n",
              "milton-paradise.txt      0.151702  0.116502  0.730169  0.143992\n",
              "austen-emma.txt          0.134713  0.071546  0.789744  0.179784\n",
              "austen-persuasion.txt    0.130066  0.068007  0.801930  0.177555\n",
              "austen-sense.txt         0.128514  0.076197  0.795293  0.168369\n",
              "whitman-leaves.txt       0.113428  0.062215  0.824121  0.148242\n",
              "edgeworth-parents.txt    0.111168  0.067959  0.819307  0.110656\n",
              "burgess-busterbrown.txt  0.094896  0.069843  0.832419  0.077658\n",
              "chesterton-ball.txt      0.093255  0.081700  0.823791  0.026464\n",
              "chesterton-thursday.txt  0.091481  0.088533  0.815444  0.024127\n",
              "bryant-stories.txt       0.090983  0.060211  0.847413  0.083140\n",
              "chesterton-brown.txt     0.087914  0.081337  0.830218  0.023481\n",
              "carroll-alice.txt        0.081315  0.069907  0.843488  0.029050\n",
              "melville-moby_dick.txt   0.075074  0.066842  0.856393  0.026923\n",
              "bible-kjv.txt            0.073574  0.056129  0.870295  0.051599\n",
              "shakespeare-hamlet.txt   0.058648  0.040595  0.900439  0.030681\n",
              "shakespeare-caesar.txt   0.057555  0.038883  0.885071  0.034031\n",
              "shakespeare-macbeth.txt  0.052405  0.042320  0.880631  0.026802"
            ]
          },
          "execution_count": 30,
          "metadata": {},
          "output_type": "execute_result"
        }
      ],
      "source": [
        "df.groupby('book').mean().sort_values(by='pos', ascending=False)"
      ]
    },
    {
      "cell_type": "markdown",
      "metadata": {
        "id": "psWLACDS_sud"
      },
      "source": [
        "# 1 - Most extreme, in terms of positive sentences\n",
        "\n",
        "We do this by looking at their average `pos` score (highest and lowest). Can you do it in a one-liner?"
      ]
    },
    {
      "cell_type": "code",
      "execution_count": 39,
      "metadata": {
        "colab": {
          "base_uri": "https://localhost:8080/"
        },
        "id": "nSeS7MzgomCi",
        "outputId": "1d570cc9-9e73-4870-a5a8-3dd7bb0723a3"
      },
      "outputs": [
        {
          "data": {
            "text/plain": [
              "['blake-poems.txt',\n",
              " 'milton-paradise.txt',\n",
              " 'austen-emma.txt',\n",
              " 'austen-persuasion.txt',\n",
              " 'austen-sense.txt',\n",
              " 'whitman-leaves.txt',\n",
              " 'edgeworth-parents.txt',\n",
              " 'burgess-busterbrown.txt',\n",
              " 'chesterton-ball.txt',\n",
              " 'chesterton-thursday.txt',\n",
              " 'bryant-stories.txt',\n",
              " 'chesterton-brown.txt',\n",
              " 'carroll-alice.txt',\n",
              " 'melville-moby_dick.txt',\n",
              " 'bible-kjv.txt']"
            ]
          },
          "execution_count": 39,
          "metadata": {},
          "output_type": "execute_result"
        }
      ],
      "source": [
        "# Just show the books only with the highest positive sentiment\n",
        "df.groupby('book').mean().sort_values(by='pos', ascending=False).head(15).index.tolist()"
      ]
    },
    {
      "cell_type": "code",
      "execution_count": 44,
      "metadata": {
        "colab": {
          "base_uri": "https://localhost:8080/"
        },
        "id": "MRg3fxJ06wXJ",
        "outputId": "d88bd9e8-2484-4950-a28b-6bf4bc6fd545"
      },
      "outputs": [
        {
          "name": "stdout",
          "output_type": "stream",
          "text": [
            "Most positive books:  ['blake-poems.txt'] Least positive books:  ['shakespeare-macbeth.txt']\n"
          ]
        }
      ],
      "source": [
        "# here we retrieve the most and least positive books from the column 'book' and print the column book in one line\n",
        "\n",
        "print('Most positive books: ',df.groupby('book').mean().sort_values(by='pos', ascending=False).head(1).index.tolist(), 'Least positive books: ',df.groupby('book').mean().sort_values(by='pos', ascending=False).tail(1).index.tolist())"
      ]
    },
    {
      "cell_type": "markdown",
      "metadata": {
        "id": "DWPW_bP-2edb"
      },
      "source": [
        "# 2 - Plot an ECDF plot for the `pos` column\n",
        "\n",
        "\n",
        "ECDF stands for _empirical cumulative distribution functions_, and it's a good way to visualize the distribution of a dataset as a whole. It's more difficult to find mean values, but easier to see full data ranges. __The more to the right the line is, the higher the values__.\n",
        "\n",
        " (we only look at the `pos` column)\n",
        "\n",
        " By looking at the data, what books / authors stand out?"
      ]
    },
    {
      "cell_type": "code",
      "execution_count": 45,
      "metadata": {
        "id": "wCVmXZOz2jYL"
      },
      "outputs": [],
      "source": [
        "sns.set(rc={'figure.figsize':(10,7)})"
      ]
    },
    {
      "cell_type": "code",
      "execution_count": 51,
      "metadata": {
        "colab": {
          "base_uri": "https://localhost:8080/",
          "height": 452
        },
        "id": "9IZc8mJk2jYL",
        "outputId": "7a683032-e036-4dad-cbcf-6fb5444a13cc"
      },
      "outputs": [
        {
          "data": {
            "text/plain": [
              "<AxesSubplot:xlabel='pos', ylabel='Proportion'>"
            ]
          },
          "execution_count": 51,
          "metadata": {},
          "output_type": "execute_result"
        },
        {
          "data": {
            "image/png": "[encoded data removed]",
            "text/plain": [
              "<Figure size 720x504 with 1 Axes>"
            ]
          },
          "metadata": {},
          "output_type": "display_data"
        }
      ],
      "source": [
        "# your code here, it will probably start with sns.ecdfplot( - something here -)\n",
        "# By only looking at the pos column what book stands out \n",
        "\n",
        "sns.ecdfplot(data=df, x='pos', hue='book')"
      ]
    },
    {
      "cell_type": "markdown",
      "metadata": {
        "id": "LyETL7m9_-k4"
      },
      "source": [
        "# 3 - Plot an ECDF plot for the most and least positive books\n",
        "\n",
        "Plot an `ecdf` for the most positive and least positive."
      ]
    },
    {
      "cell_type": "code",
      "execution_count": 49,
      "metadata": {
        "id": "zayvg2fEAm8e"
      },
      "outputs": [],
      "source": [
        "sns.set(rc={'figure.figsize':(10,7)})"
      ]
    },
    {
      "cell_type": "code",
      "execution_count": 53,
      "metadata": {
        "colab": {
          "base_uri": "https://localhost:8080/",
          "height": 452
        },
        "id": "-w7ngL6T5w8t",
        "outputId": "44711336-b81c-464a-92b5-059f38eae83a"
      },
      "outputs": [
        {
          "data": {
            "text/plain": [
              "<AxesSubplot:xlabel='pos', ylabel='Proportion'>"
            ]
          },
          "execution_count": 53,
          "metadata": {},
          "output_type": "execute_result"
        },
        {
          "data": {
            "image/png": "[encoded data removed]",
            "text/plain": [
              "<Figure size 720x504 with 1 Axes>"
            ]
          },
          "metadata": {},
          "output_type": "display_data"
        }
      ],
      "source": [
        "# your code here, it will probably start with sns.ecdfplot( - something here -)\n",
        "\n",
        "# plot and ecdf for the most positive and least positive boook in one plot\n",
        "\n",
        "sns.ecdfplot(data=df, x='pos', hue='book', hue_order=df.groupby('book').mean().sort_values(by='pos', ascending=False).head(1).index.tolist())\n",
        "\n",
        "sns.ecdfplot(data=df, x='pos', hue='book', hue_order=df.groupby('book').mean().sort_values(by='pos', ascending=False).tail(1).index.tolist())\n"
      ]
    },
    {
      "cell_type": "markdown",
      "metadata": {
        "id": "zm7nDJoL0UNe"
      },
      "source": [
        "# 4 - Same data, median in flipped ecdf plot\n",
        "\n",
        "If we flip the ecdf plot (proportion on the x axis, target variable on the y axis), we can easily plot the median and visualize what we have to the left and right of the 50th percentile, which cuts the data in half."
      ]
    },
    {
      "cell_type": "code",
      "execution_count": 56,
      "metadata": {
        "colab": {
          "base_uri": "https://localhost:8080/",
          "height": 448
        },
        "id": "MWng5tpuy-qM",
        "outputId": "33fc32cf-b47a-44e4-88cf-14989ba9f826"
      },
      "outputs": [
        {
          "data": {
            "text/plain": [
              "<AxesSubplot:xlabel='pos', ylabel='Proportion'>"
            ]
          },
          "execution_count": 56,
          "metadata": {},
          "output_type": "execute_result"
        },
        {
          "data": {
            "image/png": "[encoded data removed]",
            "text/plain": [
              "<Figure size 720x504 with 1 Axes>"
            ]
          },
          "metadata": {},
          "output_type": "display_data"
        }
      ],
      "source": [
        "# your code here, it will probably start with sns.ecdfplot( - something here -)\n",
        "\n",
        "#  flip the ecdf plot (proportion on the x axis, target variable on the y axis), we can easily plot the median and visualize what we have to the left and right of the 50th percentile, which cuts the data in half.\n",
        "\n",
        "sns.ecdfplot(data=df, x='pos', hue='book', hue_order=df.groupby('book').mean().sort_values(by='pos', ascending=False).head(1).index.tolist(), stat='proportion', complementary=True)\n"
      ]
    }
  ],
  "metadata": {
    "colab": {
      "provenance": [],
      "toc_visible": true
    },
    "kernelspec": {
      "display_name": "Python 3",
      "language": "python",
      "name": "python3"
    },
    "language_info": {
      "codemirror_mode": {
        "name": "ipython",
        "version": 3
      },
      "file_extension": ".py",
      "mimetype": "text/x-python",
      "name": "python",
      "nbconvert_exporter": "python",
      "pygments_lexer": "ipython3",
      "version": "3.9.6"
    },
    "vscode": {
      "interpreter": {
        "hash": "11938c6bc6919ae2720b4d5011047913343b08a43b18698fd82dedb0d4417594"
      }
    },
    "widgets": {
      "application/vnd.jupyter.widget-state+json": {
        "009510f5ef894c339a568fd1f4873a9e": {
          "model_module": "@jupyter-widgets/base",
          "model_module_version": "1.2.0",
          "model_name": "LayoutModel",
          "state": {
            "_model_module": "@jupyter-widgets/base",
            "_model_module_version": "1.2.0",
            "_model_name": "LayoutModel",
            "_view_count": null,
            "_view_module": "@jupyter-widgets/base",
            "_view_module_version": "1.2.0",
            "_view_name": "LayoutView",
            "align_content": null,
            "align_items": null,
            "align_self": null,
            "border": null,
            "bottom": null,
            "display": null,
            "flex": null,
            "flex_flow": null,
            "grid_area": null,
            "grid_auto_columns": null,
            "grid_auto_flow": null,
            "grid_auto_rows": null,
            "grid_column": null,
            "grid_gap": null,
            "grid_row": null,
            "grid_template_areas": null,
            "grid_template_columns": null,
            "grid_template_rows": null,
            "height": null,
            "justify_content": null,
            "justify_items": null,
            "left": null,
            "margin": null,
            "max_height": null,
            "max_width": null,
            "min_height": null,
            "min_width": null,
            "object_fit": null,
            "object_position": null,
            "order": null,
            "overflow": null,
            "overflow_x": null,
            "overflow_y": null,
            "padding": null,
            "right": null,
            "top": null,
            "visibility": null,
            "width": null
          }
        },
        "1819929f106c491d9e3af5400f2bbb23": {
          "model_module": "@jupyter-widgets/controls",
          "model_module_version": "1.5.0",
          "model_name": "FloatProgressModel",
          "state": {
            "_dom_classes": [],
            "_model_module": "@jupyter-widgets/controls",
            "_model_module_version": "1.5.0",
            "_model_name": "FloatProgressModel",
            "_view_count": null,
            "_view_module": "@jupyter-widgets/controls",
            "_view_module_version": "1.5.0",
            "_view_name": "ProgressView",
            "bar_style": "success",
            "description": "",
            "description_tooltip": null,
            "layout": "IPY_MODEL_b3e634f97b934a399ec6e407f35c42ef",
            "max": 18,
            "min": 0,
            "orientation": "horizontal",
            "style": "IPY_MODEL_a904563384b940d794b1797f93ff491d",
            "value": 18
          }
        },
        "2b9e4e2e375647949a5836c5454a39e4": {
          "model_module": "@jupyter-widgets/controls",
          "model_module_version": "1.5.0",
          "model_name": "DescriptionStyleModel",
          "state": {
            "_model_module": "@jupyter-widgets/controls",
            "_model_module_version": "1.5.0",
            "_model_name": "DescriptionStyleModel",
            "_view_count": null,
            "_view_module": "@jupyter-widgets/base",
            "_view_module_version": "1.2.0",
            "_view_name": "StyleView",
            "description_width": ""
          }
        },
        "3851d1b9d67a42d4881894a7fbb07f02": {
          "model_module": "@jupyter-widgets/controls",
          "model_module_version": "1.5.0",
          "model_name": "FloatProgressModel",
          "state": {
            "_dom_classes": [],
            "_model_module": "@jupyter-widgets/controls",
            "_model_module_version": "1.5.0",
            "_model_name": "FloatProgressModel",
            "_view_count": null,
            "_view_module": "@jupyter-widgets/controls",
            "_view_module_version": "1.5.0",
            "_view_name": "ProgressView",
            "bar_style": "success",
            "description": "",
            "description_tooltip": null,
            "layout": "IPY_MODEL_009510f5ef894c339a568fd1f4873a9e",
            "max": 1000000,
            "min": 0,
            "orientation": "horizontal",
            "style": "IPY_MODEL_7bd7fb5cae80466aa8c9cf511438e5eb",
            "value": 1000000
          }
        },
        "38c27bd8fa2344f582332d5b4f26d21b": {
          "model_module": "@jupyter-widgets/base",
          "model_module_version": "1.2.0",
          "model_name": "LayoutModel",
          "state": {
            "_model_module": "@jupyter-widgets/base",
            "_model_module_version": "1.2.0",
            "_model_name": "LayoutModel",
            "_view_count": null,
            "_view_module": "@jupyter-widgets/base",
            "_view_module_version": "1.2.0",
            "_view_name": "LayoutView",
            "align_content": null,
            "align_items": null,
            "align_self": null,
            "border": null,
            "bottom": null,
            "display": null,
            "flex": null,
            "flex_flow": null,
            "grid_area": null,
            "grid_auto_columns": null,
            "grid_auto_flow": null,
            "grid_auto_rows": null,
            "grid_column": null,
            "grid_gap": null,
            "grid_row": null,
            "grid_template_areas": null,
            "grid_template_columns": null,
            "grid_template_rows": null,
            "height": null,
            "justify_content": null,
            "justify_items": null,
            "left": null,
            "margin": null,
            "max_height": null,
            "max_width": null,
            "min_height": null,
            "min_width": null,
            "object_fit": null,
            "object_position": null,
            "order": null,
            "overflow": null,
            "overflow_x": null,
            "overflow_y": null,
            "padding": null,
            "right": null,
            "top": null,
            "visibility": null,
            "width": null
          }
        },
        "3a9751aed5e34dc885fd46e8d2a1bc3d": {
          "model_module": "@jupyter-widgets/controls",
          "model_module_version": "1.5.0",
          "model_name": "DescriptionStyleModel",
          "state": {
            "_model_module": "@jupyter-widgets/controls",
            "_model_module_version": "1.5.0",
            "_model_name": "DescriptionStyleModel",
            "_view_count": null,
            "_view_module": "@jupyter-widgets/base",
            "_view_module_version": "1.2.0",
            "_view_name": "StyleView",
            "description_width": ""
          }
        },
        "4920a6589ba54b6b9ac329db93b058ea": {
          "model_module": "@jupyter-widgets/base",
          "model_module_version": "1.2.0",
          "model_name": "LayoutModel",
          "state": {
            "_model_module": "@jupyter-widgets/base",
            "_model_module_version": "1.2.0",
            "_model_name": "LayoutModel",
            "_view_count": null,
            "_view_module": "@jupyter-widgets/base",
            "_view_module_version": "1.2.0",
            "_view_name": "LayoutView",
            "align_content": null,
            "align_items": null,
            "align_self": null,
            "border": null,
            "bottom": null,
            "display": null,
            "flex": null,
            "flex_flow": null,
            "grid_area": null,
            "grid_auto_columns": null,
            "grid_auto_flow": null,
            "grid_auto_rows": null,
            "grid_column": null,
            "grid_gap": null,
            "grid_row": null,
            "grid_template_areas": null,
            "grid_template_columns": null,
            "grid_template_rows": null,
            "height": null,
            "justify_content": null,
            "justify_items": null,
            "left": null,
            "margin": null,
            "max_height": null,
            "max_width": null,
            "min_height": null,
            "min_width": null,
            "object_fit": null,
            "object_position": null,
            "order": null,
            "overflow": null,
            "overflow_x": null,
            "overflow_y": null,
            "padding": null,
            "right": null,
            "top": null,
            "visibility": null,
            "width": null
          }
        },
        "4e67d2037547473bba34f3104f6a0eba": {
          "model_module": "@jupyter-widgets/controls",
          "model_module_version": "1.5.0",
          "model_name": "HTMLModel",
          "state": {
            "_dom_classes": [],
            "_model_module": "@jupyter-widgets/controls",
            "_model_module_version": "1.5.0",
            "_model_name": "HTMLModel",
            "_view_count": null,
            "_view_module": "@jupyter-widgets/controls",
            "_view_module_version": "1.5.0",
            "_view_name": "HTMLView",
            "description": "",
            "description_tooltip": null,
            "layout": "IPY_MODEL_38c27bd8fa2344f582332d5b4f26d21b",
            "placeholder": "​",
            "style": "IPY_MODEL_a059de92e00f475fbc7503b404cfec93",
            "value": "100%"
          }
        },
        "75ecfdf88ae242468dfc70f5c1b058e2": {
          "model_module": "@jupyter-widgets/controls",
          "model_module_version": "1.5.0",
          "model_name": "DescriptionStyleModel",
          "state": {
            "_model_module": "@jupyter-widgets/controls",
            "_model_module_version": "1.5.0",
            "_model_name": "DescriptionStyleModel",
            "_view_count": null,
            "_view_module": "@jupyter-widgets/base",
            "_view_module_version": "1.2.0",
            "_view_name": "StyleView",
            "description_width": ""
          }
        },
        "7bd7fb5cae80466aa8c9cf511438e5eb": {
          "model_module": "@jupyter-widgets/controls",
          "model_module_version": "1.5.0",
          "model_name": "ProgressStyleModel",
          "state": {
            "_model_module": "@jupyter-widgets/controls",
            "_model_module_version": "1.5.0",
            "_model_name": "ProgressStyleModel",
            "_view_count": null,
            "_view_module": "@jupyter-widgets/base",
            "_view_module_version": "1.2.0",
            "_view_name": "StyleView",
            "bar_color": null,
            "description_width": ""
          }
        },
        "825665193aa64e2b9da571a041f3fc46": {
          "model_module": "@jupyter-widgets/controls",
          "model_module_version": "1.5.0",
          "model_name": "HBoxModel",
          "state": {
            "_dom_classes": [],
            "_model_module": "@jupyter-widgets/controls",
            "_model_module_version": "1.5.0",
            "_model_name": "HBoxModel",
            "_view_count": null,
            "_view_module": "@jupyter-widgets/controls",
            "_view_module_version": "1.5.0",
            "_view_name": "HBoxView",
            "box_style": "",
            "children": [
              "IPY_MODEL_e67067cc9a044a18bfc1cf70ec3cf7b2",
              "IPY_MODEL_3851d1b9d67a42d4881894a7fbb07f02",
              "IPY_MODEL_97828c0d68fc438d97a938be406a036e"
            ],
            "layout": "IPY_MODEL_df36ee80c1bc4d349360d1c9ec0a265d"
          }
        },
        "82c37ef5e1fd49659599adcbab0609fd": {
          "model_module": "@jupyter-widgets/controls",
          "model_module_version": "1.5.0",
          "model_name": "HBoxModel",
          "state": {
            "_dom_classes": [],
            "_model_module": "@jupyter-widgets/controls",
            "_model_module_version": "1.5.0",
            "_model_name": "HBoxModel",
            "_view_count": null,
            "_view_module": "@jupyter-widgets/controls",
            "_view_module_version": "1.5.0",
            "_view_name": "HBoxView",
            "box_style": "",
            "children": [
              "IPY_MODEL_4e67d2037547473bba34f3104f6a0eba",
              "IPY_MODEL_1819929f106c491d9e3af5400f2bbb23",
              "IPY_MODEL_9bade95cbfc841be83c0a29e60ab153b"
            ],
            "layout": "IPY_MODEL_d42a4bd3e24348c2881ce762c7264f9a"
          }
        },
        "82de918193c346da90a67a7f00eee800": {
          "model_module": "@jupyter-widgets/base",
          "model_module_version": "1.2.0",
          "model_name": "LayoutModel",
          "state": {
            "_model_module": "@jupyter-widgets/base",
            "_model_module_version": "1.2.0",
            "_model_name": "LayoutModel",
            "_view_count": null,
            "_view_module": "@jupyter-widgets/base",
            "_view_module_version": "1.2.0",
            "_view_name": "LayoutView",
            "align_content": null,
            "align_items": null,
            "align_self": null,
            "border": null,
            "bottom": null,
            "display": null,
            "flex": null,
            "flex_flow": null,
            "grid_area": null,
            "grid_auto_columns": null,
            "grid_auto_flow": null,
            "grid_auto_rows": null,
            "grid_column": null,
            "grid_gap": null,
            "grid_row": null,
            "grid_template_areas": null,
            "grid_template_columns": null,
            "grid_template_rows": null,
            "height": null,
            "justify_content": null,
            "justify_items": null,
            "left": null,
            "margin": null,
            "max_height": null,
            "max_width": null,
            "min_height": null,
            "min_width": null,
            "object_fit": null,
            "object_position": null,
            "order": null,
            "overflow": null,
            "overflow_x": null,
            "overflow_y": null,
            "padding": null,
            "right": null,
            "top": null,
            "visibility": null,
            "width": null
          }
        },
        "97828c0d68fc438d97a938be406a036e": {
          "model_module": "@jupyter-widgets/controls",
          "model_module_version": "1.5.0",
          "model_name": "HTMLModel",
          "state": {
            "_dom_classes": [],
            "_model_module": "@jupyter-widgets/controls",
            "_model_module_version": "1.5.0",
            "_model_name": "HTMLModel",
            "_view_count": null,
            "_view_module": "@jupyter-widgets/controls",
            "_view_module_version": "1.5.0",
            "_view_name": "HTMLView",
            "description": "",
            "description_tooltip": null,
            "layout": "IPY_MODEL_82de918193c346da90a67a7f00eee800",
            "placeholder": "​",
            "style": "IPY_MODEL_3a9751aed5e34dc885fd46e8d2a1bc3d",
            "value": " 1000000/1000000 [00:00&lt;00:00, 2480210.86it/s]"
          }
        },
        "9bade95cbfc841be83c0a29e60ab153b": {
          "model_module": "@jupyter-widgets/controls",
          "model_module_version": "1.5.0",
          "model_name": "HTMLModel",
          "state": {
            "_dom_classes": [],
            "_model_module": "@jupyter-widgets/controls",
            "_model_module_version": "1.5.0",
            "_model_name": "HTMLModel",
            "_view_count": null,
            "_view_module": "@jupyter-widgets/controls",
            "_view_module_version": "1.5.0",
            "_view_name": "HTMLView",
            "description": "",
            "description_tooltip": null,
            "layout": "IPY_MODEL_4920a6589ba54b6b9ac329db93b058ea",
            "placeholder": "​",
            "style": "IPY_MODEL_2b9e4e2e375647949a5836c5454a39e4",
            "value": " 18/18 [00:40&lt;00:00,  1.27s/it]"
          }
        },
        "a059de92e00f475fbc7503b404cfec93": {
          "model_module": "@jupyter-widgets/controls",
          "model_module_version": "1.5.0",
          "model_name": "DescriptionStyleModel",
          "state": {
            "_model_module": "@jupyter-widgets/controls",
            "_model_module_version": "1.5.0",
            "_model_name": "DescriptionStyleModel",
            "_view_count": null,
            "_view_module": "@jupyter-widgets/base",
            "_view_module_version": "1.2.0",
            "_view_name": "StyleView",
            "description_width": ""
          }
        },
        "a904563384b940d794b1797f93ff491d": {
          "model_module": "@jupyter-widgets/controls",
          "model_module_version": "1.5.0",
          "model_name": "ProgressStyleModel",
          "state": {
            "_model_module": "@jupyter-widgets/controls",
            "_model_module_version": "1.5.0",
            "_model_name": "ProgressStyleModel",
            "_view_count": null,
            "_view_module": "@jupyter-widgets/base",
            "_view_module_version": "1.2.0",
            "_view_name": "StyleView",
            "bar_color": null,
            "description_width": ""
          }
        },
        "b3e634f97b934a399ec6e407f35c42ef": {
          "model_module": "@jupyter-widgets/base",
          "model_module_version": "1.2.0",
          "model_name": "LayoutModel",
          "state": {
            "_model_module": "@jupyter-widgets/base",
            "_model_module_version": "1.2.0",
            "_model_name": "LayoutModel",
            "_view_count": null,
            "_view_module": "@jupyter-widgets/base",
            "_view_module_version": "1.2.0",
            "_view_name": "LayoutView",
            "align_content": null,
            "align_items": null,
            "align_self": null,
            "border": null,
            "bottom": null,
            "display": null,
            "flex": null,
            "flex_flow": null,
            "grid_area": null,
            "grid_auto_columns": null,
            "grid_auto_flow": null,
            "grid_auto_rows": null,
            "grid_column": null,
            "grid_gap": null,
            "grid_row": null,
            "grid_template_areas": null,
            "grid_template_columns": null,
            "grid_template_rows": null,
            "height": null,
            "justify_content": null,
            "justify_items": null,
            "left": null,
            "margin": null,
            "max_height": null,
            "max_width": null,
            "min_height": null,
            "min_width": null,
            "object_fit": null,
            "object_position": null,
            "order": null,
            "overflow": null,
            "overflow_x": null,
            "overflow_y": null,
            "padding": null,
            "right": null,
            "top": null,
            "visibility": null,
            "width": null
          }
        },
        "c8363f692ca044d1be994b8a4a081e72": {
          "model_module": "@jupyter-widgets/base",
          "model_module_version": "1.2.0",
          "model_name": "LayoutModel",
          "state": {
            "_model_module": "@jupyter-widgets/base",
            "_model_module_version": "1.2.0",
            "_model_name": "LayoutModel",
            "_view_count": null,
            "_view_module": "@jupyter-widgets/base",
            "_view_module_version": "1.2.0",
            "_view_name": "LayoutView",
            "align_content": null,
            "align_items": null,
            "align_self": null,
            "border": null,
            "bottom": null,
            "display": null,
            "flex": null,
            "flex_flow": null,
            "grid_area": null,
            "grid_auto_columns": null,
            "grid_auto_flow": null,
            "grid_auto_rows": null,
            "grid_column": null,
            "grid_gap": null,
            "grid_row": null,
            "grid_template_areas": null,
            "grid_template_columns": null,
            "grid_template_rows": null,
            "height": null,
            "justify_content": null,
            "justify_items": null,
            "left": null,
            "margin": null,
            "max_height": null,
            "max_width": null,
            "min_height": null,
            "min_width": null,
            "object_fit": null,
            "object_position": null,
            "order": null,
            "overflow": null,
            "overflow_x": null,
            "overflow_y": null,
            "padding": null,
            "right": null,
            "top": null,
            "visibility": null,
            "width": null
          }
        },
        "d42a4bd3e24348c2881ce762c7264f9a": {
          "model_module": "@jupyter-widgets/base",
          "model_module_version": "1.2.0",
          "model_name": "LayoutModel",
          "state": {
            "_model_module": "@jupyter-widgets/base",
            "_model_module_version": "1.2.0",
            "_model_name": "LayoutModel",
            "_view_count": null,
            "_view_module": "@jupyter-widgets/base",
            "_view_module_version": "1.2.0",
            "_view_name": "LayoutView",
            "align_content": null,
            "align_items": null,
            "align_self": null,
            "border": null,
            "bottom": null,
            "display": null,
            "flex": null,
            "flex_flow": null,
            "grid_area": null,
            "grid_auto_columns": null,
            "grid_auto_flow": null,
            "grid_auto_rows": null,
            "grid_column": null,
            "grid_gap": null,
            "grid_row": null,
            "grid_template_areas": null,
            "grid_template_columns": null,
            "grid_template_rows": null,
            "height": null,
            "justify_content": null,
            "justify_items": null,
            "left": null,
            "margin": null,
            "max_height": null,
            "max_width": null,
            "min_height": null,
            "min_width": null,
            "object_fit": null,
            "object_position": null,
            "order": null,
            "overflow": null,
            "overflow_x": null,
            "overflow_y": null,
            "padding": null,
            "right": null,
            "top": null,
            "visibility": null,
            "width": null
          }
        },
        "df36ee80c1bc4d349360d1c9ec0a265d": {
          "model_module": "@jupyter-widgets/base",
          "model_module_version": "1.2.0",
          "model_name": "LayoutModel",
          "state": {
            "_model_module": "@jupyter-widgets/base",
            "_model_module_version": "1.2.0",
            "_model_name": "LayoutModel",
            "_view_count": null,
            "_view_module": "@jupyter-widgets/base",
            "_view_module_version": "1.2.0",
            "_view_name": "LayoutView",
            "align_content": null,
            "align_items": null,
            "align_self": null,
            "border": null,
            "bottom": null,
            "display": null,
            "flex": null,
            "flex_flow": null,
            "grid_area": null,
            "grid_auto_columns": null,
            "grid_auto_flow": null,
            "grid_auto_rows": null,
            "grid_column": null,
            "grid_gap": null,
            "grid_row": null,
            "grid_template_areas": null,
            "grid_template_columns": null,
            "grid_template_rows": null,
            "height": null,
            "justify_content": null,
            "justify_items": null,
            "left": null,
            "margin": null,
            "max_height": null,
            "max_width": null,
            "min_height": null,
            "min_width": null,
            "object_fit": null,
            "object_position": null,
            "order": null,
            "overflow": null,
            "overflow_x": null,
            "overflow_y": null,
            "padding": null,
            "right": null,
            "top": null,
            "visibility": null,
            "width": null
          }
        },
        "e67067cc9a044a18bfc1cf70ec3cf7b2": {
          "model_module": "@jupyter-widgets/controls",
          "model_module_version": "1.5.0",
          "model_name": "HTMLModel",
          "state": {
            "_dom_classes": [],
            "_model_module": "@jupyter-widgets/controls",
            "_model_module_version": "1.5.0",
            "_model_name": "HTMLModel",
            "_view_count": null,
            "_view_module": "@jupyter-widgets/controls",
            "_view_module_version": "1.5.0",
            "_view_name": "HTMLView",
            "description": "",
            "description_tooltip": null,
            "layout": "IPY_MODEL_c8363f692ca044d1be994b8a4a081e72",
            "placeholder": "​",
            "style": "IPY_MODEL_75ecfdf88ae242468dfc70f5c1b058e2",
            "value": "100%"
          }
        }
      }
    }
  },
  "nbformat": 4,
  "nbformat_minor": 0
}
