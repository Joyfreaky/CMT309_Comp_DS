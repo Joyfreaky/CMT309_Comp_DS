{
 "cells": [
  {
   "cell_type": "markdown",
   "metadata": {
    "id": "8bU0gCiTX070"
   },
   "source": [
    "# Text data - Session II (Lab)"
   ]
  },
  {
   "cell_type": "markdown",
   "metadata": {
    "id": "rMV43U-rX073"
   },
   "source": [
    "## Question 1\n",
    "### Given two words, determine if they are synonyms using WordNet.\n",
    "\n",
    "- In `WordNet`, a synset is in fact a set of _lemmas_, which can be accessed via the `synset.lemmas()` method. A WordNet's lemma is the equivalent to a dictionary entry, and a `lemma` object has other useful methods and attributes like hypernyms, antonyms, etc. (but not synonyms). A string representation of a synset's lemmas can be accessed via the `synset.lemma_names()` method.\n",
    "\n",
    "\n",
    "- You should implement a function `are_synonyms(w1,w2)`, which takes as input two words (`w1` and `w2`) returns `True` if they are synonyms and `False` if they are not. "
   ]
  },
  {
   "cell_type": "code",
   "execution_count": 1,
   "metadata": {
    "colab": {
     "base_uri": "https://localhost:8080/"
    },
    "id": "Jhc47M-lYrda",
    "outputId": "c9b42be3-c17a-4096-ca27-a92665189ee9"
   },
   "outputs": [
    {
     "name": "stderr",
     "output_type": "stream",
     "text": [
      "[nltk_data] Downloading package wordnet to\n",
      "[nltk_data]     C:\\Users\\c21099797\\AppData\\Roaming\\nltk_data...\n",
      "[nltk_data] Downloading package genesis to\n",
      "[nltk_data]     C:\\Users\\c21099797\\AppData\\Roaming\\nltk_data...\n",
      "[nltk_data]   Unzipping corpora\\genesis.zip.\n",
      "[nltk_data] Downloading package punkt to\n",
      "[nltk_data]     C:\\Users\\c21099797\\AppData\\Roaming\\nltk_data...\n",
      "[nltk_data]   Package punkt is already up-to-date!\n",
      "[nltk_data] Downloading package averaged_perceptron_tagger to\n",
      "[nltk_data]     C:\\Users\\c21099797\\AppData\\Roaming\\nltk_data...\n",
      "[nltk_data]   Unzipping taggers\\averaged_perceptron_tagger.zip.\n",
      "[nltk_data] Downloading package brown to\n",
      "[nltk_data]     C:\\Users\\c21099797\\AppData\\Roaming\\nltk_data...\n",
      "[nltk_data]   Unzipping corpora\\brown.zip.\n"
     ]
    },
    {
     "data": {
      "text/plain": [
       "True"
      ]
     },
     "execution_count": 1,
     "metadata": {},
     "output_type": "execute_result"
    }
   ],
   "source": [
    "import nltk\n",
    "nltk.download('wordnet')\n",
    "nltk.download('genesis')\n",
    "nltk.download('punkt')\n",
    "nltk.download('averaged_perceptron_tagger')\n",
    "nltk.download('brown')"
   ]
  },
  {
   "cell_type": "code",
   "execution_count": 2,
   "metadata": {
    "colab": {
     "base_uri": "https://localhost:8080/"
    },
    "id": "09v2CuD4SRMN",
    "outputId": "de780a7d-fbf4-4c59-f75d-f52640160876"
   },
   "outputs": [
    {
     "ename": "NameError",
     "evalue": "name 'wn' is not defined",
     "output_type": "error",
     "traceback": [
      "\u001b[1;31m---------------------------------------------------------------------------\u001b[0m",
      "\u001b[1;31mNameError\u001b[0m                                 Traceback (most recent call last)",
      "\u001b[1;32mC:\\Users\\C21099~1\\AppData\\Local\\Temp/ipykernel_28844/3882075218.py\u001b[0m in \u001b[0;36m<module>\u001b[1;34m\u001b[0m\n\u001b[1;32m----> 1\u001b[1;33m \u001b[1;32mfor\u001b[0m \u001b[0ms\u001b[0m \u001b[1;32min\u001b[0m \u001b[0mwn\u001b[0m\u001b[1;33m.\u001b[0m\u001b[0msynsets\u001b[0m\u001b[1;33m(\u001b[0m\u001b[1;34m'home'\u001b[0m\u001b[1;33m)\u001b[0m\u001b[1;33m:\u001b[0m\u001b[1;33m\u001b[0m\u001b[1;33m\u001b[0m\u001b[0m\n\u001b[0m\u001b[0;32m      2\u001b[0m   \u001b[0mprint\u001b[0m\u001b[1;33m(\u001b[0m\u001b[0ms\u001b[0m\u001b[1;33m,\u001b[0m\u001b[1;34m'->'\u001b[0m\u001b[1;33m,\u001b[0m\u001b[0ms\u001b[0m\u001b[1;33m.\u001b[0m\u001b[0mlemma_names\u001b[0m\u001b[1;33m(\u001b[0m\u001b[1;33m)\u001b[0m\u001b[1;33m,\u001b[0m\u001b[0ms\u001b[0m\u001b[1;33m.\u001b[0m\u001b[0mdefinition\u001b[0m\u001b[1;33m(\u001b[0m\u001b[1;33m)\u001b[0m\u001b[1;33m)\u001b[0m\u001b[1;33m\u001b[0m\u001b[1;33m\u001b[0m\u001b[0m\n",
      "\u001b[1;31mNameError\u001b[0m: name 'wn' is not defined"
     ]
    }
   ],
   "source": [
    "for s in wn.synsets('home'):\n",
    "  print(s,'->',s.lemma_names(),s.definition())"
   ]
  },
  {
   "cell_type": "code",
   "execution_count": 2,
   "metadata": {
    "colab": {
     "base_uri": "https://localhost:8080/"
    },
    "id": "EV-HNW5cX077",
    "outputId": "23bf8860-ce79-40e7-8f59-801dfdd4efd7"
   },
   "outputs": [
    {
     "name": "stdout",
     "output_type": "stream",
     "text": [
      "home  and  house  are synonyms\n"
     ]
    }
   ],
   "source": [
    "from nltk.corpus import wordnet as wn\n",
    "\n",
    "w1 = 'home'\n",
    "w2 = 'house'\n",
    "\n",
    "def are_synonyms(w1,w2):\n",
    "    # your code here\n",
    "are_synonyms(w1,w2)"
   ]
  },
  {
   "cell_type": "markdown",
   "metadata": {
    "id": "QEsNIfzAX078"
   },
   "source": [
    "## Question 2\n",
    "### Given a word, two Part of Speech tags, and a corpus, determine with which PoS the word is more frequent in that corpus.\n",
    "\n",
    "Your implementation should be:\n",
    "\n",
    "- A function called `get_frequency(word,pos1,pos2,corpus)`, where:\n",
    "    - `word` is a string.\n",
    "    - `pos1` and `pos2` are PoS tags (to simplify, you can use the first character of a PoS to group all its variations into one: `v -> VBZ, VBN, etc.`).\n",
    "    - `corpus` is an NLTK corpus object. \n",
    "    \n",
    "    \n",
    "- Note 1. Some of the corpora available from `nltk.corpus` come with a tagged version, e.g., the Brown corpus. Do **not** tag them if they are already tagged.:\n",
    "```python\n",
    "from nltk.corpus import brown\n",
    "tagged_brown = brown.tagged_words()\n",
    "print(tagged_brown[:10])\n",
    ">>> [('The', 'AT'), ('Fulton', 'NP-TL'), ('County', 'NN-TL'), ('Grand', 'JJ-TL'), ('Jury', 'NN-TL'), ('said', 'VBD'), ('Friday', 'NR'), ('an', 'AT'), ('investigation', 'NN'), ('of', 'IN')]\n",
    "```\n",
    "\n",
    "- Note 2. You can access the available methods and attributes of a Python object with `dir`:\n",
    "\n",
    "```python\n",
    "from nltk import corpus\n",
    "available = dir(corpus)\n",
    "print('brown' in available)\n",
    ">>> True\n",
    "brown = corpus.brown\n",
    "genesis = corpus.genesis\n",
    "print('tagged_words' in dir(brown),'tagged_words' in dir(genesis))\n",
    ">>> True False\n",
    "```\n",
    "\n",
    "- Note 3. When tagging a corpus, it is better to do so by sentence, and not running the tagger on the whole corpus."
   ]
  },
  {
   "cell_type": "code",
   "execution_count": 21,
   "metadata": {
    "colab": {
     "base_uri": "https://localhost:8080/"
    },
    "id": "n39AuvuNVjPp",
    "outputId": "0817683e-8cd9-4daa-d203-8033c73ac5d0"
   },
   "outputs": [
    {
     "data": {
      "text/plain": [
       "(57340, 1161192)"
      ]
     },
     "execution_count": 21,
     "metadata": {
      "tags": []
     },
     "output_type": "execute_result"
    }
   ],
   "source": [
    "from nltk.corpus import brown\n",
    "\n",
    "len(brown.sents()),len(brown.words())"
   ]
  },
  {
   "cell_type": "code",
   "execution_count": 23,
   "metadata": {
    "colab": {
     "base_uri": "https://localhost:8080/"
    },
    "id": "Sm3Jo7g3WNoN",
    "outputId": "6858846a-be3c-412c-98a0-ef96490f648c"
   },
   "outputs": [
    {
     "data": {
      "text/plain": [
       "[('We', 'PRP'), ('are', 'VBP'), ('learning', 'VBG'), ('programming', 'VBG')]"
      ]
     },
     "execution_count": 23,
     "metadata": {
      "tags": []
     },
     "output_type": "execute_result"
    }
   ],
   "source": [
    "from nltk.tag import pos_tag\n",
    "\n",
    "s = 'We are learning programming'\n",
    "\n",
    "pos_tag(s.split())"
   ]
  },
  {
   "cell_type": "code",
   "execution_count": 40,
   "metadata": {
    "id": "ak5Q6ezdX079"
   },
   "outputs": [],
   "source": [
    "from nltk.corpus import genesis, brown, gutenberg\n",
    "\n",
    "def get_frequency(input_word,pos1,pos2,corpus):\n",
    "    # your code here"
   ]
  },
  {
   "cell_type": "code",
   "execution_count": 41,
   "metadata": {
    "colab": {
     "base_uri": "https://localhost:8080/",
     "height": 52
    },
    "id": "QaxeJ1D6X07_",
    "outputId": "ae126513-4ea9-4782-f234-84fbfd75d033"
   },
   "outputs": [
    {
     "name": "stdout",
     "output_type": "stream",
     "text": [
      "{'v': 211, 'i': 33}\n"
     ]
    },
    {
     "data": {
      "application/vnd.google.colaboratory.intrinsic+json": {
       "type": "string"
      },
      "text/plain": [
       "'Word \"like\" is more frequent as a verb than as a preposition'"
      ]
     },
     "execution_count": 41,
     "metadata": {
      "tags": []
     },
     "output_type": "execute_result"
    }
   ],
   "source": [
    "w = 'like'\n",
    "pos1 = 'v'\n",
    "pos2 = 'i'\n",
    "\n",
    "corpus = brown\n",
    "    \n",
    "get_frequency(w,pos1,pos2,corpus)"
   ]
  },
  {
   "cell_type": "markdown",
   "metadata": {
    "id": "SaQ74Ri1iJFz"
   },
   "source": [
    "# Bonus - Dealing with text data using pandas"
   ]
  },
  {
   "cell_type": "code",
   "execution_count": 45,
   "metadata": {
    "id": "xb3kAzuujCA7"
   },
   "outputs": [],
   "source": [
    "from nltk.tokenize import sent_tokenize,word_tokenize\n",
    "from nltk.stem import WordNetLemmatizer \n",
    "from nltk.tag import pos_tag\n",
    "from nltk.corpus import stopwords\n",
    "import nltk"
   ]
  },
  {
   "cell_type": "code",
   "execution_count": 46,
   "metadata": {
    "colab": {
     "base_uri": "https://localhost:8080/"
    },
    "id": "JAyGNlshlhSQ",
    "outputId": "676ce995-1164-4a36-99e4-875dc73748d7"
   },
   "outputs": [
    {
     "name": "stderr",
     "output_type": "stream",
     "text": [
      "b'Skipping line 2515: expected 3 fields, saw 8\\n'\n"
     ]
    }
   ],
   "source": [
    "import pandas as pd\n",
    "\n",
    "df = pd.read_csv('reviews_test.csv', error_bad_lines=False)"
   ]
  },
  {
   "cell_type": "code",
   "execution_count": 47,
   "metadata": {
    "colab": {
     "base_uri": "https://localhost:8080/",
     "height": 195
    },
    "id": "ne5s-Xf7pjkq",
    "outputId": "dead6455-d376-43c5-8190-4b9d8bee1704"
   },
   "outputs": [
    {
     "data": {
      "text/html": [
       "<div>\n",
       "<style scoped>\n",
       "    .dataframe tbody tr th:only-of-type {\n",
       "        vertical-align: middle;\n",
       "    }\n",
       "\n",
       "    .dataframe tbody tr th {\n",
       "        vertical-align: top;\n",
       "    }\n",
       "\n",
       "    .dataframe thead th {\n",
       "        text-align: right;\n",
       "    }\n",
       "</style>\n",
       "<table border=\"1\" class=\"dataframe\">\n",
       "  <thead>\n",
       "    <tr style=\"text-align: right;\">\n",
       "      <th></th>\n",
       "      <th>Unnamed: 0</th>\n",
       "      <th>Id</th>\n",
       "      <th>Text</th>\n",
       "    </tr>\n",
       "  </thead>\n",
       "  <tbody>\n",
       "    <tr>\n",
       "      <th>0</th>\n",
       "      <td>0</td>\n",
       "      <td>1</td>\n",
       "      <td>I have bought several of the Vitality canned d...</td>\n",
       "    </tr>\n",
       "    <tr>\n",
       "      <th>1</th>\n",
       "      <td>1</td>\n",
       "      <td>2</td>\n",
       "      <td>Product arrived labeled as Jumbo Salted Peanut...</td>\n",
       "    </tr>\n",
       "    <tr>\n",
       "      <th>2</th>\n",
       "      <td>2</td>\n",
       "      <td>3</td>\n",
       "      <td>This is a confection that has been around a fe...</td>\n",
       "    </tr>\n",
       "    <tr>\n",
       "      <th>3</th>\n",
       "      <td>3</td>\n",
       "      <td>4</td>\n",
       "      <td>If you are looking for the secret ingredient i...</td>\n",
       "    </tr>\n",
       "    <tr>\n",
       "      <th>4</th>\n",
       "      <td>4</td>\n",
       "      <td>5</td>\n",
       "      <td>Great taffy at a great price.  There was a wid...</td>\n",
       "    </tr>\n",
       "  </tbody>\n",
       "</table>\n",
       "</div>"
      ],
      "text/plain": [
       "   Unnamed: 0  Id                                               Text\n",
       "0           0   1  I have bought several of the Vitality canned d...\n",
       "1           1   2  Product arrived labeled as Jumbo Salted Peanut...\n",
       "2           2   3  This is a confection that has been around a fe...\n",
       "3           3   4  If you are looking for the secret ingredient i...\n",
       "4           4   5  Great taffy at a great price.  There was a wid..."
      ]
     },
     "execution_count": 47,
     "metadata": {
      "tags": []
     },
     "output_type": "execute_result"
    }
   ],
   "source": [
    "df.head()"
   ]
  },
  {
   "cell_type": "code",
   "execution_count": 55,
   "metadata": {
    "colab": {
     "base_uri": "https://localhost:8080/"
    },
    "id": "FkFHxSzqb3jX",
    "outputId": "27fd825c-976f-451d-ade7-d46b26821122"
   },
   "outputs": [
    {
     "data": {
      "text/plain": [
       "4          taffy\n",
       "4          price\n",
       "6        flavors\n",
       "27          deal\n",
       "28          that\n",
       "          ...   \n",
       "12363       milk\n",
       "12364    product\n",
       "12364        for\n",
       "12365    success\n",
       "12373       with\n",
       "Name: Text, Length: 2757, dtype: object"
      ]
     },
     "execution_count": 55,
     "metadata": {
      "tags": []
     },
     "output_type": "execute_result"
    }
   ],
   "source": [
    "df.Text.str.lower().str.findall('great (\\w+)').explode().dropna()"
   ]
  },
  {
   "cell_type": "code",
   "execution_count": 11,
   "metadata": {
    "colab": {
     "base_uri": "https://localhost:8080/"
    },
    "id": "NKXSMkCsX7V2",
    "outputId": "088c3bdc-ff09-4d92-909e-4f215aa25ba4"
   },
   "outputs": [
    {
     "data": {
      "text/plain": [
       "for            206\n",
       "product        198\n",
       "and            137\n",
       "price          133\n",
       "flavor          87\n",
       "              ... \n",
       "cocktails        1\n",
       "ways             1\n",
       "w                1\n",
       "age              1\n",
       "antioxidant      1\n",
       "Name: Text, Length: 526, dtype: int64"
      ]
     },
     "execution_count": 11,
     "metadata": {
      "tags": []
     },
     "output_type": "execute_result"
    }
   ],
   "source": [
    "# pandas has a string method that enables basic (and not so basic) operations on strings\n",
    "df.Text.str.lower().str.findall('great (\\w+)').explode().dropna().value_counts()"
   ]
  },
  {
   "cell_type": "code",
   "execution_count": 57,
   "metadata": {
    "colab": {
     "base_uri": "https://localhost:8080/"
    },
    "id": "5YI91eJgeKtw",
    "outputId": "d1be777d-0b97-46bd-9b7a-30e7a124b168"
   },
   "outputs": [
    {
     "data": {
      "text/plain": [
       "0        [I have bought several of the Vitality canned ...\n",
       "1        [Product arrived labeled as Jumbo Salted Peanu...\n",
       "2        [This is a confection that has been around a f...\n",
       "3        [If you are looking for the secret ingredient ...\n",
       "4        [Great taffy at a great price., There was a wi...\n",
       "                               ...                        \n",
       "12369    [we switched from the advance similac to the o...\n",
       "12370    [Like the bad reviews say, the organic formula...\n",
       "12371    [I wanted to solely breastfeed but was unable ...\n",
       "12372    [i love the fact that i can get this delieved ...\n",
       "12373    [We have a 7 week old..., He had gas and const...\n",
       "Name: Text, Length: 12374, dtype: object"
      ]
     },
     "execution_count": 57,
     "metadata": {
      "tags": []
     },
     "output_type": "execute_result"
    }
   ],
   "source": [
    "df.Text.apply(sent_tokenize)"
   ]
  },
  {
   "cell_type": "code",
   "execution_count": 62,
   "metadata": {
    "colab": {
     "base_uri": "https://localhost:8080/"
    },
    "id": "jIEW27YVe9ch",
    "outputId": "0f2ede8b-3e83-4fe4-8e66-7f9e8b4cae60"
   },
   "outputs": [
    {
     "data": {
      "text/plain": [
       "['I have bought several of the Vitality canned dog food products and have found them all to be of good quality. The product looks more like a stew than a processed meat and it smells better. My Labrador is finicky and she appreciates this product better than  most.',\n",
       " 'Product arrived labeled as Jumbo Salted Peanuts...the peanuts were actually small sized unsalted. Not sure if this was an error or if the vendor intended to represent the product as \"Jumbo\".',\n",
       " 'This is a confection that has been around a few centuries.  It is a light, pillowy citrus gelatin with nuts - in this case Filberts. And it is cut into tiny squares and then liberally coated with powdered sugar.  And it is a tiny mouthful of heaven.  Not too chewy, and very flavorful.  I highly recommend this yummy treat.  If you are familiar with the story of C.S. Lewis\\' \"The Lion, The Witch, and The Wardrobe\" - this is the treat that seduces Edmund into selling out his Brother and Sisters to the Witch.',\n",
       " 'If you are looking for the secret ingredient in Robitussin I believe I have found it.  I got this in addition to the Root Beer Extract I ordered (which was good) and made some cherry soda.  The flavor is very medicinal.',\n",
       " 'Great taffy at a great price.  There was a wide assortment of yummy taffy.  Delivery was very quick.  If your a taffy lover, this is a deal.',\n",
       " 'I got a wild hair for taffy and ordered this five pound bag. The taffy was all very enjoyable with many flavors: watermelon, root beer, melon, peppermint, grape, etc. My only complaint is there was a bit too much red/black licorice-flavored pieces (just not my particular favorites). Between me, my kids, and my husband, this lasted only two weeks! I would recommend this brand of taffy -- it was a delightful treat.',\n",
       " \"This saltwater taffy had great flavors and was very soft and chewy.  Each candy was individually wrapped well.  None of the candies were stuck together, which did happen in the expensive version, Fralinger's.  Would highly recommend this candy!  I served it at a beach-themed party and everyone loved it!\",\n",
       " 'This taffy is so good.  It is very soft and chewy.  The flavors are amazing.  I would definitely recommend you buying it.  Very satisfying!!',\n",
       " \"Right now I'm mostly just sprouting this so my cats can eat the grass. They love it. I rotate it around with Wheatgrass and Rye too\",\n",
       " 'This is a very healthy dog food. Good for their digestion. Also good for small puppies. My dog eats her required amount at every feeding.']"
      ]
     },
     "execution_count": 62,
     "metadata": {
      "tags": []
     },
     "output_type": "execute_result"
    }
   ],
   "source": [
    "list(df.Text)[:10]"
   ]
  },
  {
   "cell_type": "code",
   "execution_count": 59,
   "metadata": {
    "colab": {
     "base_uri": "https://localhost:8080/"
    },
    "id": "UJXazPvEefPf",
    "outputId": "cb4c568e-d342-4c25-e33c-856425dbae9e"
   },
   "outputs": [
    {
     "name": "stderr",
     "output_type": "stream",
     "text": [
      "100%|██████████| 1000000/1000000 [00:00<00:00, 3020968.79it/s]\n"
     ]
    }
   ],
   "source": [
    "for i in tqdm(range(1000000)):\n",
    "  pass"
   ]
  },
  {
   "cell_type": "code",
   "execution_count": 61,
   "metadata": {
    "colab": {
     "base_uri": "https://localhost:8080/"
    },
    "id": "HjYqobZ0Z9Yy",
    "outputId": "eb05971d-ea5f-4b6e-cf26-961e4784b8ce"
   },
   "outputs": [
    {
     "name": "stderr",
     "output_type": "stream",
     "text": [
      "/usr/local/lib/python3.7/dist-packages/tqdm/std.py:658: FutureWarning: The Panel class is removed from pandas. Accessing it from the top-level namespace will also be removed in the next version\n",
      "  from pandas import Panel\n",
      "100%|██████████| 12374/12374 [00:02<00:00, 6111.89it/s]\n"
     ]
    },
    {
     "data": {
      "text/plain": [
       "0        [I have bought several of the Vitality canned ...\n",
       "1        [Product arrived labeled as Jumbo Salted Peanu...\n",
       "2        [This is a confection that has been around a f...\n",
       "3        [If you are looking for the secret ingredient ...\n",
       "4        [Great taffy at a great price., There was a wi...\n",
       "                               ...                        \n",
       "12369    [we switched from the advance similac to the o...\n",
       "12370    [Like the bad reviews say, the organic formula...\n",
       "12371    [I wanted to solely breastfeed but was unable ...\n",
       "12372    [i love the fact that i can get this delieved ...\n",
       "12373    [We have a 7 week old..., He had gas and const...\n",
       "Name: Text, Length: 12374, dtype: object"
      ]
     },
     "execution_count": 61,
     "metadata": {
      "tags": []
     },
     "output_type": "execute_result"
    }
   ],
   "source": [
    "# showing how to get progress bars on jupyter notebook\n",
    "from tqdm import tqdm\n",
    "tqdm.pandas()\n",
    "\n",
    "df.Text.progress_apply(sent_tokenize)"
   ]
  }
 ],
 "metadata": {
  "colab": {
   "collapsed_sections": [],
   "name": "Text data (II) - Text normalization and language resources - Lab-SOLUTIONS.ipynb",
   "provenance": [],
   "toc_visible": true
  },
  "kernelspec": {
   "display_name": "Python 3",
   "language": "python",
   "name": "python3"
  },
  "language_info": {
   "codemirror_mode": {
    "name": "ipython",
    "version": 3
   },
   "file_extension": ".py",
   "mimetype": "text/x-python",
   "name": "python",
   "nbconvert_exporter": "python",
   "pygments_lexer": "ipython3",
   "version": "3.9.6"
  },
  "vscode": {
   "interpreter": {
    "hash": "11938c6bc6919ae2720b4d5011047913343b08a43b18698fd82dedb0d4417594"
   }
  }
 },
 "nbformat": 4,
 "nbformat_minor": 1
}
