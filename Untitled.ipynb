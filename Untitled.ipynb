{
 "cells": [
  {
   "cell_type": "code",
   "execution_count": 12,
   "metadata": {},
   "outputs": [
    {
     "ename": "SyntaxError",
     "evalue": "invalid syntax (<ipython-input-12-ec0879c8ae83>, line 11)",
     "output_type": "error",
     "traceback": [
      "\u001b[0;36m  File \u001b[0;32m\"<ipython-input-12-ec0879c8ae83>\"\u001b[0;36m, line \u001b[0;32m11\u001b[0m\n\u001b[0;31m    else:\u001b[0m\n\u001b[0m    ^\u001b[0m\n\u001b[0;31mSyntaxError\u001b[0m\u001b[0;31m:\u001b[0m invalid syntax\n"
     ]
    }
   ],
   "source": [
    "import pandas as pd\n",
    "def do_arithmetic(x,y,op):\n",
    "    '''\n",
    "    1) Please copy and pass your codes for do_arithmetic() function below.\n",
    "    2) Do required changes in function definition for the arguments if needed.\n",
    "    '''\n",
    "    ''' This function performs an arthematic operation, namely: Addition, Subsraction, Multiplication and division,it takes two numbers as its arguement and the third argument is the type of operation and returns the computed value according to the type of operation\n",
    "    '''\n",
    "    if pd.isnull(x) or pd.isnull(y):\n",
    "    return 'Please enter Valid Values'\n",
    "  else:\n",
    "    op1=op.lower()                                                   #Convert to lower case, in case of string.\n",
    "    x=float(x)\n",
    "    y=float(y)\n",
    "  if op1==\"add\" or op1== \"addition\" or op1==\"+\" or op1 == '':        #Check and perform addition\n",
    "    a= x + y\n",
    "    return a\n",
    "  elif op1==\"subtract\" or op1== \"subtraction\" or op1== \"-\":          #Check and perform substraction\n",
    "    s= x - y\n",
    "    return s\n",
    "  elif op1==\"multiply\" or op1== \"multiplication\" or op1== \"*\":       #Check and perform multiplication\n",
    "    m= x * y\n",
    "    return m\n",
    "  elif op1==\"divide\" or op1== \"division\" or op1==\"/\":                #Check and perform division\n",
    "    if y==0:                                                         #Check if the division is by 0\n",
    "      print(\"Division by 0!\")\n",
    "      return 'None'\n",
    "    else:\n",
    "      d= x / y\n",
    "      return d\n",
    "  else:                                                              # Check if the operation is not valid in the scope.\n",
    "    return 'Unknown Arithematic Operation'\n",
    "    pass\n",
    "\n",
    "def sum_of_digits(Sum_Digit):\n",
    "    '''\n",
    "    1) Please copy and pass your codes for sum_of_digits() function below.\n",
    "    2) Do required changes in function definition for the arguments if needed.\n",
    "    '''\n",
    "    \n",
    "    ''' This function takes a string as an arguement and and extract and count the number of digits in it, it also performs addition operation on the digits and returns the sum of the digits.'''\n",
    "    \n",
    "    if Sum_Digit == '' or pd.isnull(Sum_Digit):                                #Check for empty string\n",
    "    print(\"Empty string entered!\")\n",
    "    return 0\n",
    "  else:\n",
    "    a=\"\"\n",
    "    sum=0\n",
    "    b=0\n",
    "    non_digit=[]\n",
    "    if True in [chr.isdigit() for chr in Sum_Digit]:   #check the condition to find the digits in the string\n",
    "      for i in range(0,len(Sum_Digit)):                #Define the length of string\n",
    "        if Sum_Digit[i].isdigit():\n",
    "          a=a+Sum_Digit[i] + \"+\"                       #Store the extracted digits in a variable\n",
    "          sum=sum+int(Sum_Digit[i])                    #Perform Addition.\n",
    "          \n",
    "        else:\n",
    "          b=(Sum_Digit[i])                             #storing the non-digit in a varaible\n",
    "          non_digit.append(b)                          #pointing to the next index value\n",
    "          \n",
    "      print(\"The sum of digits operation performs \",a[:-1])\n",
    "      print(\"The extracted non-digits are: \",list(non_digit))\n",
    "      return sum\n",
    "    else:\n",
    "      for i in range(0,len(Sum_Digit)):\n",
    "        b=(Sum_Digit[i])\n",
    "        non_digit.append(b)\n",
    "      print(\"The sum of digits operation could not detect a digit!\")\n",
    "      print(\"The returned input letters are: \",list(non_digit))\n",
    "      return 0\n",
    "    pass\n"
   ]
  },
  {
   "cell_type": "code",
   "execution_count": null,
   "metadata": {},
   "outputs": [],
   "source": []
  }
 ],
 "metadata": {
  "kernelspec": {
   "display_name": "Python 3",
   "language": "python",
   "name": "python3"
  },
  "language_info": {
   "codemirror_mode": {
    "name": "ipython",
    "version": 3
   },
   "file_extension": ".py",
   "mimetype": "text/x-python",
   "name": "python",
   "nbconvert_exporter": "python",
   "pygments_lexer": "ipython3",
   "version": "3.8.3"
  }
 },
 "nbformat": 4,
 "nbformat_minor": 4
}
