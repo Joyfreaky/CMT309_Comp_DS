{
 "cells": [
  {
   "cell_type": "code",
   "execution_count": 2,
   "metadata": {},
   "outputs": [
    {
     "ename": "AttributeError",
     "evalue": "'list' object has no attribute 'read'",
     "output_type": "error",
     "traceback": [
      "\u001b[0;31m---------------------------------------------------------------------------\u001b[0m",
      "\u001b[0;31mAttributeError\u001b[0m                            Traceback (most recent call last)",
      "\u001b[0;32m<ipython-input-2-94ebc40d5eac>\u001b[0m in \u001b[0;36m<module>\u001b[0;34m\u001b[0m\n\u001b[1;32m     63\u001b[0m   \u001b[0;32mfor\u001b[0m \u001b[0mtest_noun\u001b[0m \u001b[0;32min\u001b[0m \u001b[0mTEST_CASES\u001b[0m\u001b[0;34m:\u001b[0m\u001b[0;34m\u001b[0m\u001b[0;34m\u001b[0m\u001b[0m\n\u001b[1;32m     64\u001b[0m \u001b[0;34m\u001b[0m\u001b[0m\n\u001b[0;32m---> 65\u001b[0;31m     \u001b[0mprint\u001b[0m\u001b[0;34m(\u001b[0m\u001b[0mtest_noun\u001b[0m\u001b[0;34m,\u001b[0m\u001b[0;34m'-->'\u001b[0m\u001b[0;34m,\u001b[0m\u001b[0mpluralize\u001b[0m\u001b[0;34m(\u001b[0m\u001b[0mtest_noun\u001b[0m\u001b[0;34m)\u001b[0m\u001b[0;34m)\u001b[0m\u001b[0;34m\u001b[0m\u001b[0;34m\u001b[0m\u001b[0m\n\u001b[0m\u001b[1;32m     66\u001b[0m     \u001b[0mprint\u001b[0m\u001b[0;34m(\u001b[0m\u001b[0;34m'----'\u001b[0m\u001b[0;34m)\u001b[0m\u001b[0;34m\u001b[0m\u001b[0;34m\u001b[0m\u001b[0m\n",
      "\u001b[0;32m<ipython-input-2-94ebc40d5eac>\u001b[0m in \u001b[0;36mpluralize\u001b[0;34m(word)\u001b[0m\n\u001b[1;32m      9\u001b[0m \u001b[0;34m\u001b[0m\u001b[0m\n\u001b[1;32m     10\u001b[0m   \u001b[0;32mfor\u001b[0m \u001b[0mi\u001b[0m \u001b[0;32min\u001b[0m \u001b[0mf\u001b[0m\u001b[0;34m:\u001b[0m\u001b[0;34m\u001b[0m\u001b[0;34m\u001b[0m\u001b[0m\n\u001b[0;32m---> 11\u001b[0;31m    \u001b[0mpropernoun\u001b[0m \u001b[0;34m=\u001b[0m \u001b[0mlist\u001b[0m\u001b[0;34m(\u001b[0m\u001b[0mf\u001b[0m\u001b[0;34m.\u001b[0m\u001b[0mread\u001b[0m\u001b[0;34m(\u001b[0m\u001b[0;34m)\u001b[0m\u001b[0;34m.\u001b[0m\u001b[0msplitlines\u001b[0m\u001b[0;34m(\u001b[0m\u001b[0;34m)\u001b[0m\u001b[0;34m)\u001b[0m\u001b[0;34m\u001b[0m\u001b[0;34m\u001b[0m\u001b[0m\n\u001b[0m\u001b[1;32m     12\u001b[0m   \u001b[0mword\u001b[0m\u001b[0;34m=\u001b[0m \u001b[0mword\u001b[0m\u001b[0;34m.\u001b[0m\u001b[0mlower\u001b[0m\u001b[0;34m(\u001b[0m\u001b[0;34m)\u001b[0m\u001b[0;34m\u001b[0m\u001b[0;34m\u001b[0m\u001b[0m\n\u001b[1;32m     13\u001b[0m   \u001b[0mword_in_plural\u001b[0m\u001b[0;34m=\u001b[0m\u001b[0;34m\"\"\u001b[0m\u001b[0;34m\u001b[0m\u001b[0;34m\u001b[0m\u001b[0m\n",
      "\u001b[0;31mAttributeError\u001b[0m: 'list' object has no attribute 'read'"
     ]
    }
   ],
   "source": [
    "def pluralize(word):\n",
    "  f = []\n",
    "  x = ''\n",
    "  word_in_plural = ''\n",
    "\n",
    "  with open(\"proper_nouns.txt\", \"r\") as file:\n",
    "    f = file.readlines()\n",
    "  file.close() \n",
    "\n",
    "  for i in f:\n",
    "   propernoun = list(f.read().splitlines())\n",
    "  word= word.lower() \n",
    "  word_in_plural=\"\"\n",
    "  x= \"\"\n",
    "  if word== \"\":\n",
    "    word_in_plural= \"\"\n",
    "    x= \"empty string\"\n",
    "\n",
    "  elif word.endswith(\"s\"):\n",
    "    word_in_plural= word\n",
    "    x=\"already in plural\"\n",
    "\n",
    "  elif word in propernoun:\n",
    "    word_in_plural = word\n",
    "    x= \"proper_noun\"\n",
    "  elif(word[-1]=='a'  or word[-1] =='e'  or word[-1]=='i' or word[-1]=='o'   or word[-1]=='u'):\n",
    "    word_in_plural= \"\".join((word, \"s\"))\n",
    "    x= \"success\"\n",
    "  elif(word[-1]== \"y\" and word[-2]!='a' and word[-2]!='e'  and word[-2]!='i' and word[-2]!='o'  and word[-2]!='u'):\n",
    "    word_in_plural= \"\".join((word[:-1], \"ies\"))\n",
    "    x=\"success\"\n",
    "  elif(word[-1]== 'f'):\n",
    "    word_in_plural= \"\".join((word[:-1], \"ves\"))\n",
    "    x= \"success\"\n",
    "  elif(word[-2:]== \"sh\" or word[-2:]== 'word[-1]' or word[-2:]=='z'):\n",
    "    word_in_plural= \"\".join((word, \"es\"))\n",
    "    x= \"success\"\n",
    "  else:\n",
    "    word_in_plural= \"\".join((word, \"s\"))\n",
    "    x= \"success\"\n",
    "   \n",
    "  y= {\"plural\":word_in_plural, \"status\":x}\n",
    "  return( y)\n",
    "\n",
    "\n",
    "### --- IMPORTANT: DO NOT REMOVE OR CHANGE THE CODE BELOW ---\n",
    "TEST_CASES = \"\"\"failure\n",
    "food\n",
    "Zulma\n",
    "injury\n",
    "elf\n",
    "buzz\n",
    "computers\n",
    "PCs\n",
    "\n",
    "highway\n",
    "presentation\n",
    "pouch\n",
    "adam\"\"\".split('\\n')\n",
    "\n",
    "if __name__ == '__main__':\n",
    "\n",
    "  for test_noun in TEST_CASES:\n",
    "\n",
    "    print(test_noun,'-->',pluralize(test_noun))\n",
    "    print('----')"
   ]
  },
  {
   "cell_type": "code",
   "execution_count": null,
   "metadata": {},
   "outputs": [],
   "source": []
  }
 ],
 "metadata": {
  "kernelspec": {
   "display_name": "Python 3",
   "language": "python",
   "name": "python3"
  },
  "language_info": {
   "codemirror_mode": {
    "name": "ipython",
    "version": 3
   },
   "file_extension": ".py",
   "mimetype": "text/x-python",
   "name": "python",
   "nbconvert_exporter": "python",
   "pygments_lexer": "ipython3",
   "version": "3.8.3"
  }
 },
 "nbformat": 4,
 "nbformat_minor": 4
}
