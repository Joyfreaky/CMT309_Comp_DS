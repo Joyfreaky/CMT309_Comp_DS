{
 "cells": [
  {
   "cell_type": "markdown",
   "metadata": {},
   "source": [
    "## Conditionals \n",
    "\n",
    "we will now look at conditional statements There are 3 types of conditionals\n",
    "\n",
    "1. if statement\n",
    "2. else statment\n",
    "3. elif statement\n"
   ]
  },
  {
   "cell_type": "code",
   "execution_count": 4,
   "metadata": {},
   "outputs": [
    {
     "name": "stdout",
     "output_type": "stream",
     "text": [
      "30 is greater than or equal to 10\n"
     ]
    }
   ],
   "source": [
    "i = 30\n",
    "\n",
    "if i<10:\n",
    "    print(i, 'is less than 10')\n",
    "    print('run this also')\n",
    "else:\n",
    "    print(i,'is greater than or equal to 10')\n"
   ]
  },
  {
   "cell_type": "code",
   "execution_count": 8,
   "metadata": {},
   "outputs": [
    {
     "name": "stdout",
     "output_type": "stream",
     "text": [
      "8 is between 3 and 10\n"
     ]
    }
   ],
   "source": [
    "i = 8\n",
    "if i > 10:\n",
    "    print(i,'is greater than 10')\n",
    "elif i <3:\n",
    "    print(i,'is less than 3')\n",
    "else:\n",
    "    print(i,'is between 3 and 10')\n",
    "    i=20\n",
    "    "
   ]
  },
  {
   "cell_type": "code",
   "execution_count": 9,
   "metadata": {},
   "outputs": [
    {
     "name": "stdout",
     "output_type": "stream",
     "text": [
      "20\n"
     ]
    }
   ],
   "source": [
    "print(i)"
   ]
  },
  {
   "cell_type": "code",
   "execution_count": null,
   "metadata": {},
   "outputs": [],
   "source": []
  }
 ],
 "metadata": {
  "kernelspec": {
   "display_name": "Python 3",
   "language": "python",
   "name": "python3"
  },
  "language_info": {
   "codemirror_mode": {
    "name": "ipython",
    "version": 3
   },
   "file_extension": ".py",
   "mimetype": "text/x-python",
   "name": "python",
   "nbconvert_exporter": "python",
   "pygments_lexer": "ipython3",
   "version": "3.8.3"
  }
 },
 "nbformat": 4,
 "nbformat_minor": 4
}
